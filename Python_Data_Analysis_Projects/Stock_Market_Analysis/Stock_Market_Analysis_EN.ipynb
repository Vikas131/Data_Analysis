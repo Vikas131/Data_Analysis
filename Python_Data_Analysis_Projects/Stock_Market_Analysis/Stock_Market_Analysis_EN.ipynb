{
 "cells": [
  {
   "cell_type": "markdown",
   "id": "3e467fe0-a009-4024-9bbc-705239c56f00",
   "metadata": {},
   "source": [
    "## Stock Market Analysis"
   ]
  },
  {
   "cell_type": "markdown",
   "id": "3be88c25-c025-4aa5-9cd7-4c22916a24b9",
   "metadata": {},
   "source": [
    "#### Overview:\n",
    "\n",
    "Stock Market Performance Analysis involves evaluating the performance of stocks and the overall stock market to make informed investment decisions.\n",
    "\n",
    "When it comes to data analysis, Stock Market Performance Analysis involves the use of various data-driven techniques and tools to examine and interpret stock market data.\n",
    "This time, we will be mainly calculating <b> moving averages, measuring volatility, conducting correlation analysis </b> and analyzing various aspects of the stock market to gain a deeper understanding of the factors that affect stock prices and the relationships between the stock prices of different companies."
   ]
  },
  {
   "cell_type": "markdown",
   "id": "08955d9a-a29e-435a-8bf3-3d0f7a33c3c7",
   "metadata": {},
   "source": [
    "We will use the <b> Yahoo finance API (yfinance) </b> to collect real-time stock market data for the past three months."
   ]
  },
  {
   "cell_type": "code",
   "execution_count": 26,
   "id": "5f329c40-8912-45f7-81ac-962c5c3cd489",
   "metadata": {},
   "outputs": [],
   "source": [
    "#import libraries\n",
    "import pandas as pd\n",
    "import yfinance as yf\n",
    "import datetime\n",
    "import plotly.express as px\n",
    "import seaborn as sns\n",
    "import numpy as np\n",
    "import matplotlib.pyplot as plt"
   ]
  },
  {
   "cell_type": "code",
   "execution_count": 27,
   "id": "7f1b4e0f-d4bc-486c-bab8-2ded52b8207c",
   "metadata": {},
   "outputs": [],
   "source": [
    "#import library to avoid warnings\n",
    "import warnings\n",
    "warnings.filterwarnings('ignore')"
   ]
  },
  {
   "cell_type": "markdown",
   "id": "1254ee80-8212-429b-996f-811cc51c3551",
   "metadata": {},
   "source": [
    "### 1. Retrieving data from Yfinance API"
   ]
  },
  {
   "cell_type": "markdown",
   "id": "bb4ab1aa-e47f-4503-b9a8-e65868a0b295",
   "metadata": {},
   "source": [
    "#### Toyota Motor Corporation (7203.T)\n",
    "\n",
    "#### Honda Motor Co., Ltd. (7267.T)\n",
    "\n",
    "#### Subaru Corporation (7270.T)\n",
    "\n",
    "#### Suzuki Motor Corporation (7269.T)"
   ]
  },
  {
   "cell_type": "code",
   "execution_count": 28,
   "id": "e12cd4c9-6d79-414b-8894-6cba1a55831d",
   "metadata": {},
   "outputs": [],
   "source": [
    "#Stock Code values for TOKYO STOCK EXCHANGE\n",
    "#stock_code = [\"7203.T\",\"7267.T\",\"7270.T\",\"7269.T\"]\n",
    "stock_code = {\"7203.T\":\"TOYOTA\",\"7267.T\":\"HONDA\",\"7270.T\":\"SUBARU\",\"7269.T\":\"SUZUKI\"}\n",
    "df_list = []"
   ]
  },
  {
   "cell_type": "markdown",
   "id": "e438a230-bf7b-484f-891b-0355fc0edebf",
   "metadata": {},
   "source": [
    "We will be appending stock data for previous 3months into a list"
   ]
  },
  {
   "cell_type": "code",
   "execution_count": 29,
   "id": "27bddb24-5bee-4199-920e-19d0cbf25914",
   "metadata": {},
   "outputs": [
    {
     "name": "stderr",
     "output_type": "stream",
     "text": [
      "[*********************100%%**********************]  1 of 1 completed\n",
      "[*********************100%%**********************]  1 of 1 completed\n",
      "[*********************100%%**********************]  1 of 1 completed\n",
      "[*********************100%%**********************]  1 of 1 completed\n"
     ]
    },
    {
     "data": {
      "text/plain": [
       "[              Open    High     Low   Close  Adj Close    Volume\n",
       " Date                                                           \n",
       " 2024-05-07  3650.0  3650.0  3562.0  3599.0     3599.0  25496600\n",
       " 2024-05-08  3547.0  3674.0  3453.0  3579.0     3579.0  68295000\n",
       " 2024-05-09  3595.0  3595.0  3473.0  3528.0     3528.0  40742400\n",
       " 2024-05-10  3504.0  3540.0  3386.0  3425.0     3425.0  50941700\n",
       " 2024-05-13  3417.0  3434.0  3351.0  3366.0     3366.0  30544300\n",
       " ...            ...     ...     ...     ...        ...       ...\n",
       " 2024-07-31  2929.0  2962.0  2870.5  2949.0     2949.0  46261100\n",
       " 2024-08-01  2901.0  2912.0  2698.0  2699.0     2699.0  80069400\n",
       " 2024-08-02  2576.0  2652.0  2538.0  2585.0     2585.0  69193000\n",
       " 2024-08-05  2450.0  2461.0  2183.0  2232.0     2232.0  83087200\n",
       " 2024-08-06  2532.0  2551.5  2405.0  2518.0     2518.0  68201400\n",
       " \n",
       " [65 rows x 6 columns],\n",
       "               Open    High     Low   Close  Adj Close    Volume\n",
       " Date                                                           \n",
       " 2024-05-07  1792.0  1794.0  1763.0  1773.5     1773.5   9936100\n",
       " 2024-05-08  1760.0  1765.0  1735.0  1750.0     1750.0  15307800\n",
       " 2024-05-09  1767.0  1767.0  1741.5  1748.0     1748.0   8269300\n",
       " 2024-05-10  1780.0  1780.0  1731.5  1736.5     1736.5  13551700\n",
       " 2024-05-13  1856.5  1856.5  1756.0  1756.0     1756.0  25708000\n",
       " ...            ...     ...     ...     ...        ...       ...\n",
       " 2024-07-31  1611.0  1655.0  1605.0  1647.0     1647.0  36506300\n",
       " 2024-08-01  1607.5  1627.5  1555.5  1575.0     1575.0  39400600\n",
       " 2024-08-02  1527.0  1547.0  1500.5  1522.0     1522.0  33654300\n",
       " 2024-08-05  1422.0  1436.0  1239.0  1251.5     1251.5  49034000\n",
       " 2024-08-06  1431.5  1493.0  1406.0  1435.5     1435.5  41128100\n",
       " \n",
       " [65 rows x 6 columns],\n",
       "               Open    High     Low   Close  Adj Close    Volume\n",
       " Date                                                           \n",
       " 2024-05-07  3455.0  3460.0  3367.0  3410.0     3410.0   2717400\n",
       " 2024-05-08  3375.0  3385.0  3318.0  3327.0     3327.0   3042800\n",
       " 2024-05-09  3331.0  3368.0  3303.0  3341.0     3341.0   1711700\n",
       " 2024-05-10  3341.0  3364.0  3297.0  3325.0     3325.0   2802100\n",
       " 2024-05-13  3286.0  3321.0  3122.0  3199.0     3199.0   9349200\n",
       " ...            ...     ...     ...     ...        ...       ...\n",
       " 2024-07-31  2933.5  2988.0  2905.0  2986.5     2986.5   3739800\n",
       " 2024-08-01  2816.5  2837.5  2723.5  2815.5     2815.5   5747400\n",
       " 2024-08-02  2715.5  2734.0  2634.5  2666.5     2666.5   4587900\n",
       " 2024-08-05  2400.0  2443.0  2166.5  2177.5     2177.5  12686800\n",
       " 2024-08-06  2377.5  2427.5  2307.5  2388.0     2388.0  10362900\n",
       " \n",
       " [65 rows x 6 columns],\n",
       "               Open    High     Low   Close  Adj Close    Volume\n",
       " Date                                                           \n",
       " 2024-05-07  1817.0  1819.5  1793.5  1806.5     1806.5   5935400\n",
       " 2024-05-08  1795.0  1797.0  1761.0  1767.5     1767.5   6507500\n",
       " 2024-05-09  1770.0  1788.0  1749.0  1767.5     1767.5   3646500\n",
       " 2024-05-10  1805.0  1809.0  1769.5  1787.0     1787.0   4795200\n",
       " 2024-05-13  1773.5  1787.0  1718.5  1737.5     1737.5   6417000\n",
       " ...            ...     ...     ...     ...        ...       ...\n",
       " 2024-07-31  1718.0  1766.5  1704.5  1759.5     1759.5   5660300\n",
       " 2024-08-01  1724.0  1766.0  1715.0  1754.5     1754.5   9611700\n",
       " 2024-08-02  1634.5  1649.0  1596.5  1616.0     1616.0  10052200\n",
       " 2024-08-05  1480.5  1528.5  1300.0  1346.5     1346.5  11304100\n",
       " 2024-08-06  1553.0  1600.0  1480.5  1575.5     1575.5  12888300\n",
       " \n",
       " [65 rows x 6 columns]]"
      ]
     },
     "execution_count": 29,
     "metadata": {},
     "output_type": "execute_result"
    }
   ],
   "source": [
    "#Fetch the data from YFinance API\n",
    "for ticker in stock_code:\n",
    "    data = yf.download(tickers=ticker,period=\"3mo\")\n",
    "    df_list.append(data)\n",
    "\n",
    "df_list"
   ]
  },
  {
   "cell_type": "markdown",
   "id": "8e48e4da-4f6c-4968-8828-f0f9b47ef6c0",
   "metadata": {},
   "source": [
    "Since the list contains data for each stock in a linear order, we will be using pandas concat method to create a dataframe from it.\n",
    "\n",
    "We will also reset the index of the dataframe."
   ]
  },
  {
   "cell_type": "code",
   "execution_count": 30,
   "id": "2fdf0bc3-a4a6-4ddb-b086-9ab4d34a74c7",
   "metadata": {},
   "outputs": [
    {
     "data": {
      "text/html": [
       "<div>\n",
       "<style scoped>\n",
       "    .dataframe tbody tr th:only-of-type {\n",
       "        vertical-align: middle;\n",
       "    }\n",
       "\n",
       "    .dataframe tbody tr th {\n",
       "        vertical-align: top;\n",
       "    }\n",
       "\n",
       "    .dataframe thead th {\n",
       "        text-align: right;\n",
       "    }\n",
       "</style>\n",
       "<table border=\"1\" class=\"dataframe\">\n",
       "  <thead>\n",
       "    <tr style=\"text-align: right;\">\n",
       "      <th></th>\n",
       "      <th>Ticker</th>\n",
       "      <th>Date</th>\n",
       "      <th>Open</th>\n",
       "      <th>High</th>\n",
       "      <th>Low</th>\n",
       "      <th>Close</th>\n",
       "      <th>Adj Close</th>\n",
       "      <th>Volume</th>\n",
       "    </tr>\n",
       "  </thead>\n",
       "  <tbody>\n",
       "    <tr>\n",
       "      <th>0</th>\n",
       "      <td>7203.T</td>\n",
       "      <td>2024-05-07</td>\n",
       "      <td>3650.0</td>\n",
       "      <td>3650.0</td>\n",
       "      <td>3562.0</td>\n",
       "      <td>3599.0</td>\n",
       "      <td>3599.0</td>\n",
       "      <td>25496600</td>\n",
       "    </tr>\n",
       "    <tr>\n",
       "      <th>1</th>\n",
       "      <td>7203.T</td>\n",
       "      <td>2024-05-08</td>\n",
       "      <td>3547.0</td>\n",
       "      <td>3674.0</td>\n",
       "      <td>3453.0</td>\n",
       "      <td>3579.0</td>\n",
       "      <td>3579.0</td>\n",
       "      <td>68295000</td>\n",
       "    </tr>\n",
       "    <tr>\n",
       "      <th>2</th>\n",
       "      <td>7203.T</td>\n",
       "      <td>2024-05-09</td>\n",
       "      <td>3595.0</td>\n",
       "      <td>3595.0</td>\n",
       "      <td>3473.0</td>\n",
       "      <td>3528.0</td>\n",
       "      <td>3528.0</td>\n",
       "      <td>40742400</td>\n",
       "    </tr>\n",
       "    <tr>\n",
       "      <th>3</th>\n",
       "      <td>7203.T</td>\n",
       "      <td>2024-05-10</td>\n",
       "      <td>3504.0</td>\n",
       "      <td>3540.0</td>\n",
       "      <td>3386.0</td>\n",
       "      <td>3425.0</td>\n",
       "      <td>3425.0</td>\n",
       "      <td>50941700</td>\n",
       "    </tr>\n",
       "    <tr>\n",
       "      <th>4</th>\n",
       "      <td>7203.T</td>\n",
       "      <td>2024-05-13</td>\n",
       "      <td>3417.0</td>\n",
       "      <td>3434.0</td>\n",
       "      <td>3351.0</td>\n",
       "      <td>3366.0</td>\n",
       "      <td>3366.0</td>\n",
       "      <td>30544300</td>\n",
       "    </tr>\n",
       "  </tbody>\n",
       "</table>\n",
       "</div>"
      ],
      "text/plain": [
       "   Ticker       Date    Open    High     Low   Close  Adj Close    Volume\n",
       "0  7203.T 2024-05-07  3650.0  3650.0  3562.0  3599.0     3599.0  25496600\n",
       "1  7203.T 2024-05-08  3547.0  3674.0  3453.0  3579.0     3579.0  68295000\n",
       "2  7203.T 2024-05-09  3595.0  3595.0  3473.0  3528.0     3528.0  40742400\n",
       "3  7203.T 2024-05-10  3504.0  3540.0  3386.0  3425.0     3425.0  50941700\n",
       "4  7203.T 2024-05-13  3417.0  3434.0  3351.0  3366.0     3366.0  30544300"
      ]
     },
     "execution_count": 30,
     "metadata": {},
     "output_type": "execute_result"
    }
   ],
   "source": [
    "#Concat the data and reset the index since it is a multi-level index\n",
    "stock_df = pd.concat(df_list,keys=stock_code.keys(),names=[\"Ticker\"])\n",
    "stock_df = stock_df.reset_index()\n",
    "stock_df.head()"
   ]
  },
  {
   "cell_type": "code",
   "execution_count": 31,
   "id": "312f8a9b-d2b5-44ea-aaa1-21171c208b28",
   "metadata": {},
   "outputs": [
    {
     "name": "stdout",
     "output_type": "stream",
     "text": [
      "<class 'pandas.core.frame.DataFrame'>\n",
      "RangeIndex: 260 entries, 0 to 259\n",
      "Data columns (total 8 columns):\n",
      " #   Column     Non-Null Count  Dtype         \n",
      "---  ------     --------------  -----         \n",
      " 0   Ticker     260 non-null    object        \n",
      " 1   Date       260 non-null    datetime64[ns]\n",
      " 2   Open       260 non-null    float64       \n",
      " 3   High       260 non-null    float64       \n",
      " 4   Low        260 non-null    float64       \n",
      " 5   Close      260 non-null    float64       \n",
      " 6   Adj Close  260 non-null    float64       \n",
      " 7   Volume     260 non-null    int64         \n",
      "dtypes: datetime64[ns](1), float64(5), int64(1), object(1)\n",
      "memory usage: 16.4+ KB\n"
     ]
    }
   ],
   "source": [
    "stock_df.info()"
   ]
  },
  {
   "cell_type": "code",
   "execution_count": 32,
   "id": "ee41ea13-8d2b-4011-a733-384d83ee14a8",
   "metadata": {},
   "outputs": [
    {
     "data": {
      "text/plain": [
       "(260, 8)"
      ]
     },
     "execution_count": 32,
     "metadata": {},
     "output_type": "execute_result"
    }
   ],
   "source": [
    "#size of the dataframe\n",
    "stock_df.shape"
   ]
  },
  {
   "cell_type": "code",
   "execution_count": 33,
   "id": "38476026-93f2-4a64-a461-e11d45e15245",
   "metadata": {},
   "outputs": [
    {
     "data": {
      "text/plain": [
       "Ticker       0\n",
       "Date         0\n",
       "Open         0\n",
       "High         0\n",
       "Low          0\n",
       "Close        0\n",
       "Adj Close    0\n",
       "Volume       0\n",
       "dtype: int64"
      ]
     },
     "execution_count": 33,
     "metadata": {},
     "output_type": "execute_result"
    }
   ],
   "source": [
    "#to check if there are any null values\n",
    "stock_df.isnull().sum()"
   ]
  },
  {
   "cell_type": "markdown",
   "id": "0c57279a-8b8c-445b-b22e-955bd8fa763d",
   "metadata": {},
   "source": [
    "Since its hard & confusing to remember the company name using stock code, we will be replacing the stock codes with the respective company names"
   ]
  },
  {
   "cell_type": "code",
   "execution_count": 34,
   "id": "24f16d9e-58a3-4e3d-8a2d-7258e7df0fc5",
   "metadata": {},
   "outputs": [
    {
     "data": {
      "text/html": [
       "<div>\n",
       "<style scoped>\n",
       "    .dataframe tbody tr th:only-of-type {\n",
       "        vertical-align: middle;\n",
       "    }\n",
       "\n",
       "    .dataframe tbody tr th {\n",
       "        vertical-align: top;\n",
       "    }\n",
       "\n",
       "    .dataframe thead th {\n",
       "        text-align: right;\n",
       "    }\n",
       "</style>\n",
       "<table border=\"1\" class=\"dataframe\">\n",
       "  <thead>\n",
       "    <tr style=\"text-align: right;\">\n",
       "      <th></th>\n",
       "      <th>Ticker</th>\n",
       "      <th>Date</th>\n",
       "      <th>Open</th>\n",
       "      <th>High</th>\n",
       "      <th>Low</th>\n",
       "      <th>Close</th>\n",
       "      <th>Adj Close</th>\n",
       "      <th>Volume</th>\n",
       "    </tr>\n",
       "  </thead>\n",
       "  <tbody>\n",
       "    <tr>\n",
       "      <th>0</th>\n",
       "      <td>TOYOTA</td>\n",
       "      <td>2024-05-07</td>\n",
       "      <td>3650.0</td>\n",
       "      <td>3650.0</td>\n",
       "      <td>3562.0</td>\n",
       "      <td>3599.0</td>\n",
       "      <td>3599.0</td>\n",
       "      <td>25496600</td>\n",
       "    </tr>\n",
       "    <tr>\n",
       "      <th>1</th>\n",
       "      <td>TOYOTA</td>\n",
       "      <td>2024-05-08</td>\n",
       "      <td>3547.0</td>\n",
       "      <td>3674.0</td>\n",
       "      <td>3453.0</td>\n",
       "      <td>3579.0</td>\n",
       "      <td>3579.0</td>\n",
       "      <td>68295000</td>\n",
       "    </tr>\n",
       "    <tr>\n",
       "      <th>2</th>\n",
       "      <td>TOYOTA</td>\n",
       "      <td>2024-05-09</td>\n",
       "      <td>3595.0</td>\n",
       "      <td>3595.0</td>\n",
       "      <td>3473.0</td>\n",
       "      <td>3528.0</td>\n",
       "      <td>3528.0</td>\n",
       "      <td>40742400</td>\n",
       "    </tr>\n",
       "    <tr>\n",
       "      <th>3</th>\n",
       "      <td>TOYOTA</td>\n",
       "      <td>2024-05-10</td>\n",
       "      <td>3504.0</td>\n",
       "      <td>3540.0</td>\n",
       "      <td>3386.0</td>\n",
       "      <td>3425.0</td>\n",
       "      <td>3425.0</td>\n",
       "      <td>50941700</td>\n",
       "    </tr>\n",
       "    <tr>\n",
       "      <th>4</th>\n",
       "      <td>TOYOTA</td>\n",
       "      <td>2024-05-13</td>\n",
       "      <td>3417.0</td>\n",
       "      <td>3434.0</td>\n",
       "      <td>3351.0</td>\n",
       "      <td>3366.0</td>\n",
       "      <td>3366.0</td>\n",
       "      <td>30544300</td>\n",
       "    </tr>\n",
       "  </tbody>\n",
       "</table>\n",
       "</div>"
      ],
      "text/plain": [
       "   Ticker       Date    Open    High     Low   Close  Adj Close    Volume\n",
       "0  TOYOTA 2024-05-07  3650.0  3650.0  3562.0  3599.0     3599.0  25496600\n",
       "1  TOYOTA 2024-05-08  3547.0  3674.0  3453.0  3579.0     3579.0  68295000\n",
       "2  TOYOTA 2024-05-09  3595.0  3595.0  3473.0  3528.0     3528.0  40742400\n",
       "3  TOYOTA 2024-05-10  3504.0  3540.0  3386.0  3425.0     3425.0  50941700\n",
       "4  TOYOTA 2024-05-13  3417.0  3434.0  3351.0  3366.0     3366.0  30544300"
      ]
     },
     "execution_count": 34,
     "metadata": {},
     "output_type": "execute_result"
    }
   ],
   "source": [
    "#replace the stock codes in the data frame with respective company name\n",
    "stock_df.replace(to_replace=stock_code.keys(),value=stock_code.values(),inplace=True)\n",
    "stock_df.head()"
   ]
  },
  {
   "cell_type": "markdown",
   "id": "ea2f6f37-1603-44e0-8a18-a7c972627c4c",
   "metadata": {},
   "source": [
    "### 2. Performance in the stock market of all the companies"
   ]
  },
  {
   "cell_type": "code",
   "execution_count": 35,
   "id": "11ceadf2-2cf5-43da-86d4-390d22895761",
   "metadata": {},
   "outputs": [
    {
     "data": {
      "image/svg+xml": [
       "<svg class=\"main-svg\" xmlns=\"http://www.w3.org/2000/svg\" xmlns:xlink=\"http://www.w3.org/1999/xlink\" width=\"700\" height=\"500\" style=\"\" viewBox=\"0 0 700 500\"><rect x=\"0\" y=\"0\" width=\"700\" height=\"500\" style=\"fill: rgb(255, 255, 255); fill-opacity: 1;\"/><defs id=\"defs-fd91ca\"><g class=\"clips\"><clipPath id=\"clipfd91caxyplot\" class=\"plotclip\"><rect width=\"502\" height=\"320\"/></clipPath><clipPath class=\"axesclip\" id=\"clipfd91cax\"><rect x=\"80\" y=\"0\" width=\"502\" height=\"500\"/></clipPath><clipPath class=\"axesclip\" id=\"clipfd91cay\"><rect x=\"0\" y=\"100\" width=\"700\" height=\"320\"/></clipPath><clipPath class=\"axesclip\" id=\"clipfd91caxy\"><rect x=\"80\" y=\"100\" width=\"502\" height=\"320\"/></clipPath></g><g class=\"gradients\"/><g class=\"patterns\"/></defs><g class=\"bglayer\"><rect class=\"bg\" x=\"80\" y=\"100\" width=\"502\" height=\"320\" style=\"fill: rgb(229, 236, 246); fill-opacity: 1; stroke-width: 0;\"/></g><g class=\"layer-below\"><g class=\"imagelayer\"/><g class=\"shapelayer\"/></g><g class=\"cartesianlayer\"><g class=\"subplot xy\"><g class=\"layer-subplot\"><g class=\"shapelayer\"/><g class=\"imagelayer\"/></g><g class=\"minor-gridlayer\"><g class=\"x\"/><g class=\"y\"/></g><g class=\"gridlayer\"><g class=\"x\"><path class=\"xgrid crisp\" transform=\"translate(146.2,0)\" d=\"M0,100v320\" style=\"stroke: rgb(255, 255, 255); stroke-opacity: 1; stroke-width: 1px;\"/><path class=\"xgrid crisp\" transform=\"translate(223.43,0)\" d=\"M0,100v320\" style=\"stroke: rgb(255, 255, 255); stroke-opacity: 1; stroke-width: 1px;\"/><path class=\"xgrid crisp\" transform=\"translate(300.65999999999997,0)\" d=\"M0,100v320\" style=\"stroke: rgb(255, 255, 255); stroke-opacity: 1; stroke-width: 1px;\"/><path class=\"xgrid crisp\" transform=\"translate(377.89,0)\" d=\"M0,100v320\" style=\"stroke: rgb(255, 255, 255); stroke-opacity: 1; stroke-width: 1px;\"/><path class=\"xgrid crisp\" transform=\"translate(455.12,0)\" d=\"M0,100v320\" style=\"stroke: rgb(255, 255, 255); stroke-opacity: 1; stroke-width: 1px;\"/><path class=\"xgrid crisp\" transform=\"translate(532.35,0)\" d=\"M0,100v320\" style=\"stroke: rgb(255, 255, 255); stroke-opacity: 1; stroke-width: 1px;\"/></g><g class=\"y\"><path class=\"ygrid crisp\" transform=\"translate(0,373.62)\" d=\"M80,0h502\" style=\"stroke: rgb(255, 255, 255); stroke-opacity: 1; stroke-width: 1px;\"/><path class=\"ygrid crisp\" transform=\"translate(0,312.48)\" d=\"M80,0h502\" style=\"stroke: rgb(255, 255, 255); stroke-opacity: 1; stroke-width: 1px;\"/><path class=\"ygrid crisp\" transform=\"translate(0,251.35)\" d=\"M80,0h502\" style=\"stroke: rgb(255, 255, 255); stroke-opacity: 1; stroke-width: 1px;\"/><path class=\"ygrid crisp\" transform=\"translate(0,190.22)\" d=\"M80,0h502\" style=\"stroke: rgb(255, 255, 255); stroke-opacity: 1; stroke-width: 1px;\"/><path class=\"ygrid crisp\" transform=\"translate(0,129.07999999999998)\" d=\"M80,0h502\" style=\"stroke: rgb(255, 255, 255); stroke-opacity: 1; stroke-width: 1px;\"/></g></g><g class=\"zerolinelayer\"/><path class=\"xlines-below\"/><path class=\"ylines-below\"/><g class=\"overlines-below\"/><g class=\"xaxislayer-below\"/><g class=\"yaxislayer-below\"/><g class=\"overaxes-below\"/><g class=\"plot\" transform=\"translate(80,100)\" clip-path=\"url(#clipfd91caxyplot)\"><g class=\"scatterlayer mlayer\"><g class=\"trace scatter trace303762\" style=\"stroke-miterlimit: 2; opacity: 1;\"><g class=\"fills\"/><g class=\"errorbars\"/><g class=\"lines\"><path class=\"js-line\" d=\"M0,16.98L5.52,19.42L11.03,25.66L16.55,38.25L33.1,45.47L44.13,40.33L49.65,47.18L55.16,36.91L71.71,35.56L77.23,36.79L82.75,42.78L88.26,40.94L93.78,42.17L110.33,35.2L115.85,35.44L126.88,49.87L132.4,41.19L148.95,48.52L154.46,53.78L159.98,63.56L165.49,56.84L171.01,63.44L187.56,56.96L193.08,59.16L198.59,64.66L204.11,74.57L209.63,76.03L226.18,85.81L231.69,83.86L237.21,77.13L242.73,79.95L248.24,81.17L264.79,71.88L270.31,54.03L275.82,56.47L281.34,58.06L286.86,54.76L303.41,55.49L308.92,49.5L314.44,50.48L319.96,42.41L325.47,51.21L342.02,55.37L347.54,57.2L353.05,54.64L364.09,56.71L386.15,57.33L391.67,59.16L397.19,72.98L402.7,73.95L419.25,79.21L424.77,76.89L430.29,77.99L435.8,87.77L441.32,101.34L457.87,94.25L463.38,90.64L468.9,96.45L474.42,127.02L496.48,184.12L502,149.15\" style=\"vector-effect: non-scaling-stroke; fill: none; stroke: rgb(99, 110, 250); stroke-opacity: 1; stroke-width: 2px; opacity: 1;\"/></g><g class=\"points\"/><g class=\"text\"/></g><g class=\"trace scatter trace479237\" style=\"stroke-miterlimit: 2; opacity: 1;\"><g class=\"fills\"/><g class=\"errorbars\"/><g class=\"lines\"><path class=\"js-line\" d=\"M0,240.18L5.52,243.05L11.03,243.29L16.55,244.7L33.1,242.32L38.62,243.54L44.13,242.99L49.65,248.12L55.16,245.86L71.71,240.6L77.23,243.6L82.75,245.74L88.26,245.31L115.85,243.17L121.36,244.27L126.88,245.43L132.4,240.67L148.95,241.15L154.46,245.98L159.98,253.08L165.49,251.79L171.01,253.14L187.56,248.19L198.59,248.19L204.11,251.06L209.63,249.71L226.18,256.19L231.69,252.83L237.21,251.49L242.73,253.63L248.24,254.05L264.79,250.63L270.31,245.5L275.82,246.96L281.34,247.63L286.86,246.72L303.41,241.77L308.92,244.88L314.44,244.46L319.96,238.04L325.47,245.13L342.02,249.16L347.54,248.98L353.05,248.8L358.57,246.29L364.09,248.74L386.15,248.55L391.67,247.21L397.19,253.44L402.7,253.5L419.25,252.71L424.77,252.34L430.29,257.72L435.8,263.22L441.32,263.77L468.9,255.64L474.42,264.45L479.93,270.93L496.48,304L502,281.5\" style=\"vector-effect: non-scaling-stroke; fill: none; stroke: rgb(239, 85, 59); stroke-opacity: 1; stroke-width: 2px; opacity: 1;\"/></g><g class=\"points\"/><g class=\"text\"/></g><g class=\"trace scatter trace339563\" style=\"stroke-miterlimit: 2; opacity: 1;\"><g class=\"fills\"/><g class=\"errorbars\"/><g class=\"lines\"><path class=\"js-line\" d=\"M0,40.09L5.52,50.23L11.03,48.52L16.55,50.48L33.1,65.88L38.62,55.74L44.13,51.34L49.65,59.28L55.16,63.32L77.23,47.42L82.75,49.01L88.26,48.89L93.78,51.21L110.33,45.1L115.85,37.15L121.36,39.48L126.88,35.56L132.4,29.08L148.95,22.48L154.46,30.67L159.98,45.96L165.49,48.52L171.01,45.34L187.56,38.13L193.08,41.19L198.59,41.55L204.11,49.99L209.63,55.86L226.18,58.18L231.69,46.2L237.21,43.75L242.73,44.86L248.24,47.91L264.79,46.93L270.31,35.44L275.82,41.31L281.34,45.47L286.86,40.09L303.41,41.55L308.92,32.87L314.44,31.65L319.96,16L325.47,30.31L342.02,32.14L347.54,37.27L353.05,35.56L358.57,25.54L364.09,42.41L386.15,43.51L391.67,51.46L397.19,64.42L402.7,69.8L419.25,74.93L424.77,72.98L430.29,86.67L435.8,102.01L441.32,104.34L457.87,98.41L463.38,92.23L468.9,91.87L474.42,112.77L479.93,130.99L496.48,190.78L502,165.04\" style=\"vector-effect: non-scaling-stroke; fill: none; stroke: rgb(0, 204, 150); stroke-opacity: 1; stroke-width: 2px; opacity: 1;\"/></g><g class=\"points\"/><g class=\"text\"/></g><g class=\"trace scatter trace971c5b\" style=\"stroke-miterlimit: 2; opacity: 1;\"><g class=\"fills\"/><g class=\"errorbars\"/><g class=\"lines\"><path class=\"js-line\" d=\"M0,236.14L5.52,240.91L11.03,240.91L16.55,238.53L33.1,244.58L38.62,231.07L44.13,230.82L49.65,238.77L55.16,238.65L71.71,232.23L77.23,231.37L82.75,232.78L88.26,230.82L93.78,229.23L110.33,226.18L115.85,227.34L121.36,229.72L126.88,230.82L132.4,229.17L148.95,225.75L154.46,230.03L159.98,229.72L165.49,232.05L171.01,229.78L187.56,227.03L193.08,223.67L198.59,224.16L204.11,228.13L209.63,230.21L226.18,238.46L231.69,235.84L237.21,230.46L242.73,233.21L248.24,234.92L264.79,236.45L270.31,234.12L275.82,235.04L281.34,236.51L286.86,230.7L303.41,232.84L308.92,234.49L314.44,239.63L319.96,235.35L325.47,237.3L342.02,239.38L347.54,231.92L353.05,222.33L358.57,218.11L364.09,227.09L391.67,224.65L397.19,232.9L424.77,232.78L430.29,239.57L435.8,249.04L441.32,250.81L457.87,242.74L463.38,242.07L468.9,241.89L474.42,242.5L479.93,259.43L496.48,292.38L502,264.39\" style=\"vector-effect: non-scaling-stroke; fill: none; stroke: rgb(171, 99, 250); stroke-opacity: 1; stroke-width: 2px; opacity: 1;\"/></g><g class=\"points\"/><g class=\"text\"/></g></g></g><g class=\"overplot\"/><path class=\"xlines-above crisp\" d=\"M0,0\" style=\"fill: none;\"/><path class=\"ylines-above crisp\" d=\"M0,0\" style=\"fill: none;\"/><g class=\"overlines-above\"/><g class=\"xaxislayer-above\"><g class=\"xtick\"><text text-anchor=\"middle\" x=\"0\" y=\"433\" transform=\"translate(146.2,0)\" style=\"font-family: 'Open Sans', verdana, arial, sans-serif; font-size: 12px; fill: rgb(42, 63, 95); fill-opacity: 1; white-space: pre; opacity: 1;\"><tspan class=\"line\" dy=\"0em\" x=\"0\" y=\"433\">May 19</tspan><tspan class=\"line\" dy=\"1.3em\" x=\"0\" y=\"433\">2024</tspan></text></g><g class=\"xtick\"><text text-anchor=\"middle\" x=\"0\" y=\"433\" style=\"font-family: 'Open Sans', verdana, arial, sans-serif; font-size: 12px; fill: rgb(42, 63, 95); fill-opacity: 1; white-space: pre; opacity: 1;\" transform=\"translate(223.43,0)\">Jun 2</text></g><g class=\"xtick\"><text text-anchor=\"middle\" x=\"0\" y=\"433\" style=\"font-family: 'Open Sans', verdana, arial, sans-serif; font-size: 12px; fill: rgb(42, 63, 95); fill-opacity: 1; white-space: pre; opacity: 1;\" transform=\"translate(300.65999999999997,0)\">Jun 16</text></g><g class=\"xtick\"><text text-anchor=\"middle\" x=\"0\" y=\"433\" style=\"font-family: 'Open Sans', verdana, arial, sans-serif; font-size: 12px; fill: rgb(42, 63, 95); fill-opacity: 1; white-space: pre; opacity: 1;\" transform=\"translate(377.89,0)\">Jun 30</text></g><g class=\"xtick\"><text text-anchor=\"middle\" x=\"0\" y=\"433\" style=\"font-family: 'Open Sans', verdana, arial, sans-serif; font-size: 12px; fill: rgb(42, 63, 95); fill-opacity: 1; white-space: pre; opacity: 1;\" transform=\"translate(455.12,0)\">Jul 14</text></g><g class=\"xtick\"><text text-anchor=\"middle\" x=\"0\" y=\"433\" style=\"font-family: 'Open Sans', verdana, arial, sans-serif; font-size: 12px; fill: rgb(42, 63, 95); fill-opacity: 1; white-space: pre; opacity: 1;\" transform=\"translate(532.35,0)\">Jul 28</text></g></g><g class=\"yaxislayer-above\"><g class=\"ytick\"><text text-anchor=\"end\" x=\"79\" y=\"4.199999999999999\" transform=\"translate(0,373.62)\" style=\"font-family: 'Open Sans', verdana, arial, sans-serif; font-size: 12px; fill: rgb(42, 63, 95); fill-opacity: 1; white-space: pre; opacity: 1;\">1500</text></g><g class=\"ytick\"><text text-anchor=\"end\" x=\"79\" y=\"4.199999999999999\" style=\"font-family: 'Open Sans', verdana, arial, sans-serif; font-size: 12px; fill: rgb(42, 63, 95); fill-opacity: 1; white-space: pre; opacity: 1;\" transform=\"translate(0,312.48)\">2000</text></g><g class=\"ytick\"><text text-anchor=\"end\" x=\"79\" y=\"4.199999999999999\" style=\"font-family: 'Open Sans', verdana, arial, sans-serif; font-size: 12px; fill: rgb(42, 63, 95); fill-opacity: 1; white-space: pre; opacity: 1;\" transform=\"translate(0,251.35)\">2500</text></g><g class=\"ytick\"><text text-anchor=\"end\" x=\"79\" y=\"4.199999999999999\" style=\"font-family: 'Open Sans', verdana, arial, sans-serif; font-size: 12px; fill: rgb(42, 63, 95); fill-opacity: 1; white-space: pre; opacity: 1;\" transform=\"translate(0,190.22)\">3000</text></g><g class=\"ytick\"><text text-anchor=\"end\" x=\"79\" y=\"4.199999999999999\" style=\"font-family: 'Open Sans', verdana, arial, sans-serif; font-size: 12px; fill: rgb(42, 63, 95); fill-opacity: 1; white-space: pre; opacity: 1;\" transform=\"translate(0,129.07999999999998)\">3500</text></g></g><g class=\"overaxes-above\"/></g></g><g class=\"polarlayer\"/><g class=\"smithlayer\"/><g class=\"ternarylayer\"/><g class=\"geolayer\"/><g class=\"funnelarealayer\"/><g class=\"pielayer\"/><g class=\"iciclelayer\"/><g class=\"treemaplayer\"/><g class=\"sunburstlayer\"/><g class=\"glimages\"/><defs id=\"topdefs-fd91ca\"><g class=\"clips\"/><clipPath id=\"legendfd91ca\"><rect width=\"96\" height=\"105\" x=\"0\" y=\"0\"/></clipPath></defs><g class=\"layer-above\"><g class=\"imagelayer\"/><g class=\"shapelayer\"/></g><g class=\"infolayer\"><g class=\"legend\" pointer-events=\"all\" transform=\"translate(592.04,100)\"><rect class=\"bg\" shape-rendering=\"crispEdges\" width=\"96\" height=\"105\" x=\"0\" y=\"0\" style=\"stroke: rgb(68, 68, 68); stroke-opacity: 1; fill: rgb(255, 255, 255); fill-opacity: 1; stroke-width: 0px;\"/><g class=\"scrollbox\" transform=\"\" clip-path=\"url(#legendfd91ca)\"><text class=\"legendtitletext\" text-anchor=\"start\" x=\"2\" y=\"18.2\" style=\"font-family: 'Open Sans', verdana, arial, sans-serif; font-size: 14px; fill: rgb(42, 63, 95); fill-opacity: 1; white-space: pre;\">Company</text><g class=\"groups\" transform=\"\"><g class=\"traces\" transform=\"translate(0,32.7)\" style=\"opacity: 1;\"><text class=\"legendtext\" text-anchor=\"start\" x=\"40\" y=\"4.680000000000001\" style=\"font-family: 'Open Sans', verdana, arial, sans-serif; font-size: 12px; fill: rgb(42, 63, 95); fill-opacity: 1; white-space: pre;\">TOYOTA</text><g class=\"layers\" style=\"opacity: 1;\"><g class=\"legendfill\"/><g class=\"legendlines\"><path class=\"js-line\" d=\"M5,0h30\" style=\"fill: none; stroke: rgb(99, 110, 250); stroke-opacity: 1; stroke-width: 2px;\"/></g><g class=\"legendsymbols\"><g class=\"legendpoints\"/></g></g><rect class=\"legendtoggle\" x=\"0\" y=\"-9.5\" width=\"90.765625\" height=\"19\" style=\"fill: rgb(0, 0, 0); fill-opacity: 0;\"/></g></g><g class=\"groups\" transform=\"\"><g class=\"traces\" transform=\"translate(0,51.7)\" style=\"opacity: 1;\"><text class=\"legendtext\" text-anchor=\"start\" x=\"40\" y=\"4.680000000000001\" style=\"font-family: 'Open Sans', verdana, arial, sans-serif; font-size: 12px; fill: rgb(42, 63, 95); fill-opacity: 1; white-space: pre;\">HONDA</text><g class=\"layers\" style=\"opacity: 1;\"><g class=\"legendfill\"/><g class=\"legendlines\"><path class=\"js-line\" d=\"M5,0h30\" style=\"fill: none; stroke: rgb(239, 85, 59); stroke-opacity: 1; stroke-width: 2px;\"/></g><g class=\"legendsymbols\"><g class=\"legendpoints\"/></g></g><rect class=\"legendtoggle\" x=\"0\" y=\"-9.5\" width=\"90.765625\" height=\"19\" style=\"fill: rgb(0, 0, 0); fill-opacity: 0;\"/></g></g><g class=\"groups\" transform=\"\"><g class=\"traces\" transform=\"translate(0,70.7)\" style=\"opacity: 1;\"><text class=\"legendtext\" text-anchor=\"start\" x=\"40\" y=\"4.680000000000001\" style=\"font-family: 'Open Sans', verdana, arial, sans-serif; font-size: 12px; fill: rgb(42, 63, 95); fill-opacity: 1; white-space: pre;\">SUBARU</text><g class=\"layers\" style=\"opacity: 1;\"><g class=\"legendfill\"/><g class=\"legendlines\"><path class=\"js-line\" d=\"M5,0h30\" style=\"fill: none; stroke: rgb(0, 204, 150); stroke-opacity: 1; stroke-width: 2px;\"/></g><g class=\"legendsymbols\"><g class=\"legendpoints\"/></g></g><rect class=\"legendtoggle\" x=\"0\" y=\"-9.5\" width=\"90.765625\" height=\"19\" style=\"fill: rgb(0, 0, 0); fill-opacity: 0;\"/></g></g><g class=\"groups\" transform=\"\"><g class=\"traces\" transform=\"translate(0,89.7)\" style=\"opacity: 1;\"><text class=\"legendtext\" text-anchor=\"start\" x=\"40\" y=\"4.680000000000001\" style=\"font-family: 'Open Sans', verdana, arial, sans-serif; font-size: 12px; fill: rgb(42, 63, 95); fill-opacity: 1; white-space: pre;\">SUZUKI</text><g class=\"layers\" style=\"opacity: 1;\"><g class=\"legendfill\"/><g class=\"legendlines\"><path class=\"js-line\" d=\"M5,0h30\" style=\"fill: none; stroke: rgb(171, 99, 250); stroke-opacity: 1; stroke-width: 2px;\"/></g><g class=\"legendsymbols\"><g class=\"legendpoints\"/></g></g><rect class=\"legendtoggle\" x=\"0\" y=\"-9.5\" width=\"90.765625\" height=\"19\" style=\"fill: rgb(0, 0, 0); fill-opacity: 0;\"/></g></g></g><rect class=\"scrollbar\" rx=\"20\" ry=\"3\" width=\"0\" height=\"0\" x=\"0\" y=\"0\" style=\"fill: rgb(128, 139, 164); fill-opacity: 1;\"/></g><g class=\"g-gtitle\"><text class=\"gtitle\" x=\"35\" y=\"50\" text-anchor=\"start\" dy=\"0em\" style=\"font-family: 'Open Sans', verdana, arial, sans-serif; font-size: 17px; fill: rgb(42, 63, 95); opacity: 1; font-weight: normal; white-space: pre;\">Stock Market Performance for the past 3 Months</text></g><g class=\"g-xtitle\"><text class=\"xtitle\" x=\"331\" y=\"476.409375\" text-anchor=\"middle\" style=\"font-family: 'Open Sans', verdana, arial, sans-serif; font-size: 14px; fill: rgb(42, 63, 95); opacity: 1; font-weight: normal; white-space: pre;\">Date</text></g><g class=\"g-ytitle\"><text class=\"ytitle\" transform=\"rotate(-90,23.684375000000003,260)\" x=\"23.684375000000003\" y=\"260\" text-anchor=\"middle\" style=\"font-family: 'Open Sans', verdana, arial, sans-serif; font-size: 14px; fill: rgb(42, 63, 95); opacity: 1; font-weight: normal; white-space: pre;\">Closing Price</text></g></g></svg>"
      ]
     },
     "metadata": {},
     "output_type": "display_data"
    }
   ],
   "source": [
    "#Plot a line graph to display the performance of the companies\n",
    "fig = px.line(data_frame=stock_df,x=\"Date\",y=\"Close\",color=\"Ticker\",labels={\"Ticker\":\"Company\",\"Close\":\"Closing Price\"},title=\"Stock Market Performance for the past 3 Months\")\n",
    "fig.show(\"svg\")"
   ]
  },
  {
   "cell_type": "code",
   "execution_count": 36,
   "id": "498498ba-5320-41b1-8bb5-3ce7e243068a",
   "metadata": {},
   "outputs": [
    {
     "data": {
      "text/plain": [
       "array(['TOYOTA', 'HONDA', 'SUBARU', 'SUZUKI'], dtype=object)"
      ]
     },
     "execution_count": 36,
     "metadata": {},
     "output_type": "execute_result"
    }
   ],
   "source": [
    "#to check the unique company values\n",
    "stock_df[\"Ticker\"].unique()"
   ]
  },
  {
   "cell_type": "markdown",
   "id": "9c5efb48-74dd-4dc2-9bc2-928c85a1557b",
   "metadata": {},
   "source": [
    "#### From the above graph, we can conclude that Toyota & Subaru's close price are relatively close. "
   ]
  },
  {
   "cell_type": "markdown",
   "id": "d7f42f52-7e02-4981-9584-6f9b77d3ec7b",
   "metadata": {},
   "source": [
    "#### Lets create a faceted area chart to compare the performance of different companies & identify similarities or differences in their stock price movements"
   ]
  },
  {
   "cell_type": "code",
   "execution_count": 37,
   "id": "3d7451cb-3e7e-4b38-9636-23e56b0c68df",
   "metadata": {},
   "outputs": [
    {
     "data": {
      "image/svg+xml": [
       "<svg class=\"main-svg\" xmlns=\"http://www.w3.org/2000/svg\" xmlns:xlink=\"http://www.w3.org/1999/xlink\" width=\"700\" height=\"500\" style=\"\" viewBox=\"0 0 700 500\"><rect x=\"0\" y=\"0\" width=\"700\" height=\"500\" style=\"fill: rgb(255, 255, 255); fill-opacity: 1;\"/><defs id=\"defs-c5ffe2\"><g class=\"clips\"><clipPath id=\"clipc5ffe2xyplot\" class=\"plotclip\"><rect width=\"117.97\" height=\"320\"/></clipPath><clipPath id=\"clipc5ffe2x2y2plot\" class=\"plotclip\"><rect width=\"117.97\" height=\"320\"/></clipPath><clipPath id=\"clipc5ffe2x3y3plot\" class=\"plotclip\"><rect width=\"117.97\" height=\"320\"/></clipPath><clipPath id=\"clipc5ffe2x4y4plot\" class=\"plotclip\"><rect width=\"117.97\" height=\"320\"/></clipPath><clipPath class=\"axesclip\" id=\"clipc5ffe2x\"><rect x=\"80\" y=\"0\" width=\"117.97\" height=\"500\"/></clipPath><clipPath class=\"axesclip\" id=\"clipc5ffe2y\"><rect x=\"0\" y=\"100\" width=\"700\" height=\"320\"/></clipPath><clipPath class=\"axesclip\" id=\"clipc5ffe2xy\"><rect x=\"80\" y=\"100\" width=\"117.97\" height=\"320\"/></clipPath><clipPath class=\"axesclip\" id=\"clipc5ffe2y2\"><rect x=\"0\" y=\"100\" width=\"700\" height=\"320\"/></clipPath><clipPath class=\"axesclip\" id=\"clipc5ffe2xy2\"><rect x=\"80\" y=\"100\" width=\"117.97\" height=\"320\"/></clipPath><clipPath class=\"axesclip\" id=\"clipc5ffe2y3\"><rect x=\"0\" y=\"100\" width=\"700\" height=\"320\"/></clipPath><clipPath class=\"axesclip\" id=\"clipc5ffe2xy3\"><rect x=\"80\" y=\"100\" width=\"117.97\" height=\"320\"/></clipPath><clipPath class=\"axesclip\" id=\"clipc5ffe2y4\"><rect x=\"0\" y=\"100\" width=\"700\" height=\"320\"/></clipPath><clipPath class=\"axesclip\" id=\"clipc5ffe2xy4\"><rect x=\"80\" y=\"100\" width=\"117.97\" height=\"320\"/></clipPath><clipPath class=\"axesclip\" id=\"clipc5ffe2x2\"><rect x=\"208.01\" y=\"0\" width=\"117.97\" height=\"500\"/></clipPath><clipPath class=\"axesclip\" id=\"clipc5ffe2x2y\"><rect x=\"208.01\" y=\"100\" width=\"117.97\" height=\"320\"/></clipPath><clipPath class=\"axesclip\" id=\"clipc5ffe2x2y2\"><rect x=\"208.01\" y=\"100\" width=\"117.97\" height=\"320\"/></clipPath><clipPath class=\"axesclip\" id=\"clipc5ffe2x2y3\"><rect x=\"208.01\" y=\"100\" width=\"117.97\" height=\"320\"/></clipPath><clipPath class=\"axesclip\" id=\"clipc5ffe2x2y4\"><rect x=\"208.01\" y=\"100\" width=\"117.97\" height=\"320\"/></clipPath><clipPath class=\"axesclip\" id=\"clipc5ffe2x3\"><rect x=\"336.02\" y=\"0\" width=\"117.97\" height=\"500\"/></clipPath><clipPath class=\"axesclip\" id=\"clipc5ffe2x3y\"><rect x=\"336.02\" y=\"100\" width=\"117.97\" height=\"320\"/></clipPath><clipPath class=\"axesclip\" id=\"clipc5ffe2x3y2\"><rect x=\"336.02\" y=\"100\" width=\"117.97\" height=\"320\"/></clipPath><clipPath class=\"axesclip\" id=\"clipc5ffe2x3y3\"><rect x=\"336.02\" y=\"100\" width=\"117.97\" height=\"320\"/></clipPath><clipPath class=\"axesclip\" id=\"clipc5ffe2x3y4\"><rect x=\"336.02\" y=\"100\" width=\"117.97\" height=\"320\"/></clipPath><clipPath class=\"axesclip\" id=\"clipc5ffe2x4\"><rect x=\"464.03\" y=\"0\" width=\"117.97\" height=\"500\"/></clipPath><clipPath class=\"axesclip\" id=\"clipc5ffe2x4y\"><rect x=\"464.03\" y=\"100\" width=\"117.97\" height=\"320\"/></clipPath><clipPath class=\"axesclip\" id=\"clipc5ffe2x4y2\"><rect x=\"464.03\" y=\"100\" width=\"117.97\" height=\"320\"/></clipPath><clipPath class=\"axesclip\" id=\"clipc5ffe2x4y3\"><rect x=\"464.03\" y=\"100\" width=\"117.97\" height=\"320\"/></clipPath><clipPath class=\"axesclip\" id=\"clipc5ffe2x4y4\"><rect x=\"464.03\" y=\"100\" width=\"117.97\" height=\"320\"/></clipPath></g><g class=\"gradients\"/><g class=\"patterns\"/></defs><g class=\"bglayer\"><rect class=\"bg\" x=\"80\" y=\"100\" width=\"117.97\" height=\"320\" style=\"fill: rgb(229, 236, 246); fill-opacity: 1; stroke-width: 0;\"/><rect class=\"bg\" x=\"208.01\" y=\"100\" width=\"117.97\" height=\"320\" style=\"fill: rgb(229, 236, 246); fill-opacity: 1; stroke-width: 0;\"/><rect class=\"bg\" x=\"336.02\" y=\"100\" width=\"117.97\" height=\"320\" style=\"fill: rgb(229, 236, 246); fill-opacity: 1; stroke-width: 0;\"/><rect class=\"bg\" x=\"464.03\" y=\"100\" width=\"117.97\" height=\"320\" style=\"fill: rgb(229, 236, 246); fill-opacity: 1; stroke-width: 0;\"/></g><g class=\"layer-below\"><g class=\"imagelayer\"/><g class=\"shapelayer\"/></g><g class=\"cartesianlayer\"><g class=\"subplot xy\"><g class=\"layer-subplot\"><g class=\"shapelayer\"/><g class=\"imagelayer\"/></g><g class=\"minor-gridlayer\"><g class=\"x\"/><g class=\"y\"/></g><g class=\"gridlayer\"><g class=\"x\"><path class=\"xgrid crisp\" transform=\"translate(112.41,0)\" d=\"M0,100v320\" style=\"stroke: rgb(255, 255, 255); stroke-opacity: 1; stroke-width: 1px;\"/><path class=\"xgrid crisp\" transform=\"translate(151.3,0)\" d=\"M0,100v320\" style=\"stroke: rgb(255, 255, 255); stroke-opacity: 1; stroke-width: 1px;\"/><path class=\"xgrid crisp\" transform=\"translate(191.49,0)\" d=\"M0,100v320\" style=\"stroke: rgb(255, 255, 255); stroke-opacity: 1; stroke-width: 1px;\"/></g><g class=\"y\"><path class=\"ygrid crisp\" transform=\"translate(0,377.86)\" d=\"M80,0h117.97\" style=\"stroke: rgb(255, 255, 255); stroke-opacity: 1; stroke-width: 1px;\"/><path class=\"ygrid crisp\" transform=\"translate(0,335.72)\" d=\"M80,0h117.97\" style=\"stroke: rgb(255, 255, 255); stroke-opacity: 1; stroke-width: 1px;\"/><path class=\"ygrid crisp\" transform=\"translate(0,293.58000000000004)\" d=\"M80,0h117.97\" style=\"stroke: rgb(255, 255, 255); stroke-opacity: 1; stroke-width: 1px;\"/><path class=\"ygrid crisp\" transform=\"translate(0,251.44)\" d=\"M80,0h117.97\" style=\"stroke: rgb(255, 255, 255); stroke-opacity: 1; stroke-width: 1px;\"/><path class=\"ygrid crisp\" transform=\"translate(0,209.3)\" d=\"M80,0h117.97\" style=\"stroke: rgb(255, 255, 255); stroke-opacity: 1; stroke-width: 1px;\"/><path class=\"ygrid crisp\" transform=\"translate(0,167.16)\" d=\"M80,0h117.97\" style=\"stroke: rgb(255, 255, 255); stroke-opacity: 1; stroke-width: 1px;\"/><path class=\"ygrid crisp\" transform=\"translate(0,125.02)\" d=\"M80,0h117.97\" style=\"stroke: rgb(255, 255, 255); stroke-opacity: 1; stroke-width: 1px;\"/></g></g><g class=\"zerolinelayer\"><path class=\"yzl zl crisp\" transform=\"translate(0,420)\" d=\"M80,0h117.97\" style=\"stroke: rgb(255, 255, 255); stroke-opacity: 1; stroke-width: 2px;\"/></g><path class=\"xlines-below\"/><path class=\"ylines-below\"/><g class=\"overlines-below\"/><g class=\"xaxislayer-below\"/><g class=\"yaxislayer-below\"/><g class=\"overaxes-below\"/><g class=\"plot\" transform=\"translate(80,100)\" clip-path=\"url(#clipc5ffe2xyplot)\"><g class=\"scatterlayer mlayer\"><g class=\"trace scatter trace18701b\" style=\"stroke-miterlimit: 2;\"><g class=\"fills\"><g><path class=\"js-fill\" d=\"M117.97,320L0,320L0,16.67L1.3,18.36L2.59,22.66L3.89,31.34L7.78,36.31L10.37,32.77L11.67,37.49L12.96,30.41L16.85,29.48L18.15,30.33L19.45,34.46L20.74,33.19L22.04,34.04L25.93,29.23L27.22,29.4L29.82,39.35L31.11,33.36L35,38.42L36.3,42.04L37.59,48.79L38.89,44.15L40.19,48.7L44.08,44.23L45.37,45.75L46.67,49.54L47.97,56.37L49.26,57.38L53.15,64.12L54.45,62.78L55.74,58.14L57.04,60.08L58.34,60.92L62.23,54.52L63.52,42.21L64.82,43.9L66.12,44.99L67.41,42.72L71.3,43.22L72.6,39.09L73.89,39.77L75.19,34.2L76.49,40.27L80.38,43.14L81.67,44.4L82.97,42.63L85.56,44.07L90.75,44.49L92.04,45.75L93.34,55.27L94.64,55.95L98.52,59.57L99.82,57.97L101.12,58.73L103.71,74.83L107.6,69.94L108.9,67.45L110.19,71.46L112.78,102.13L116.67,131.89L117.97,107.78\" style=\"fill: rgb(99, 110, 250); fill-opacity: 0.5; stroke-width: 0;\"/></g></g><g class=\"errorbars\"/><g class=\"lines\"><path class=\"js-line\" d=\"M0,16.67L1.3,18.36L2.59,22.66L3.89,31.34L7.78,36.31L10.37,32.77L11.67,37.49L12.96,30.41L16.85,29.48L18.15,30.33L19.45,34.46L20.74,33.19L22.04,34.04L25.93,29.23L27.22,29.4L29.82,39.35L31.11,33.36L35,38.42L36.3,42.04L37.59,48.79L38.89,44.15L40.19,48.7L44.08,44.23L45.37,45.75L46.67,49.54L47.97,56.37L49.26,57.38L53.15,64.12L54.45,62.78L55.74,58.14L57.04,60.08L58.34,60.92L62.23,54.52L63.52,42.21L64.82,43.9L66.12,44.99L67.41,42.72L71.3,43.22L72.6,39.09L73.89,39.77L75.19,34.2L76.49,40.27L80.38,43.14L81.67,44.4L82.97,42.63L85.56,44.07L90.75,44.49L92.04,45.75L93.34,55.27L94.64,55.95L98.52,59.57L99.82,57.97L101.12,58.73L103.71,74.83L107.6,69.94L108.9,67.45L110.19,71.46L112.78,102.13L116.67,131.89L117.97,107.78\" style=\"vector-effect: non-scaling-stroke; fill: none; stroke: rgb(99, 110, 250); stroke-opacity: 1; stroke-width: 2px; opacity: 1;\"/></g><g class=\"points\"/><g class=\"text\"/></g></g></g><g class=\"overplot\"/><path class=\"xlines-above crisp\" d=\"M0,0\" style=\"fill: none;\"/><path class=\"ylines-above crisp\" d=\"M0,0\" style=\"fill: none;\"/><g class=\"overlines-above\"/><g class=\"xaxislayer-above\"><g class=\"xtick\"><text text-anchor=\"start\" x=\"0\" y=\"433\" transform=\"translate(112.41,0) rotate(30,0,427)\" style=\"font-family: 'Open Sans', verdana, arial, sans-serif; font-size: 12px; fill: rgb(42, 63, 95); fill-opacity: 1; white-space: pre; opacity: 1;\">Jun 2024</text></g><g class=\"xtick\"><text text-anchor=\"start\" x=\"0\" y=\"433\" style=\"font-family: 'Open Sans', verdana, arial, sans-serif; font-size: 12px; fill: rgb(42, 63, 95); fill-opacity: 1; white-space: pre; opacity: 1;\" transform=\"translate(151.3,0) rotate(30,0,427)\">Jul 2024</text></g><g class=\"xtick\"><text text-anchor=\"start\" x=\"0\" y=\"433\" style=\"font-family: 'Open Sans', verdana, arial, sans-serif; font-size: 12px; fill: rgb(42, 63, 95); fill-opacity: 1; white-space: pre; opacity: 1;\" transform=\"translate(191.49,0) rotate(30,0,427)\">Aug 2024</text></g></g><g class=\"yaxislayer-above\"><g class=\"ytick\"><text text-anchor=\"end\" x=\"79\" y=\"4.199999999999999\" transform=\"translate(0,420)\" style=\"font-family: 'Open Sans', verdana, arial, sans-serif; font-size: 12px; fill: rgb(42, 63, 95); fill-opacity: 1; white-space: pre; opacity: 1;\">0</text></g><g class=\"ytick\"><text text-anchor=\"end\" x=\"79\" y=\"4.199999999999999\" style=\"font-family: 'Open Sans', verdana, arial, sans-serif; font-size: 12px; fill: rgb(42, 63, 95); fill-opacity: 1; white-space: pre; opacity: 1;\" transform=\"translate(0,377.86)\">500</text></g><g class=\"ytick\"><text text-anchor=\"end\" x=\"79\" y=\"4.199999999999999\" style=\"font-family: 'Open Sans', verdana, arial, sans-serif; font-size: 12px; fill: rgb(42, 63, 95); fill-opacity: 1; white-space: pre; opacity: 1;\" transform=\"translate(0,335.72)\">1000</text></g><g class=\"ytick\"><text text-anchor=\"end\" x=\"79\" y=\"4.199999999999999\" style=\"font-family: 'Open Sans', verdana, arial, sans-serif; font-size: 12px; fill: rgb(42, 63, 95); fill-opacity: 1; white-space: pre; opacity: 1;\" transform=\"translate(0,293.58000000000004)\">1500</text></g><g class=\"ytick\"><text text-anchor=\"end\" x=\"79\" y=\"4.199999999999999\" style=\"font-family: 'Open Sans', verdana, arial, sans-serif; font-size: 12px; fill: rgb(42, 63, 95); fill-opacity: 1; white-space: pre; opacity: 1;\" transform=\"translate(0,251.44)\">2000</text></g><g class=\"ytick\"><text text-anchor=\"end\" x=\"79\" y=\"4.199999999999999\" style=\"font-family: 'Open Sans', verdana, arial, sans-serif; font-size: 12px; fill: rgb(42, 63, 95); fill-opacity: 1; white-space: pre; opacity: 1;\" transform=\"translate(0,209.3)\">2500</text></g><g class=\"ytick\"><text text-anchor=\"end\" x=\"79\" y=\"4.199999999999999\" style=\"font-family: 'Open Sans', verdana, arial, sans-serif; font-size: 12px; fill: rgb(42, 63, 95); fill-opacity: 1; white-space: pre; opacity: 1;\" transform=\"translate(0,167.16)\">3000</text></g><g class=\"ytick\"><text text-anchor=\"end\" x=\"79\" y=\"4.199999999999999\" style=\"font-family: 'Open Sans', verdana, arial, sans-serif; font-size: 12px; fill: rgb(42, 63, 95); fill-opacity: 1; white-space: pre; opacity: 1;\" transform=\"translate(0,125.02)\">3500</text></g></g><g class=\"overaxes-above\"/></g><g class=\"subplot x2y2\"><g class=\"layer-subplot\"><g class=\"shapelayer\"/><g class=\"imagelayer\"/></g><g class=\"minor-gridlayer\"><g class=\"x2\"/><g class=\"y2\"/></g><g class=\"gridlayer\"><g class=\"x2\"><path class=\"x2grid crisp\" transform=\"translate(240.42,0)\" d=\"M0,100v320\" style=\"stroke: rgb(255, 255, 255); stroke-opacity: 1; stroke-width: 1px;\"/><path class=\"x2grid crisp\" transform=\"translate(279.31,0)\" d=\"M0,100v320\" style=\"stroke: rgb(255, 255, 255); stroke-opacity: 1; stroke-width: 1px;\"/><path class=\"x2grid crisp\" transform=\"translate(319.5,0)\" d=\"M0,100v320\" style=\"stroke: rgb(255, 255, 255); stroke-opacity: 1; stroke-width: 1px;\"/></g><g class=\"y2\"><path class=\"y2grid crisp\" transform=\"translate(0,377.86)\" d=\"M208.01,0h117.97\" style=\"stroke: rgb(255, 255, 255); stroke-opacity: 1; stroke-width: 1px;\"/><path class=\"y2grid crisp\" transform=\"translate(0,335.72)\" d=\"M208.01,0h117.97\" style=\"stroke: rgb(255, 255, 255); stroke-opacity: 1; stroke-width: 1px;\"/><path class=\"y2grid crisp\" transform=\"translate(0,293.58000000000004)\" d=\"M208.01,0h117.97\" style=\"stroke: rgb(255, 255, 255); stroke-opacity: 1; stroke-width: 1px;\"/><path class=\"y2grid crisp\" transform=\"translate(0,251.44)\" d=\"M208.01,0h117.97\" style=\"stroke: rgb(255, 255, 255); stroke-opacity: 1; stroke-width: 1px;\"/><path class=\"y2grid crisp\" transform=\"translate(0,209.3)\" d=\"M208.01,0h117.97\" style=\"stroke: rgb(255, 255, 255); stroke-opacity: 1; stroke-width: 1px;\"/><path class=\"y2grid crisp\" transform=\"translate(0,167.16)\" d=\"M208.01,0h117.97\" style=\"stroke: rgb(255, 255, 255); stroke-opacity: 1; stroke-width: 1px;\"/><path class=\"y2grid crisp\" transform=\"translate(0,125.02)\" d=\"M208.01,0h117.97\" style=\"stroke: rgb(255, 255, 255); stroke-opacity: 1; stroke-width: 1px;\"/></g></g><g class=\"zerolinelayer\"><path class=\"y2zl zl crisp\" transform=\"translate(0,420)\" d=\"M208.01,0h117.97\" style=\"stroke: rgb(255, 255, 255); stroke-opacity: 1; stroke-width: 2px;\"/></g><path class=\"xlines-below\"/><path class=\"ylines-below\"/><g class=\"overlines-below\"/><g class=\"xaxislayer-below\"/><g class=\"yaxislayer-below\"/><g class=\"overaxes-below\"/><g class=\"plot\" transform=\"translate(208.01,100)\" clip-path=\"url(#clipc5ffe2x2y2plot)\"><g class=\"scatterlayer mlayer\"><g class=\"trace scatter trace4962ce\" style=\"stroke-miterlimit: 2;\"><g class=\"fills\"><g><path class=\"js-fill\" d=\"M117.97,320L0,320L0,170.53L1.3,172.51L2.59,172.68L3.89,173.65L7.78,172L9.07,172.85L10.37,172.47L11.67,176.01L12.96,174.45L16.85,170.82L18.15,172.89L19.45,174.36L20.74,174.07L27.22,172.59L28.52,173.35L29.82,174.15L31.11,170.87L35,171.2L36.3,174.53L37.59,179.42L38.89,178.54L40.19,179.46L44.08,176.05L46.67,176.05L47.97,178.03L49.26,177.1L53.15,181.57L55.74,178.32L57.04,179.8L58.34,180.09L62.23,177.73L63.52,174.19L64.82,175.21L66.12,175.67L67.41,175.04L71.3,171.62L72.6,173.77L73.89,173.48L75.19,169.05L76.49,173.94L80.38,176.72L82.97,176.47L84.26,174.74L85.56,176.43L90.75,176.3L92.04,175.37L93.34,179.67L98.52,179.17L99.82,178.91L102.41,186.42L103.71,186.79L110.19,181.19L111.49,187.26L112.78,191.72L116.67,214.52L117.97,199.02\" style=\"fill: rgb(239, 85, 59); fill-opacity: 0.5; stroke-width: 0;\"/></g></g><g class=\"errorbars\"/><g class=\"lines\"><path class=\"js-line\" d=\"M0,170.53L1.3,172.51L2.59,172.68L3.89,173.65L7.78,172L9.07,172.85L10.37,172.47L11.67,176.01L12.96,174.45L16.85,170.82L18.15,172.89L19.45,174.36L20.74,174.07L27.22,172.59L28.52,173.35L29.82,174.15L31.11,170.87L35,171.2L36.3,174.53L37.59,179.42L38.89,178.54L40.19,179.46L44.08,176.05L46.67,176.05L47.97,178.03L49.26,177.1L53.15,181.57L55.74,178.32L57.04,179.8L58.34,180.09L62.23,177.73L63.52,174.19L64.82,175.21L66.12,175.67L67.41,175.04L71.3,171.62L72.6,173.77L73.89,173.48L75.19,169.05L76.49,173.94L80.38,176.72L82.97,176.47L84.26,174.74L85.56,176.43L90.75,176.3L92.04,175.37L93.34,179.67L98.52,179.17L99.82,178.91L102.41,186.42L103.71,186.79L110.19,181.19L111.49,187.26L112.78,191.72L116.67,214.52L117.97,199.02\" style=\"vector-effect: non-scaling-stroke; fill: none; stroke: rgb(239, 85, 59); stroke-opacity: 1; stroke-width: 2px; opacity: 1;\"/></g><g class=\"points\"/><g class=\"text\"/></g></g></g><g class=\"overplot\"/><path class=\"xlines-above crisp\" d=\"M0,0\" style=\"fill: none;\"/><path class=\"ylines-above crisp\" d=\"M0,0\" style=\"fill: none;\"/><g class=\"overlines-above\"/><g class=\"xaxislayer-above\"><g class=\"x2tick\"><text text-anchor=\"start\" x=\"0\" y=\"433\" transform=\"translate(240.42,0) rotate(30,0,427)\" style=\"font-family: 'Open Sans', verdana, arial, sans-serif; font-size: 12px; fill: rgb(42, 63, 95); fill-opacity: 1; white-space: pre; opacity: 1;\">Jun 2024</text></g><g class=\"x2tick\"><text text-anchor=\"start\" x=\"0\" y=\"433\" style=\"font-family: 'Open Sans', verdana, arial, sans-serif; font-size: 12px; fill: rgb(42, 63, 95); fill-opacity: 1; white-space: pre; opacity: 1;\" transform=\"translate(279.31,0) rotate(30,0,427)\">Jul 2024</text></g><g class=\"x2tick\"><text text-anchor=\"start\" x=\"0\" y=\"433\" style=\"font-family: 'Open Sans', verdana, arial, sans-serif; font-size: 12px; fill: rgb(42, 63, 95); fill-opacity: 1; white-space: pre; opacity: 1;\" transform=\"translate(319.5,0) rotate(30,0,427)\">Aug 2024</text></g></g><g class=\"yaxislayer-above\"/><g class=\"overaxes-above\"/></g><g class=\"subplot x3y3\"><g class=\"layer-subplot\"><g class=\"shapelayer\"/><g class=\"imagelayer\"/></g><g class=\"minor-gridlayer\"><g class=\"x3\"/><g class=\"y3\"/></g><g class=\"gridlayer\"><g class=\"x3\"><path class=\"x3grid crisp\" transform=\"translate(368.42999999999995,0)\" d=\"M0,100v320\" style=\"stroke: rgb(255, 255, 255); stroke-opacity: 1; stroke-width: 1px;\"/><path class=\"x3grid crisp\" transform=\"translate(407.32,0)\" d=\"M0,100v320\" style=\"stroke: rgb(255, 255, 255); stroke-opacity: 1; stroke-width: 1px;\"/><path class=\"x3grid crisp\" transform=\"translate(447.51,0)\" d=\"M0,100v320\" style=\"stroke: rgb(255, 255, 255); stroke-opacity: 1; stroke-width: 1px;\"/></g><g class=\"y3\"><path class=\"y3grid crisp\" transform=\"translate(0,377.86)\" d=\"M336.02,0h117.97\" style=\"stroke: rgb(255, 255, 255); stroke-opacity: 1; stroke-width: 1px;\"/><path class=\"y3grid crisp\" transform=\"translate(0,335.72)\" d=\"M336.02,0h117.97\" style=\"stroke: rgb(255, 255, 255); stroke-opacity: 1; stroke-width: 1px;\"/><path class=\"y3grid crisp\" transform=\"translate(0,293.58000000000004)\" d=\"M336.02,0h117.97\" style=\"stroke: rgb(255, 255, 255); stroke-opacity: 1; stroke-width: 1px;\"/><path class=\"y3grid crisp\" transform=\"translate(0,251.44)\" d=\"M336.02,0h117.97\" style=\"stroke: rgb(255, 255, 255); stroke-opacity: 1; stroke-width: 1px;\"/><path class=\"y3grid crisp\" transform=\"translate(0,209.3)\" d=\"M336.02,0h117.97\" style=\"stroke: rgb(255, 255, 255); stroke-opacity: 1; stroke-width: 1px;\"/><path class=\"y3grid crisp\" transform=\"translate(0,167.16)\" d=\"M336.02,0h117.97\" style=\"stroke: rgb(255, 255, 255); stroke-opacity: 1; stroke-width: 1px;\"/><path class=\"y3grid crisp\" transform=\"translate(0,125.02)\" d=\"M336.02,0h117.97\" style=\"stroke: rgb(255, 255, 255); stroke-opacity: 1; stroke-width: 1px;\"/></g></g><g class=\"zerolinelayer\"><path class=\"y3zl zl crisp\" transform=\"translate(0,420)\" d=\"M336.02,0h117.97\" style=\"stroke: rgb(255, 255, 255); stroke-opacity: 1; stroke-width: 2px;\"/></g><path class=\"xlines-below\"/><path class=\"ylines-below\"/><g class=\"overlines-below\"/><g class=\"xaxislayer-below\"/><g class=\"yaxislayer-below\"/><g class=\"overaxes-below\"/><g class=\"plot\" transform=\"translate(336.02,100)\" clip-path=\"url(#clipc5ffe2x3y3plot)\"><g class=\"scatterlayer mlayer\"><g class=\"trace scatter tracef3b332\" style=\"stroke-miterlimit: 2;\"><g class=\"fills\"><g><path class=\"js-fill\" d=\"M117.97,320L0,320L0,32.6L1.3,39.6L2.59,38.42L3.89,39.77L7.78,50.39L10.37,40.36L11.67,45.84L12.96,48.62L16.85,40.53L18.15,37.66L19.45,38.76L20.74,38.67L22.04,40.27L25.93,36.06L27.22,30.58L28.52,32.18L29.82,29.48L31.11,25.02L35,20.47L36.3,26.11L37.59,36.65L38.89,38.42L40.19,36.23L44.08,31.25L45.37,33.36L46.67,33.61L47.97,39.43L49.26,43.48L53.15,45.08L54.45,36.82L55.74,35.13L57.04,35.89L58.34,38L62.23,37.32L63.52,29.4L66.12,36.31L67.41,32.6L71.3,33.61L72.6,27.63L73.89,26.79L75.19,16L76.49,25.86L80.38,27.13L81.67,30.66L82.97,29.48L84.26,22.57L85.56,34.2L90.75,34.96L92.04,40.44L93.34,49.38L94.64,53.08L98.52,56.62L99.82,55.27L102.41,75.29L103.71,76.89L107.6,72.81L108.9,68.55L110.19,68.3L111.49,82.71L116.67,136.48L117.97,118.74\" style=\"fill: rgb(0, 204, 150); fill-opacity: 0.5; stroke-width: 0;\"/></g></g><g class=\"errorbars\"/><g class=\"lines\"><path class=\"js-line\" d=\"M0,32.6L1.3,39.6L2.59,38.42L3.89,39.77L7.78,50.39L10.37,40.36L11.67,45.84L12.96,48.62L16.85,40.53L18.15,37.66L19.45,38.76L20.74,38.67L22.04,40.27L25.93,36.06L27.22,30.58L28.52,32.18L29.82,29.48L31.11,25.02L35,20.47L36.3,26.11L37.59,36.65L38.89,38.42L40.19,36.23L44.08,31.25L45.37,33.36L46.67,33.61L47.97,39.43L49.26,43.48L53.15,45.08L54.45,36.82L55.74,35.13L57.04,35.89L58.34,38L62.23,37.32L63.52,29.4L66.12,36.31L67.41,32.6L71.3,33.61L72.6,27.63L73.89,26.79L75.19,16L76.49,25.86L80.38,27.13L81.67,30.66L82.97,29.48L84.26,22.57L85.56,34.2L90.75,34.96L92.04,40.44L93.34,49.38L94.64,53.08L98.52,56.62L99.82,55.27L102.41,75.29L103.71,76.89L107.6,72.81L108.9,68.55L110.19,68.3L111.49,82.71L116.67,136.48L117.97,118.74\" style=\"vector-effect: non-scaling-stroke; fill: none; stroke: rgb(0, 204, 150); stroke-opacity: 1; stroke-width: 2px; opacity: 1;\"/></g><g class=\"points\"/><g class=\"text\"/></g></g></g><g class=\"overplot\"/><path class=\"xlines-above crisp\" d=\"M0,0\" style=\"fill: none;\"/><path class=\"ylines-above crisp\" d=\"M0,0\" style=\"fill: none;\"/><g class=\"overlines-above\"/><g class=\"xaxislayer-above\"><g class=\"x3tick\"><text text-anchor=\"start\" x=\"0\" y=\"433\" transform=\"translate(368.42999999999995,0) rotate(30,0,427)\" style=\"font-family: 'Open Sans', verdana, arial, sans-serif; font-size: 12px; fill: rgb(42, 63, 95); fill-opacity: 1; white-space: pre; opacity: 1;\">Jun 2024</text></g><g class=\"x3tick\"><text text-anchor=\"start\" x=\"0\" y=\"433\" style=\"font-family: 'Open Sans', verdana, arial, sans-serif; font-size: 12px; fill: rgb(42, 63, 95); fill-opacity: 1; white-space: pre; opacity: 1;\" transform=\"translate(407.32,0) rotate(30,0,427)\">Jul 2024</text></g><g class=\"x3tick\"><text text-anchor=\"start\" x=\"0\" y=\"433\" style=\"font-family: 'Open Sans', verdana, arial, sans-serif; font-size: 12px; fill: rgb(42, 63, 95); fill-opacity: 1; white-space: pre; opacity: 1;\" transform=\"translate(447.51,0) rotate(30,0,427)\">Aug 2024</text></g></g><g class=\"yaxislayer-above\"/><g class=\"overaxes-above\"/></g><g class=\"subplot x4y4\"><g class=\"layer-subplot\"><g class=\"shapelayer\"/><g class=\"imagelayer\"/></g><g class=\"minor-gridlayer\"><g class=\"x4\"/><g class=\"y4\"/></g><g class=\"gridlayer\"><g class=\"x4\"><path class=\"x4grid crisp\" transform=\"translate(496.43999999999994,0)\" d=\"M0,100v320\" style=\"stroke: rgb(255, 255, 255); stroke-opacity: 1; stroke-width: 1px;\"/><path class=\"x4grid crisp\" transform=\"translate(535.3299999999999,0)\" d=\"M0,100v320\" style=\"stroke: rgb(255, 255, 255); stroke-opacity: 1; stroke-width: 1px;\"/><path class=\"x4grid crisp\" transform=\"translate(575.52,0)\" d=\"M0,100v320\" style=\"stroke: rgb(255, 255, 255); stroke-opacity: 1; stroke-width: 1px;\"/></g><g class=\"y4\"><path class=\"y4grid crisp\" transform=\"translate(0,377.86)\" d=\"M464.03,0h117.97\" style=\"stroke: rgb(255, 255, 255); stroke-opacity: 1; stroke-width: 1px;\"/><path class=\"y4grid crisp\" transform=\"translate(0,335.72)\" d=\"M464.03,0h117.97\" style=\"stroke: rgb(255, 255, 255); stroke-opacity: 1; stroke-width: 1px;\"/><path class=\"y4grid crisp\" transform=\"translate(0,293.58000000000004)\" d=\"M464.03,0h117.97\" style=\"stroke: rgb(255, 255, 255); stroke-opacity: 1; stroke-width: 1px;\"/><path class=\"y4grid crisp\" transform=\"translate(0,251.44)\" d=\"M464.03,0h117.97\" style=\"stroke: rgb(255, 255, 255); stroke-opacity: 1; stroke-width: 1px;\"/><path class=\"y4grid crisp\" transform=\"translate(0,209.3)\" d=\"M464.03,0h117.97\" style=\"stroke: rgb(255, 255, 255); stroke-opacity: 1; stroke-width: 1px;\"/><path class=\"y4grid crisp\" transform=\"translate(0,167.16)\" d=\"M464.03,0h117.97\" style=\"stroke: rgb(255, 255, 255); stroke-opacity: 1; stroke-width: 1px;\"/><path class=\"y4grid crisp\" transform=\"translate(0,125.02)\" d=\"M464.03,0h117.97\" style=\"stroke: rgb(255, 255, 255); stroke-opacity: 1; stroke-width: 1px;\"/></g></g><g class=\"zerolinelayer\"><path class=\"y4zl zl crisp\" transform=\"translate(0,420)\" d=\"M464.03,0h117.97\" style=\"stroke: rgb(255, 255, 255); stroke-opacity: 1; stroke-width: 2px;\"/></g><path class=\"xlines-below\"/><path class=\"ylines-below\"/><g class=\"overlines-below\"/><g class=\"xaxislayer-below\"/><g class=\"yaxislayer-below\"/><g class=\"overaxes-below\"/><g class=\"plot\" transform=\"translate(464.03,100)\" clip-path=\"url(#clipc5ffe2x4y4plot)\"><g class=\"scatterlayer mlayer\"><g class=\"trace scatter trace5ab667\" style=\"stroke-miterlimit: 2;\"><g class=\"fills\"><g><path class=\"js-fill\" d=\"M117.97,320L0,320L0,167.75L1.3,171.03L2.59,171.03L3.89,169.39L7.78,173.56L9.07,164.25L10.37,164.08L11.67,169.56L12.96,169.47L18.15,164.46L19.45,165.43L22.04,162.99L25.93,160.88L29.82,164.08L31.11,162.94L35,160.58L36.3,163.53L37.59,163.32L38.89,164.92L40.19,163.36L44.08,161.47L45.37,159.15L46.67,159.49L49.26,163.66L53.15,169.35L54.45,167.54L55.74,163.83L58.34,166.9L62.23,167.96L63.52,166.36L64.82,166.99L66.12,168L67.41,164L72.6,166.61L73.89,170.15L75.19,167.2L76.49,168.55L80.38,169.98L81.67,164.84L84.26,155.32L85.56,161.51L92.04,159.82L93.34,165.51L99.82,165.43L101.12,170.11L102.41,176.64L103.71,177.86L107.6,172.3L108.9,171.83L111.49,172.13L112.78,183.8L116.67,206.52L117.97,187.22\" style=\"fill: rgb(171, 99, 250); fill-opacity: 0.5; stroke-width: 0;\"/></g></g><g class=\"errorbars\"/><g class=\"lines\"><path class=\"js-line\" d=\"M0,167.75L1.3,171.03L2.59,171.03L3.89,169.39L7.78,173.56L9.07,164.25L10.37,164.08L11.67,169.56L12.96,169.47L18.15,164.46L19.45,165.43L22.04,162.99L25.93,160.88L29.82,164.08L31.11,162.94L35,160.58L36.3,163.53L37.59,163.32L38.89,164.92L40.19,163.36L44.08,161.47L45.37,159.15L46.67,159.49L49.26,163.66L53.15,169.35L54.45,167.54L55.74,163.83L58.34,166.9L62.23,167.96L63.52,166.36L64.82,166.99L66.12,168L67.41,164L72.6,166.61L73.89,170.15L75.19,167.2L76.49,168.55L80.38,169.98L81.67,164.84L84.26,155.32L85.56,161.51L92.04,159.82L93.34,165.51L99.82,165.43L101.12,170.11L102.41,176.64L103.71,177.86L107.6,172.3L108.9,171.83L111.49,172.13L112.78,183.8L116.67,206.52L117.97,187.22\" style=\"vector-effect: non-scaling-stroke; fill: none; stroke: rgb(171, 99, 250); stroke-opacity: 1; stroke-width: 2px; opacity: 1;\"/></g><g class=\"points\"/><g class=\"text\"/></g></g></g><g class=\"overplot\"/><path class=\"xlines-above crisp\" d=\"M0,0\" style=\"fill: none;\"/><path class=\"ylines-above crisp\" d=\"M0,0\" style=\"fill: none;\"/><g class=\"overlines-above\"/><g class=\"xaxislayer-above\"><g class=\"x4tick\"><text text-anchor=\"start\" x=\"0\" y=\"433\" transform=\"translate(496.43999999999994,0) rotate(30,0,427)\" style=\"font-family: 'Open Sans', verdana, arial, sans-serif; font-size: 12px; fill: rgb(42, 63, 95); fill-opacity: 1; white-space: pre; opacity: 1;\">Jun 2024</text></g><g class=\"x4tick\"><text text-anchor=\"start\" x=\"0\" y=\"433\" style=\"font-family: 'Open Sans', verdana, arial, sans-serif; font-size: 12px; fill: rgb(42, 63, 95); fill-opacity: 1; white-space: pre; opacity: 1;\" transform=\"translate(535.3299999999999,0) rotate(30,0,427)\">Jul 2024</text></g><g class=\"x4tick\"><text text-anchor=\"start\" x=\"0\" y=\"433\" style=\"font-family: 'Open Sans', verdana, arial, sans-serif; font-size: 12px; fill: rgb(42, 63, 95); fill-opacity: 1; white-space: pre; opacity: 1;\" transform=\"translate(575.52,0) rotate(30,0,427)\">Aug 2024</text></g></g><g class=\"yaxislayer-above\"/><g class=\"overaxes-above\"/></g></g><g class=\"polarlayer\"/><g class=\"smithlayer\"/><g class=\"ternarylayer\"/><g class=\"geolayer\"/><g class=\"funnelarealayer\"/><g class=\"pielayer\"/><g class=\"iciclelayer\"/><g class=\"treemaplayer\"/><g class=\"sunburstlayer\"/><g class=\"glimages\"/><defs id=\"topdefs-c5ffe2\"><g class=\"clips\"/><clipPath id=\"legendc5ffe2\"><rect width=\"96\" height=\"105\" x=\"0\" y=\"0\"/></clipPath></defs><g class=\"layer-above\"><g class=\"imagelayer\"/><g class=\"shapelayer\"/></g><g class=\"infolayer\"><g class=\"legend\" pointer-events=\"all\" transform=\"translate(592.04,100)\"><rect class=\"bg\" shape-rendering=\"crispEdges\" width=\"96\" height=\"105\" x=\"0\" y=\"0\" style=\"stroke: rgb(68, 68, 68); stroke-opacity: 1; fill: rgb(255, 255, 255); fill-opacity: 1; stroke-width: 0px;\"/><g class=\"scrollbox\" transform=\"\" clip-path=\"url(#legendc5ffe2)\"><text class=\"legendtitletext\" text-anchor=\"start\" x=\"2\" y=\"18.2\" style=\"font-family: 'Open Sans', verdana, arial, sans-serif; font-size: 14px; fill: rgb(42, 63, 95); fill-opacity: 1; white-space: pre;\">Company</text><g class=\"groups\" transform=\"\"><g class=\"traces\" transform=\"translate(0,32.7)\" style=\"opacity: 1;\"><text class=\"legendtext\" text-anchor=\"start\" x=\"40\" y=\"4.680000000000001\" style=\"font-family: 'Open Sans', verdana, arial, sans-serif; font-size: 12px; fill: rgb(42, 63, 95); fill-opacity: 1; white-space: pre;\">TOYOTA</text><g class=\"layers\"><g class=\"legendfill\"><path class=\"js-fill\" d=\"M5,-2h30v6h-30z\" style=\"stroke-width: 0; fill: rgb(99, 110, 250); fill-opacity: 0.5;\"/></g><g class=\"legendlines\"><path class=\"js-line\" d=\"M5,-2h30\" style=\"fill: none; stroke: rgb(99, 110, 250); stroke-opacity: 1; stroke-width: 2px;\"/></g><g class=\"legendsymbols\"><g class=\"legendpoints\"/></g></g><rect class=\"legendtoggle\" x=\"0\" y=\"-9.5\" width=\"90.765625\" height=\"19\" style=\"fill: rgb(0, 0, 0); fill-opacity: 0;\"/></g></g><g class=\"groups\" transform=\"\"><g class=\"traces\" transform=\"translate(0,51.7)\" style=\"opacity: 1;\"><text class=\"legendtext\" text-anchor=\"start\" x=\"40\" y=\"4.680000000000001\" style=\"font-family: 'Open Sans', verdana, arial, sans-serif; font-size: 12px; fill: rgb(42, 63, 95); fill-opacity: 1; white-space: pre;\">HONDA</text><g class=\"layers\"><g class=\"legendfill\"><path class=\"js-fill\" d=\"M5,-2h30v6h-30z\" style=\"stroke-width: 0; fill: rgb(239, 85, 59); fill-opacity: 0.5;\"/></g><g class=\"legendlines\"><path class=\"js-line\" d=\"M5,-2h30\" style=\"fill: none; stroke: rgb(239, 85, 59); stroke-opacity: 1; stroke-width: 2px;\"/></g><g class=\"legendsymbols\"><g class=\"legendpoints\"/></g></g><rect class=\"legendtoggle\" x=\"0\" y=\"-9.5\" width=\"90.765625\" height=\"19\" style=\"fill: rgb(0, 0, 0); fill-opacity: 0;\"/></g></g><g class=\"groups\" transform=\"\"><g class=\"traces\" transform=\"translate(0,70.7)\" style=\"opacity: 1;\"><text class=\"legendtext\" text-anchor=\"start\" x=\"40\" y=\"4.680000000000001\" style=\"font-family: 'Open Sans', verdana, arial, sans-serif; font-size: 12px; fill: rgb(42, 63, 95); fill-opacity: 1; white-space: pre;\">SUBARU</text><g class=\"layers\"><g class=\"legendfill\"><path class=\"js-fill\" d=\"M5,-2h30v6h-30z\" style=\"stroke-width: 0; fill: rgb(0, 204, 150); fill-opacity: 0.5;\"/></g><g class=\"legendlines\"><path class=\"js-line\" d=\"M5,-2h30\" style=\"fill: none; stroke: rgb(0, 204, 150); stroke-opacity: 1; stroke-width: 2px;\"/></g><g class=\"legendsymbols\"><g class=\"legendpoints\"/></g></g><rect class=\"legendtoggle\" x=\"0\" y=\"-9.5\" width=\"90.765625\" height=\"19\" style=\"fill: rgb(0, 0, 0); fill-opacity: 0;\"/></g></g><g class=\"groups\" transform=\"\"><g class=\"traces\" transform=\"translate(0,89.7)\" style=\"opacity: 1;\"><text class=\"legendtext\" text-anchor=\"start\" x=\"40\" y=\"4.680000000000001\" style=\"font-family: 'Open Sans', verdana, arial, sans-serif; font-size: 12px; fill: rgb(42, 63, 95); fill-opacity: 1; white-space: pre;\">SUZUKI</text><g class=\"layers\"><g class=\"legendfill\"><path class=\"js-fill\" d=\"M5,-2h30v6h-30z\" style=\"stroke-width: 0; fill: rgb(171, 99, 250); fill-opacity: 0.5;\"/></g><g class=\"legendlines\"><path class=\"js-line\" d=\"M5,-2h30\" style=\"fill: none; stroke: rgb(171, 99, 250); stroke-opacity: 1; stroke-width: 2px;\"/></g><g class=\"legendsymbols\"><g class=\"legendpoints\"/></g></g><rect class=\"legendtoggle\" x=\"0\" y=\"-9.5\" width=\"90.765625\" height=\"19\" style=\"fill: rgb(0, 0, 0); fill-opacity: 0;\"/></g></g></g><rect class=\"scrollbar\" rx=\"20\" ry=\"3\" width=\"0\" height=\"0\" x=\"0\" y=\"0\" style=\"fill: rgb(128, 139, 164); fill-opacity: 1;\"/></g><g class=\"g-gtitle\"><text class=\"gtitle\" x=\"35\" y=\"50\" text-anchor=\"start\" dy=\"0em\" style=\"font-family: 'Open Sans', verdana, arial, sans-serif; font-size: 17px; fill: rgb(42, 63, 95); opacity: 1; font-weight: normal; white-space: pre;\">Stock Prices for Toyota, Honda, Subaru &amp; Suzuki</text></g><g class=\"g-xtitle\"><text class=\"xtitle\" x=\"138.985\" y=\"488.7580078125\" text-anchor=\"middle\" style=\"font-family: 'Open Sans', verdana, arial, sans-serif; font-size: 14px; fill: rgb(42, 63, 95); opacity: 1; font-weight: normal; white-space: pre;\">Date</text></g><g class=\"g-x2title\"><text class=\"x2title\" x=\"266.995\" y=\"488.7580078125\" text-anchor=\"middle\" style=\"font-family: 'Open Sans', verdana, arial, sans-serif; font-size: 14px; fill: rgb(42, 63, 95); opacity: 1; font-weight: normal; white-space: pre;\">Date</text></g><g class=\"g-x3title\"><text class=\"x3title\" x=\"395.005\" y=\"488.7580078125\" text-anchor=\"middle\" style=\"font-family: 'Open Sans', verdana, arial, sans-serif; font-size: 14px; fill: rgb(42, 63, 95); opacity: 1; font-weight: normal; white-space: pre;\">Date</text></g><g class=\"g-x4title\"><text class=\"x4title\" x=\"523.015\" y=\"488.7580078125\" text-anchor=\"middle\" style=\"font-family: 'Open Sans', verdana, arial, sans-serif; font-size: 14px; fill: rgb(42, 63, 95); opacity: 1; font-weight: normal; white-space: pre;\">Date</text></g><g class=\"g-ytitle\"><text class=\"ytitle\" transform=\"rotate(-90,23.684375000000003,260)\" x=\"23.684375000000003\" y=\"260\" text-anchor=\"middle\" style=\"font-family: 'Open Sans', verdana, arial, sans-serif; font-size: 14px; fill: rgb(42, 63, 95); opacity: 1; font-weight: normal; white-space: pre;\">Closing Price</text></g><g class=\"g-y2title\"/><g class=\"g-y3title\"/><g class=\"g-y4title\"/><g class=\"annotation\" data-index=\"0\" style=\"opacity: 1;\"><g class=\"annotation-text-g\" transform=\"rotate(0,138.985,90.5)\"><g class=\"cursor-pointer\" transform=\"translate(79,81)\"><rect class=\"bg\" x=\"0.5\" y=\"0.5\" width=\"118\" height=\"18\" style=\"stroke-width: 1px; stroke: rgb(0, 0, 0); stroke-opacity: 0; fill: rgb(0, 0, 0); fill-opacity: 0;\"/><text class=\"annotation-text\" text-anchor=\"middle\" x=\"59.09375\" y=\"14\" style=\"font-family: 'Open Sans', verdana, arial, sans-serif; font-size: 12px; fill: rgb(42, 63, 95); fill-opacity: 1; white-space: pre;\">Company=TOYOTA</text></g></g></g><g class=\"annotation\" data-index=\"1\" style=\"opacity: 1;\"><g class=\"annotation-text-g\" transform=\"rotate(0,266.995,90.5)\"><g class=\"cursor-pointer\" transform=\"translate(209,81)\"><rect class=\"bg\" x=\"0.5\" y=\"0.5\" width=\"115\" height=\"18\" style=\"stroke-width: 1px; stroke: rgb(0, 0, 0); stroke-opacity: 0; fill: rgb(0, 0, 0); fill-opacity: 0;\"/><text class=\"annotation-text\" text-anchor=\"middle\" x=\"57.65625\" y=\"14\" style=\"font-family: 'Open Sans', verdana, arial, sans-serif; font-size: 12px; fill: rgb(42, 63, 95); fill-opacity: 1; white-space: pre;\">Company=HONDA</text></g></g></g><g class=\"annotation\" data-index=\"2\" style=\"opacity: 1;\"><g class=\"annotation-text-g\" transform=\"rotate(0,395.005,90.5)\"><g class=\"cursor-pointer\" transform=\"translate(335,81)\"><rect class=\"bg\" x=\"0.5\" y=\"0.5\" width=\"120\" height=\"18\" style=\"stroke-width: 1px; stroke: rgb(0, 0, 0); stroke-opacity: 0; fill: rgb(0, 0, 0); fill-opacity: 0;\"/><text class=\"annotation-text\" text-anchor=\"middle\" x=\"60.484375\" y=\"14\" style=\"font-family: 'Open Sans', verdana, arial, sans-serif; font-size: 12px; fill: rgb(42, 63, 95); fill-opacity: 1; white-space: pre;\">Company=SUBARU</text></g></g></g><g class=\"annotation\" data-index=\"3\" style=\"opacity: 1;\"><g class=\"annotation-text-g\" transform=\"rotate(0,523.0149999999999,90.5)\"><g class=\"cursor-pointer\" transform=\"translate(464,81)\"><rect class=\"bg\" x=\"0.5\" y=\"0.5\" width=\"117\" height=\"18\" style=\"stroke-width: 1px; stroke: rgb(0, 0, 0); stroke-opacity: 0; fill: rgb(0, 0, 0); fill-opacity: 0;\"/><text class=\"annotation-text\" text-anchor=\"middle\" x=\"58.890625\" y=\"14\" style=\"font-family: 'Open Sans', verdana, arial, sans-serif; font-size: 12px; fill: rgb(42, 63, 95); fill-opacity: 1; white-space: pre;\">Company=SUZUKI</text></g></g></g></g></svg>"
      ]
     },
     "metadata": {},
     "output_type": "display_data"
    }
   ],
   "source": [
    "#plot a faceted area chart to compare all companies performance side by side\n",
    "fig = px.area(data_frame=stock_df,x=\"Date\",y=\"Close\",color=\"Ticker\",\n",
    "        facet_col=\"Ticker\",labels={\"Close\":\"Closing Price\",\"Ticker\":\"Company\"},\n",
    "        title=\"Stock Prices for Toyota, Honda, Subaru & Suzuki\")\n",
    "\n",
    "fig.show(\"svg\")"
   ]
  },
  {
   "cell_type": "markdown",
   "id": "0fc7f41e-c0b5-463b-ab4e-a8aac91fa586",
   "metadata": {},
   "source": [
    "### 3. Analysing Moving Average"
   ]
  },
  {
   "cell_type": "markdown",
   "id": "2a712998-cfcc-4705-9315-c80ab4da32d5",
   "metadata": {},
   "source": [
    "Simple Moving Average (SMA): The SMA is calculated by taking the average of a stock's price over a specific number of periods (e.g., 10 days or 20 days). It helps smooth out price data to identify trends over time.\n",
    "\n",
    "Purpose: Moving averages help investors identify the direction of the trend, signal potential buy/sell points, and provide support/resistance levels."
   ]
  },
  {
   "cell_type": "code",
   "execution_count": 38,
   "id": "5968d99c-8743-49f4-93de-304ef7a88bd7",
   "metadata": {},
   "outputs": [],
   "source": [
    "#to analyse moving average, declare 2 moving average values\n",
    "ma_num = [10,20]\n",
    "\n",
    "#calculate moving average mean for the entire dataframe\n",
    "for num in ma_num:\n",
    "    stock_df[\"MA_\"+str(num)] = stock_df.groupby(\"Ticker\")[\"Close\"].rolling(window=num).mean().reset_index(level=0,drop=True)"
   ]
  },
  {
   "cell_type": "code",
   "execution_count": 39,
   "id": "5f6ca206-eed2-4284-a3d6-0f8e17d4d13d",
   "metadata": {},
   "outputs": [],
   "source": [
    "#print(stock_df.groupby(\"Ticker\")[\"Close\"].rolling(window=10).mean())"
   ]
  },
  {
   "cell_type": "markdown",
   "id": "d3b85492-918d-412e-82bd-af4d93f33049",
   "metadata": {},
   "source": [
    "To achieve the Moving average for 10 and 20 days, we will be using pandas rolling function with the window values (10 & 20) to find the mean.\n",
    "\n",
    "Since the resulting data from rolling function would be 2 level index, we need to reset the index to fit it into a dataframe"
   ]
  },
  {
   "cell_type": "code",
   "execution_count": 40,
   "id": "9a232e77-f2d7-4e37-aa0d-8e38f63b3558",
   "metadata": {},
   "outputs": [
    {
     "data": {
      "text/html": [
       "<div>\n",
       "<style scoped>\n",
       "    .dataframe tbody tr th:only-of-type {\n",
       "        vertical-align: middle;\n",
       "    }\n",
       "\n",
       "    .dataframe tbody tr th {\n",
       "        vertical-align: top;\n",
       "    }\n",
       "\n",
       "    .dataframe thead th {\n",
       "        text-align: right;\n",
       "    }\n",
       "</style>\n",
       "<table border=\"1\" class=\"dataframe\">\n",
       "  <thead>\n",
       "    <tr style=\"text-align: right;\">\n",
       "      <th></th>\n",
       "      <th>Ticker</th>\n",
       "      <th>Date</th>\n",
       "      <th>Open</th>\n",
       "      <th>High</th>\n",
       "      <th>Low</th>\n",
       "      <th>Close</th>\n",
       "      <th>Adj Close</th>\n",
       "      <th>Volume</th>\n",
       "      <th>MA_10</th>\n",
       "      <th>MA_20</th>\n",
       "    </tr>\n",
       "  </thead>\n",
       "  <tbody>\n",
       "    <tr>\n",
       "      <th>0</th>\n",
       "      <td>TOYOTA</td>\n",
       "      <td>2024-05-07</td>\n",
       "      <td>3650.0</td>\n",
       "      <td>3650.0</td>\n",
       "      <td>3562.0</td>\n",
       "      <td>3599.0</td>\n",
       "      <td>3599.0</td>\n",
       "      <td>25496600</td>\n",
       "      <td>NaN</td>\n",
       "      <td>NaN</td>\n",
       "    </tr>\n",
       "    <tr>\n",
       "      <th>1</th>\n",
       "      <td>TOYOTA</td>\n",
       "      <td>2024-05-08</td>\n",
       "      <td>3547.0</td>\n",
       "      <td>3674.0</td>\n",
       "      <td>3453.0</td>\n",
       "      <td>3579.0</td>\n",
       "      <td>3579.0</td>\n",
       "      <td>68295000</td>\n",
       "      <td>NaN</td>\n",
       "      <td>NaN</td>\n",
       "    </tr>\n",
       "    <tr>\n",
       "      <th>2</th>\n",
       "      <td>TOYOTA</td>\n",
       "      <td>2024-05-09</td>\n",
       "      <td>3595.0</td>\n",
       "      <td>3595.0</td>\n",
       "      <td>3473.0</td>\n",
       "      <td>3528.0</td>\n",
       "      <td>3528.0</td>\n",
       "      <td>40742400</td>\n",
       "      <td>NaN</td>\n",
       "      <td>NaN</td>\n",
       "    </tr>\n",
       "    <tr>\n",
       "      <th>3</th>\n",
       "      <td>TOYOTA</td>\n",
       "      <td>2024-05-10</td>\n",
       "      <td>3504.0</td>\n",
       "      <td>3540.0</td>\n",
       "      <td>3386.0</td>\n",
       "      <td>3425.0</td>\n",
       "      <td>3425.0</td>\n",
       "      <td>50941700</td>\n",
       "      <td>NaN</td>\n",
       "      <td>NaN</td>\n",
       "    </tr>\n",
       "    <tr>\n",
       "      <th>4</th>\n",
       "      <td>TOYOTA</td>\n",
       "      <td>2024-05-13</td>\n",
       "      <td>3417.0</td>\n",
       "      <td>3434.0</td>\n",
       "      <td>3351.0</td>\n",
       "      <td>3366.0</td>\n",
       "      <td>3366.0</td>\n",
       "      <td>30544300</td>\n",
       "      <td>NaN</td>\n",
       "      <td>NaN</td>\n",
       "    </tr>\n",
       "  </tbody>\n",
       "</table>\n",
       "</div>"
      ],
      "text/plain": [
       "   Ticker       Date    Open    High     Low   Close  Adj Close    Volume  \\\n",
       "0  TOYOTA 2024-05-07  3650.0  3650.0  3562.0  3599.0     3599.0  25496600   \n",
       "1  TOYOTA 2024-05-08  3547.0  3674.0  3453.0  3579.0     3579.0  68295000   \n",
       "2  TOYOTA 2024-05-09  3595.0  3595.0  3473.0  3528.0     3528.0  40742400   \n",
       "3  TOYOTA 2024-05-10  3504.0  3540.0  3386.0  3425.0     3425.0  50941700   \n",
       "4  TOYOTA 2024-05-13  3417.0  3434.0  3351.0  3366.0     3366.0  30544300   \n",
       "\n",
       "   MA_10  MA_20  \n",
       "0    NaN    NaN  \n",
       "1    NaN    NaN  \n",
       "2    NaN    NaN  \n",
       "3    NaN    NaN  \n",
       "4    NaN    NaN  "
      ]
     },
     "execution_count": 40,
     "metadata": {},
     "output_type": "execute_result"
    }
   ],
   "source": [
    "stock_df.head()"
   ]
  },
  {
   "cell_type": "code",
   "execution_count": 41,
   "id": "77be624e-5ffd-4c25-a31d-aad7bedaff5d",
   "metadata": {},
   "outputs": [
    {
     "data": {
      "image/svg+xml": [
       "<svg class=\"main-svg\" xmlns=\"http://www.w3.org/2000/svg\" xmlns:xlink=\"http://www.w3.org/1999/xlink\" width=\"700\" height=\"500\" style=\"\" viewBox=\"0 0 700 500\"><rect x=\"0\" y=\"0\" width=\"700\" height=\"500\" style=\"fill: rgb(255, 255, 255); fill-opacity: 1;\"/><defs id=\"defs-4f390e\"><g class=\"clips\"><clipPath id=\"clip4f390exyplot\" class=\"plotclip\"><rect width=\"511\" height=\"320\"/></clipPath><clipPath class=\"axesclip\" id=\"clip4f390ex\"><rect x=\"80\" y=\"0\" width=\"511\" height=\"500\"/></clipPath><clipPath class=\"axesclip\" id=\"clip4f390ey\"><rect x=\"0\" y=\"100\" width=\"700\" height=\"320\"/></clipPath><clipPath class=\"axesclip\" id=\"clip4f390exy\"><rect x=\"80\" y=\"100\" width=\"511\" height=\"320\"/></clipPath></g><g class=\"gradients\"/><g class=\"patterns\"/></defs><g class=\"bglayer\"><rect class=\"bg\" x=\"80\" y=\"100\" width=\"511\" height=\"320\" style=\"fill: rgb(229, 236, 246); fill-opacity: 1; stroke-width: 0;\"/></g><g class=\"layer-below\"><g class=\"imagelayer\"/><g class=\"shapelayer\"/></g><g class=\"cartesianlayer\"><g class=\"subplot xy\"><g class=\"layer-subplot\"><g class=\"shapelayer\"/><g class=\"imagelayer\"/></g><g class=\"minor-gridlayer\"><g class=\"x\"/><g class=\"y\"/></g><g class=\"gridlayer\"><g class=\"x\"><path class=\"xgrid crisp\" transform=\"translate(147.38,0)\" d=\"M0,100v320\" style=\"stroke: rgb(255, 255, 255); stroke-opacity: 1; stroke-width: 1px;\"/><path class=\"xgrid crisp\" transform=\"translate(226,0)\" d=\"M0,100v320\" style=\"stroke: rgb(255, 255, 255); stroke-opacity: 1; stroke-width: 1px;\"/><path class=\"xgrid crisp\" transform=\"translate(304.62,0)\" d=\"M0,100v320\" style=\"stroke: rgb(255, 255, 255); stroke-opacity: 1; stroke-width: 1px;\"/><path class=\"xgrid crisp\" transform=\"translate(383.23,0)\" d=\"M0,100v320\" style=\"stroke: rgb(255, 255, 255); stroke-opacity: 1; stroke-width: 1px;\"/><path class=\"xgrid crisp\" transform=\"translate(461.85,0)\" d=\"M0,100v320\" style=\"stroke: rgb(255, 255, 255); stroke-opacity: 1; stroke-width: 1px;\"/><path class=\"xgrid crisp\" transform=\"translate(540.46,0)\" d=\"M0,100v320\" style=\"stroke: rgb(255, 255, 255); stroke-opacity: 1; stroke-width: 1px;\"/></g><g class=\"y\"><path class=\"ygrid crisp\" transform=\"translate(0,378.11)\" d=\"M80,0h511\" style=\"stroke: rgb(255, 255, 255); stroke-opacity: 1; stroke-width: 1px;\"/><path class=\"ygrid crisp\" transform=\"translate(0,324.73)\" d=\"M80,0h511\" style=\"stroke: rgb(255, 255, 255); stroke-opacity: 1; stroke-width: 1px;\"/><path class=\"ygrid crisp\" transform=\"translate(0,271.34000000000003)\" d=\"M80,0h511\" style=\"stroke: rgb(255, 255, 255); stroke-opacity: 1; stroke-width: 1px;\"/><path class=\"ygrid crisp\" transform=\"translate(0,217.95999999999998)\" d=\"M80,0h511\" style=\"stroke: rgb(255, 255, 255); stroke-opacity: 1; stroke-width: 1px;\"/><path class=\"ygrid crisp\" transform=\"translate(0,164.57999999999998)\" d=\"M80,0h511\" style=\"stroke: rgb(255, 255, 255); stroke-opacity: 1; stroke-width: 1px;\"/><path class=\"ygrid crisp\" transform=\"translate(0,111.2)\" d=\"M80,0h511\" style=\"stroke: rgb(255, 255, 255); stroke-opacity: 1; stroke-width: 1px;\"/></g></g><g class=\"zerolinelayer\"/><path class=\"xlines-below\"/><path class=\"ylines-below\"/><g class=\"overlines-below\"/><g class=\"xaxislayer-below\"/><g class=\"yaxislayer-below\"/><g class=\"overaxes-below\"/><g class=\"plot\" transform=\"translate(80,100)\" clip-path=\"url(#clip4f390exyplot)\"><g class=\"scatterlayer mlayer\"><g class=\"trace scatter trace406f77\" style=\"stroke-miterlimit: 2; opacity: 1;\"><g class=\"fills\"/><g class=\"errorbars\"/><g class=\"lines\"><path class=\"js-line\" d=\"M0,25.34L5.62,37.89L11.23,38.95L16.85,45.09L33.69,34.68L39.31,40.02L44.92,37.62L50.54,60.04L56.15,50.16L73,27.21L78.62,40.29L84.23,49.63L89.85,47.76L95.46,46.43L112.31,40.56L117.92,38.42L123.54,43.23L129.15,48.3L134.77,27.48L151.62,29.61L157.23,50.7L162.85,81.66L168.46,76.06L174.08,81.93L190.92,60.31L202.15,60.31L207.77,72.85L213.38,66.98L230.23,95.27L235.85,80.59L241.46,74.72L247.08,84.06L252.69,85.93L269.54,70.98L275.15,48.56L280.77,54.97L286.38,57.91L292,53.9L308.85,32.28L314.46,45.89L320.08,44.03L325.69,16L331.31,46.96L348.15,64.58L353.77,63.78L359.38,62.98L365,52.03L370.62,62.71L393.08,61.91L398.69,56.04L404.31,83.26L409.92,83.53L426.77,80.06L432.38,78.46L438,101.95L443.62,125.97L449.23,128.37L471.69,98.74L477.31,92.87L482.92,131.31L488.54,159.6L505.38,304L511,205.78\" style=\"vector-effect: non-scaling-stroke; fill: none; stroke: rgb(99, 110, 250); stroke-opacity: 1; stroke-width: 2px; opacity: 1;\"/></g><g class=\"points\"/><g class=\"text\"/></g><g class=\"trace scatter trace6aca29\" style=\"stroke-miterlimit: 2; opacity: 1;\"><g class=\"fills\"/><g class=\"errorbars\"/><g class=\"lines\"><path class=\"js-line\" d=\"M73,39.7L84.23,42.37L89.85,43.25L123.54,44.37L129.15,43.2L134.77,40.93L151.62,41.17L157.23,42.21L162.85,45.41L174.08,51.79L190.92,53.77L207.77,60.12L213.38,64.07L235.85,73.63L241.46,72.93L252.69,74.13L269.54,75.2L292,70.69L308.85,64.39L320.08,57.85L325.69,51.05L331.31,47.15L348.15,46.51L359.38,48.83L365,48.24L398.69,53.1L404.31,57.02L409.92,63.78L426.77,67.09L432.38,68.48L438,72.29L443.62,78.59L449.23,86.23L466.08,90.55L471.69,94.23L477.31,97.92L482.92,102.72L505.38,132.72L511,145.45\" style=\"vector-effect: non-scaling-stroke; fill: none; stroke: rgb(239, 85, 59); stroke-opacity: 1; stroke-width: 2px; opacity: 1;\"/></g><g class=\"points\"/><g class=\"text\"/></g><g class=\"trace scatter tracee894c9\" style=\"stroke-miterlimit: 2; opacity: 1;\"><g class=\"fills\"/><g class=\"errorbars\"/><g class=\"lines\"><path class=\"js-line\" d=\"M151.62,40.44L157.23,41.7L162.85,43.89L174.08,47.59L190.92,48.87L230.23,55.9L235.85,57.92L247.08,60.99L252.69,62.96L286.38,66.06L292,67.38L314.46,67.27L320.08,65.39L325.69,62.39L331.31,60.64L359.38,61.16L365,60.12L370.62,59.91L393.08,58.24L398.69,57.01L404.31,57.44L432.38,57.49L438,60.16L449.23,67.23L466.08,69.84L471.69,73.16L477.31,75.51L482.92,79.87L488.54,87.05L505.38,99.9L511,106.96\" style=\"vector-effect: non-scaling-stroke; fill: none; stroke: rgb(0, 204, 150); stroke-opacity: 1; stroke-width: 2px; opacity: 1;\"/></g><g class=\"points\"/><g class=\"text\"/></g></g></g><g class=\"overplot\"/><path class=\"xlines-above crisp\" d=\"M0,0\" style=\"fill: none;\"/><path class=\"ylines-above crisp\" d=\"M0,0\" style=\"fill: none;\"/><g class=\"overlines-above\"/><g class=\"xaxislayer-above\"><g class=\"xtick\"><text text-anchor=\"middle\" x=\"0\" y=\"433\" transform=\"translate(147.38,0)\" style=\"font-family: 'Open Sans', verdana, arial, sans-serif; font-size: 12px; fill: rgb(42, 63, 95); fill-opacity: 1; white-space: pre; opacity: 1;\"><tspan class=\"line\" dy=\"0em\" x=\"0\" y=\"433\">May 19</tspan><tspan class=\"line\" dy=\"1.3em\" x=\"0\" y=\"433\">2024</tspan></text></g><g class=\"xtick\"><text text-anchor=\"middle\" x=\"0\" y=\"433\" style=\"font-family: 'Open Sans', verdana, arial, sans-serif; font-size: 12px; fill: rgb(42, 63, 95); fill-opacity: 1; white-space: pre; opacity: 1;\" transform=\"translate(226,0)\">Jun 2</text></g><g class=\"xtick\"><text text-anchor=\"middle\" x=\"0\" y=\"433\" style=\"font-family: 'Open Sans', verdana, arial, sans-serif; font-size: 12px; fill: rgb(42, 63, 95); fill-opacity: 1; white-space: pre; opacity: 1;\" transform=\"translate(304.62,0)\">Jun 16</text></g><g class=\"xtick\"><text text-anchor=\"middle\" x=\"0\" y=\"433\" style=\"font-family: 'Open Sans', verdana, arial, sans-serif; font-size: 12px; fill: rgb(42, 63, 95); fill-opacity: 1; white-space: pre; opacity: 1;\" transform=\"translate(383.23,0)\">Jun 30</text></g><g class=\"xtick\"><text text-anchor=\"middle\" x=\"0\" y=\"433\" style=\"font-family: 'Open Sans', verdana, arial, sans-serif; font-size: 12px; fill: rgb(42, 63, 95); fill-opacity: 1; white-space: pre; opacity: 1;\" transform=\"translate(461.85,0)\">Jul 14</text></g><g class=\"xtick\"><text text-anchor=\"middle\" x=\"0\" y=\"433\" style=\"font-family: 'Open Sans', verdana, arial, sans-serif; font-size: 12px; fill: rgb(42, 63, 95); fill-opacity: 1; white-space: pre; opacity: 1;\" transform=\"translate(540.46,0)\">Jul 28</text></g></g><g class=\"yaxislayer-above\"><g class=\"ytick\"><text text-anchor=\"end\" x=\"79\" y=\"4.199999999999999\" transform=\"translate(0,378.11)\" style=\"font-family: 'Open Sans', verdana, arial, sans-serif; font-size: 12px; fill: rgb(42, 63, 95); fill-opacity: 1; white-space: pre; opacity: 1;\">1300</text></g><g class=\"ytick\"><text text-anchor=\"end\" x=\"79\" y=\"4.199999999999999\" style=\"font-family: 'Open Sans', verdana, arial, sans-serif; font-size: 12px; fill: rgb(42, 63, 95); fill-opacity: 1; white-space: pre; opacity: 1;\" transform=\"translate(0,324.73)\">1400</text></g><g class=\"ytick\"><text text-anchor=\"end\" x=\"79\" y=\"4.199999999999999\" style=\"font-family: 'Open Sans', verdana, arial, sans-serif; font-size: 12px; fill: rgb(42, 63, 95); fill-opacity: 1; white-space: pre; opacity: 1;\" transform=\"translate(0,271.34000000000003)\">1500</text></g><g class=\"ytick\"><text text-anchor=\"end\" x=\"79\" y=\"4.199999999999999\" style=\"font-family: 'Open Sans', verdana, arial, sans-serif; font-size: 12px; fill: rgb(42, 63, 95); fill-opacity: 1; white-space: pre; opacity: 1;\" transform=\"translate(0,217.95999999999998)\">1600</text></g><g class=\"ytick\"><text text-anchor=\"end\" x=\"79\" y=\"4.199999999999999\" style=\"font-family: 'Open Sans', verdana, arial, sans-serif; font-size: 12px; fill: rgb(42, 63, 95); fill-opacity: 1; white-space: pre; opacity: 1;\" transform=\"translate(0,164.57999999999998)\">1700</text></g><g class=\"ytick\"><text text-anchor=\"end\" x=\"79\" y=\"4.199999999999999\" style=\"font-family: 'Open Sans', verdana, arial, sans-serif; font-size: 12px; fill: rgb(42, 63, 95); fill-opacity: 1; white-space: pre; opacity: 1;\" transform=\"translate(0,111.2)\">1800</text></g></g><g class=\"overaxes-above\"/></g></g><g class=\"polarlayer\"/><g class=\"smithlayer\"/><g class=\"ternarylayer\"/><g class=\"geolayer\"/><g class=\"funnelarealayer\"/><g class=\"pielayer\"/><g class=\"iciclelayer\"/><g class=\"treemaplayer\"/><g class=\"sunburstlayer\"/><g class=\"glimages\"/><defs id=\"topdefs-4f390e\"><g class=\"clips\"/><clipPath id=\"legend4f390e\"><rect width=\"87\" height=\"86\" x=\"0\" y=\"0\"/></clipPath></defs><g class=\"layer-above\"><g class=\"imagelayer\"/><g class=\"shapelayer\"/></g><g class=\"infolayer\"><g class=\"legend\" pointer-events=\"all\" transform=\"translate(601.22,100)\"><rect class=\"bg\" shape-rendering=\"crispEdges\" width=\"87\" height=\"86\" x=\"0\" y=\"0\" style=\"stroke: rgb(68, 68, 68); stroke-opacity: 1; fill: rgb(255, 255, 255); fill-opacity: 1; stroke-width: 0px;\"/><g class=\"scrollbox\" transform=\"\" clip-path=\"url(#legend4f390e)\"><text class=\"legendtitletext\" text-anchor=\"start\" x=\"2\" y=\"18.2\" style=\"font-family: 'Open Sans', verdana, arial, sans-serif; font-size: 14px; fill: rgb(42, 63, 95); fill-opacity: 1; white-space: pre;\">variable</text><g class=\"groups\" transform=\"\"><g class=\"traces\" transform=\"translate(0,32.7)\" style=\"opacity: 1;\"><text class=\"legendtext\" text-anchor=\"start\" x=\"40\" y=\"4.680000000000001\" style=\"font-family: 'Open Sans', verdana, arial, sans-serif; font-size: 12px; fill: rgb(42, 63, 95); fill-opacity: 1; white-space: pre;\">Close</text><g class=\"layers\" style=\"opacity: 1;\"><g class=\"legendfill\"/><g class=\"legendlines\"><path class=\"js-line\" d=\"M5,0h30\" style=\"fill: none; stroke: rgb(99, 110, 250); stroke-opacity: 1; stroke-width: 2px;\"/></g><g class=\"legendsymbols\"><g class=\"legendpoints\"/></g></g><rect class=\"legendtoggle\" x=\"0\" y=\"-9.5\" width=\"81.578125\" height=\"19\" style=\"fill: rgb(0, 0, 0); fill-opacity: 0;\"/></g></g><g class=\"groups\" transform=\"\"><g class=\"traces\" transform=\"translate(0,51.7)\" style=\"opacity: 1;\"><text class=\"legendtext\" text-anchor=\"start\" x=\"40\" y=\"4.680000000000001\" style=\"font-family: 'Open Sans', verdana, arial, sans-serif; font-size: 12px; fill: rgb(42, 63, 95); fill-opacity: 1; white-space: pre;\">MA_10</text><g class=\"layers\" style=\"opacity: 1;\"><g class=\"legendfill\"/><g class=\"legendlines\"><path class=\"js-line\" d=\"M5,0h30\" style=\"fill: none; stroke: rgb(239, 85, 59); stroke-opacity: 1; stroke-width: 2px;\"/></g><g class=\"legendsymbols\"><g class=\"legendpoints\"/></g></g><rect class=\"legendtoggle\" x=\"0\" y=\"-9.5\" width=\"81.578125\" height=\"19\" style=\"fill: rgb(0, 0, 0); fill-opacity: 0;\"/></g></g><g class=\"groups\" transform=\"\"><g class=\"traces\" transform=\"translate(0,70.7)\" style=\"opacity: 1;\"><text class=\"legendtext\" text-anchor=\"start\" x=\"40\" y=\"4.680000000000001\" style=\"font-family: 'Open Sans', verdana, arial, sans-serif; font-size: 12px; fill: rgb(42, 63, 95); fill-opacity: 1; white-space: pre;\">MA_20</text><g class=\"layers\" style=\"opacity: 1;\"><g class=\"legendfill\"/><g class=\"legendlines\"><path class=\"js-line\" d=\"M5,0h30\" style=\"fill: none; stroke: rgb(0, 204, 150); stroke-opacity: 1; stroke-width: 2px;\"/></g><g class=\"legendsymbols\"><g class=\"legendpoints\"/></g></g><rect class=\"legendtoggle\" x=\"0\" y=\"-9.5\" width=\"81.578125\" height=\"19\" style=\"fill: rgb(0, 0, 0); fill-opacity: 0;\"/></g></g></g><rect class=\"scrollbar\" rx=\"20\" ry=\"3\" width=\"0\" height=\"0\" x=\"0\" y=\"0\" style=\"fill: rgb(128, 139, 164); fill-opacity: 1;\"/></g><g class=\"g-gtitle\"><text class=\"gtitle\" x=\"35\" y=\"50\" text-anchor=\"start\" dy=\"0em\" style=\"font-family: 'Open Sans', verdana, arial, sans-serif; font-size: 17px; fill: rgb(42, 63, 95); opacity: 1; font-weight: normal; white-space: pre;\">HONDA Moving Average</text></g><g class=\"g-xtitle\"><text class=\"xtitle\" x=\"335.5\" y=\"476.409375\" text-anchor=\"middle\" style=\"font-family: 'Open Sans', verdana, arial, sans-serif; font-size: 14px; fill: rgb(42, 63, 95); opacity: 1; font-weight: normal; white-space: pre;\">Date</text></g><g class=\"g-ytitle\"><text class=\"ytitle\" transform=\"rotate(-90,23.684375000000003,260)\" x=\"23.684375000000003\" y=\"260\" text-anchor=\"middle\" style=\"font-family: 'Open Sans', verdana, arial, sans-serif; font-size: 14px; fill: rgb(42, 63, 95); opacity: 1; font-weight: normal; white-space: pre;\">value</text></g></g></svg>"
      ]
     },
     "metadata": {},
     "output_type": "display_data"
    },
    {
     "data": {
      "image/svg+xml": [
       "<svg class=\"main-svg\" xmlns=\"http://www.w3.org/2000/svg\" xmlns:xlink=\"http://www.w3.org/1999/xlink\" width=\"700\" height=\"500\" style=\"\" viewBox=\"0 0 700 500\"><rect x=\"0\" y=\"0\" width=\"700\" height=\"500\" style=\"fill: rgb(255, 255, 255); fill-opacity: 1;\"/><defs id=\"defs-c12258\"><g class=\"clips\"><clipPath id=\"clipc12258xyplot\" class=\"plotclip\"><rect width=\"511\" height=\"320\"/></clipPath><clipPath class=\"axesclip\" id=\"clipc12258x\"><rect x=\"80\" y=\"0\" width=\"511\" height=\"500\"/></clipPath><clipPath class=\"axesclip\" id=\"clipc12258y\"><rect x=\"0\" y=\"100\" width=\"700\" height=\"320\"/></clipPath><clipPath class=\"axesclip\" id=\"clipc12258xy\"><rect x=\"80\" y=\"100\" width=\"511\" height=\"320\"/></clipPath></g><g class=\"gradients\"/><g class=\"patterns\"/></defs><g class=\"bglayer\"><rect class=\"bg\" x=\"80\" y=\"100\" width=\"511\" height=\"320\" style=\"fill: rgb(229, 236, 246); fill-opacity: 1; stroke-width: 0;\"/></g><g class=\"layer-below\"><g class=\"imagelayer\"/><g class=\"shapelayer\"/></g><g class=\"cartesianlayer\"><g class=\"subplot xy\"><g class=\"layer-subplot\"><g class=\"shapelayer\"/><g class=\"imagelayer\"/></g><g class=\"minor-gridlayer\"><g class=\"x\"/><g class=\"y\"/></g><g class=\"gridlayer\"><g class=\"x\"><path class=\"xgrid crisp\" transform=\"translate(147.38,0)\" d=\"M0,100v320\" style=\"stroke: rgb(255, 255, 255); stroke-opacity: 1; stroke-width: 1px;\"/><path class=\"xgrid crisp\" transform=\"translate(226,0)\" d=\"M0,100v320\" style=\"stroke: rgb(255, 255, 255); stroke-opacity: 1; stroke-width: 1px;\"/><path class=\"xgrid crisp\" transform=\"translate(304.62,0)\" d=\"M0,100v320\" style=\"stroke: rgb(255, 255, 255); stroke-opacity: 1; stroke-width: 1px;\"/><path class=\"xgrid crisp\" transform=\"translate(383.23,0)\" d=\"M0,100v320\" style=\"stroke: rgb(255, 255, 255); stroke-opacity: 1; stroke-width: 1px;\"/><path class=\"xgrid crisp\" transform=\"translate(461.85,0)\" d=\"M0,100v320\" style=\"stroke: rgb(255, 255, 255); stroke-opacity: 1; stroke-width: 1px;\"/><path class=\"xgrid crisp\" transform=\"translate(540.46,0)\" d=\"M0,100v320\" style=\"stroke: rgb(255, 255, 255); stroke-opacity: 1; stroke-width: 1px;\"/></g><g class=\"y\"><path class=\"ygrid crisp\" transform=\"translate(0,399.47)\" d=\"M80,0h511\" style=\"stroke: rgb(255, 255, 255); stroke-opacity: 1; stroke-width: 1px;\"/><path class=\"ygrid crisp\" transform=\"translate(0,359.17)\" d=\"M80,0h511\" style=\"stroke: rgb(255, 255, 255); stroke-opacity: 1; stroke-width: 1px;\"/><path class=\"ygrid crisp\" transform=\"translate(0,318.88)\" d=\"M80,0h511\" style=\"stroke: rgb(255, 255, 255); stroke-opacity: 1; stroke-width: 1px;\"/><path class=\"ygrid crisp\" transform=\"translate(0,278.59000000000003)\" d=\"M80,0h511\" style=\"stroke: rgb(255, 255, 255); stroke-opacity: 1; stroke-width: 1px;\"/><path class=\"ygrid crisp\" transform=\"translate(0,238.29)\" d=\"M80,0h511\" style=\"stroke: rgb(255, 255, 255); stroke-opacity: 1; stroke-width: 1px;\"/><path class=\"ygrid crisp\" transform=\"translate(0,198)\" d=\"M80,0h511\" style=\"stroke: rgb(255, 255, 255); stroke-opacity: 1; stroke-width: 1px;\"/><path class=\"ygrid crisp\" transform=\"translate(0,157.7)\" d=\"M80,0h511\" style=\"stroke: rgb(255, 255, 255); stroke-opacity: 1; stroke-width: 1px;\"/><path class=\"ygrid crisp\" transform=\"translate(0,117.41)\" d=\"M80,0h511\" style=\"stroke: rgb(255, 255, 255); stroke-opacity: 1; stroke-width: 1px;\"/></g></g><g class=\"zerolinelayer\"/><path class=\"xlines-below\"/><path class=\"ylines-below\"/><g class=\"overlines-below\"/><g class=\"xaxislayer-below\"/><g class=\"yaxislayer-below\"/><g class=\"overaxes-below\"/><g class=\"plot\" transform=\"translate(80,100)\" clip-path=\"url(#clipc12258xyplot)\"><g class=\"scatterlayer mlayer\"><g class=\"trace scatter tracecc0444\" style=\"stroke-miterlimit: 2; opacity: 1;\"><g class=\"fills\"/><g class=\"errorbars\"/><g class=\"lines\"><path class=\"js-line\" d=\"M0,55.69L5.62,72.41L11.23,69.59L16.85,72.81L33.69,98.2L39.31,81.48L44.92,74.22L50.54,87.32L56.15,93.97L78.62,67.78L84.23,70.4L89.85,70.2L95.46,74.02L112.31,63.95L117.92,50.85L123.54,54.68L129.15,48.24L134.77,37.56L151.62,26.68L157.23,40.18L162.85,65.36L168.46,69.59L174.08,64.35L190.92,52.47L196.54,57.5L202.15,58.11L207.77,72.01L213.38,81.68L230.23,85.51L235.85,65.76L241.46,61.73L247.08,63.55L252.69,68.58L269.54,66.97L275.15,48.03L280.77,57.7L286.38,64.55L292,55.69L308.85,58.11L314.46,43.8L320.08,41.79L325.69,16L331.31,39.57L348.15,42.59L353.77,51.06L359.38,48.24L365,31.71L370.62,59.52L393.08,61.33L398.69,74.43L404.31,95.78L409.92,104.65L426.77,113.11L432.38,109.88L438,132.45L443.62,157.73L449.23,161.56L466.08,151.79L471.69,141.62L477.31,141.01L482.92,175.46L488.54,205.48L505.38,304L511,261.59\" style=\"vector-effect: non-scaling-stroke; fill: none; stroke: rgb(99, 110, 250); stroke-opacity: 1; stroke-width: 2px; opacity: 1;\"/></g><g class=\"points\"/><g class=\"text\"/></g><g class=\"trace scatter tracecd9780\" style=\"stroke-miterlimit: 2; opacity: 1;\"><g class=\"fills\"/><g class=\"errorbars\"/><g class=\"lines\"><path class=\"js-line\" d=\"M73,78.03L78.62,79.24L84.23,79.04L95.46,79.22L112.31,75.8L117.92,72.73L123.54,70.78L129.15,66.87L134.77,61.23L151.62,56.43L157.23,53.67L190.92,51L196.54,51.66L202.15,52L207.77,54.38L213.38,58.79L230.23,64.67L235.85,67.23L241.46,66.87L247.08,66.27L252.69,66.69L269.54,68.14L275.15,67.19L286.38,66.41L292,63.81L308.85,61.07L314.46,58.87L320.08,56.88L325.69,52.12L331.31,49.22L348.15,46.78L353.77,47.09L359.38,46.14L365,42.86L370.62,43.24L393.08,43.56L398.69,46.62L404.31,52.02L409.92,60.89L426.77,68.24L432.38,74.97L438,83.11L443.62,94.06L449.23,107.04L466.08,116.27L471.69,124.3L477.31,130.96L482.92,138.93L488.54,149.01L505.38,168.1L511,183.27\" style=\"vector-effect: non-scaling-stroke; fill: none; stroke: rgb(239, 85, 59); stroke-opacity: 1; stroke-width: 2px; opacity: 1;\"/></g><g class=\"points\"/><g class=\"text\"/></g><g class=\"trace scatter tracede58da\" style=\"stroke-miterlimit: 2; opacity: 1;\"><g class=\"fills\"/><g class=\"errorbars\"/><g class=\"lines\"><path class=\"js-line\" d=\"M151.62,67.23L162.85,66.11L168.46,66.11L174.08,65.68L190.92,63.4L202.15,61.39L207.77,60.63L213.38,60.01L230.23,60.55L280.77,59.58L286.38,60.39L292,61.3L308.85,62.87L314.46,63.05L320.08,61.87L325.69,59.19L331.31,57.96L359.38,56.65L365,54.63L370.62,53.52L393.08,52.31L398.69,52.75L404.31,54.45L409.92,56.51L426.77,58.73L432.38,60.88L438,65.1L449.23,74.95L466.08,79.75L477.31,88.79L482.92,95.47L488.54,104.95L505.38,118.17L511,129.12\" style=\"vector-effect: non-scaling-stroke; fill: none; stroke: rgb(0, 204, 150); stroke-opacity: 1; stroke-width: 2px; opacity: 1;\"/></g><g class=\"points\"/><g class=\"text\"/></g></g></g><g class=\"overplot\"/><path class=\"xlines-above crisp\" d=\"M0,0\" style=\"fill: none;\"/><path class=\"ylines-above crisp\" d=\"M0,0\" style=\"fill: none;\"/><g class=\"overlines-above\"/><g class=\"xaxislayer-above\"><g class=\"xtick\"><text text-anchor=\"middle\" x=\"0\" y=\"433\" transform=\"translate(147.38,0)\" style=\"font-family: 'Open Sans', verdana, arial, sans-serif; font-size: 12px; fill: rgb(42, 63, 95); fill-opacity: 1; white-space: pre; opacity: 1;\"><tspan class=\"line\" dy=\"0em\" x=\"0\" y=\"433\">May 19</tspan><tspan class=\"line\" dy=\"1.3em\" x=\"0\" y=\"433\">2024</tspan></text></g><g class=\"xtick\"><text text-anchor=\"middle\" x=\"0\" y=\"433\" style=\"font-family: 'Open Sans', verdana, arial, sans-serif; font-size: 12px; fill: rgb(42, 63, 95); fill-opacity: 1; white-space: pre; opacity: 1;\" transform=\"translate(226,0)\">Jun 2</text></g><g class=\"xtick\"><text text-anchor=\"middle\" x=\"0\" y=\"433\" style=\"font-family: 'Open Sans', verdana, arial, sans-serif; font-size: 12px; fill: rgb(42, 63, 95); fill-opacity: 1; white-space: pre; opacity: 1;\" transform=\"translate(304.62,0)\">Jun 16</text></g><g class=\"xtick\"><text text-anchor=\"middle\" x=\"0\" y=\"433\" style=\"font-family: 'Open Sans', verdana, arial, sans-serif; font-size: 12px; fill: rgb(42, 63, 95); fill-opacity: 1; white-space: pre; opacity: 1;\" transform=\"translate(383.23,0)\">Jun 30</text></g><g class=\"xtick\"><text text-anchor=\"middle\" x=\"0\" y=\"433\" style=\"font-family: 'Open Sans', verdana, arial, sans-serif; font-size: 12px; fill: rgb(42, 63, 95); fill-opacity: 1; white-space: pre; opacity: 1;\" transform=\"translate(461.85,0)\">Jul 14</text></g><g class=\"xtick\"><text text-anchor=\"middle\" x=\"0\" y=\"433\" style=\"font-family: 'Open Sans', verdana, arial, sans-serif; font-size: 12px; fill: rgb(42, 63, 95); fill-opacity: 1; white-space: pre; opacity: 1;\" transform=\"translate(540.46,0)\">Jul 28</text></g></g><g class=\"yaxislayer-above\"><g class=\"ytick\"><text text-anchor=\"end\" x=\"79\" y=\"4.199999999999999\" transform=\"translate(0,399.47)\" style=\"font-family: 'Open Sans', verdana, arial, sans-serif; font-size: 12px; fill: rgb(42, 63, 95); fill-opacity: 1; white-space: pre; opacity: 1;\">2200</text></g><g class=\"ytick\"><text text-anchor=\"end\" x=\"79\" y=\"4.199999999999999\" style=\"font-family: 'Open Sans', verdana, arial, sans-serif; font-size: 12px; fill: rgb(42, 63, 95); fill-opacity: 1; white-space: pre; opacity: 1;\" transform=\"translate(0,359.17)\">2400</text></g><g class=\"ytick\"><text text-anchor=\"end\" x=\"79\" y=\"4.199999999999999\" style=\"font-family: 'Open Sans', verdana, arial, sans-serif; font-size: 12px; fill: rgb(42, 63, 95); fill-opacity: 1; white-space: pre; opacity: 1;\" transform=\"translate(0,318.88)\">2600</text></g><g class=\"ytick\"><text text-anchor=\"end\" x=\"79\" y=\"4.199999999999999\" style=\"font-family: 'Open Sans', verdana, arial, sans-serif; font-size: 12px; fill: rgb(42, 63, 95); fill-opacity: 1; white-space: pre; opacity: 1;\" transform=\"translate(0,278.59000000000003)\">2800</text></g><g class=\"ytick\"><text text-anchor=\"end\" x=\"79\" y=\"4.199999999999999\" style=\"font-family: 'Open Sans', verdana, arial, sans-serif; font-size: 12px; fill: rgb(42, 63, 95); fill-opacity: 1; white-space: pre; opacity: 1;\" transform=\"translate(0,238.29)\">3000</text></g><g class=\"ytick\"><text text-anchor=\"end\" x=\"79\" y=\"4.199999999999999\" style=\"font-family: 'Open Sans', verdana, arial, sans-serif; font-size: 12px; fill: rgb(42, 63, 95); fill-opacity: 1; white-space: pre; opacity: 1;\" transform=\"translate(0,198)\">3200</text></g><g class=\"ytick\"><text text-anchor=\"end\" x=\"79\" y=\"4.199999999999999\" style=\"font-family: 'Open Sans', verdana, arial, sans-serif; font-size: 12px; fill: rgb(42, 63, 95); fill-opacity: 1; white-space: pre; opacity: 1;\" transform=\"translate(0,157.7)\">3400</text></g><g class=\"ytick\"><text text-anchor=\"end\" x=\"79\" y=\"4.199999999999999\" style=\"font-family: 'Open Sans', verdana, arial, sans-serif; font-size: 12px; fill: rgb(42, 63, 95); fill-opacity: 1; white-space: pre; opacity: 1;\" transform=\"translate(0,117.41)\">3600</text></g></g><g class=\"overaxes-above\"/></g></g><g class=\"polarlayer\"/><g class=\"smithlayer\"/><g class=\"ternarylayer\"/><g class=\"geolayer\"/><g class=\"funnelarealayer\"/><g class=\"pielayer\"/><g class=\"iciclelayer\"/><g class=\"treemaplayer\"/><g class=\"sunburstlayer\"/><g class=\"glimages\"/><defs id=\"topdefs-c12258\"><g class=\"clips\"/><clipPath id=\"legendc12258\"><rect width=\"87\" height=\"86\" x=\"0\" y=\"0\"/></clipPath></defs><g class=\"layer-above\"><g class=\"imagelayer\"/><g class=\"shapelayer\"/></g><g class=\"infolayer\"><g class=\"legend\" pointer-events=\"all\" transform=\"translate(601.22,100)\"><rect class=\"bg\" shape-rendering=\"crispEdges\" width=\"87\" height=\"86\" x=\"0\" y=\"0\" style=\"stroke: rgb(68, 68, 68); stroke-opacity: 1; fill: rgb(255, 255, 255); fill-opacity: 1; stroke-width: 0px;\"/><g class=\"scrollbox\" transform=\"\" clip-path=\"url(#legendc12258)\"><text class=\"legendtitletext\" text-anchor=\"start\" x=\"2\" y=\"18.2\" style=\"font-family: 'Open Sans', verdana, arial, sans-serif; font-size: 14px; fill: rgb(42, 63, 95); fill-opacity: 1; white-space: pre;\">variable</text><g class=\"groups\" transform=\"\"><g class=\"traces\" transform=\"translate(0,32.7)\" style=\"opacity: 1;\"><text class=\"legendtext\" text-anchor=\"start\" x=\"40\" y=\"4.680000000000001\" style=\"font-family: 'Open Sans', verdana, arial, sans-serif; font-size: 12px; fill: rgb(42, 63, 95); fill-opacity: 1; white-space: pre;\">Close</text><g class=\"layers\" style=\"opacity: 1;\"><g class=\"legendfill\"/><g class=\"legendlines\"><path class=\"js-line\" d=\"M5,0h30\" style=\"fill: none; stroke: rgb(99, 110, 250); stroke-opacity: 1; stroke-width: 2px;\"/></g><g class=\"legendsymbols\"><g class=\"legendpoints\"/></g></g><rect class=\"legendtoggle\" x=\"0\" y=\"-9.5\" width=\"81.578125\" height=\"19\" style=\"fill: rgb(0, 0, 0); fill-opacity: 0;\"/></g></g><g class=\"groups\" transform=\"\"><g class=\"traces\" transform=\"translate(0,51.7)\" style=\"opacity: 1;\"><text class=\"legendtext\" text-anchor=\"start\" x=\"40\" y=\"4.680000000000001\" style=\"font-family: 'Open Sans', verdana, arial, sans-serif; font-size: 12px; fill: rgb(42, 63, 95); fill-opacity: 1; white-space: pre;\">MA_10</text><g class=\"layers\" style=\"opacity: 1;\"><g class=\"legendfill\"/><g class=\"legendlines\"><path class=\"js-line\" d=\"M5,0h30\" style=\"fill: none; stroke: rgb(239, 85, 59); stroke-opacity: 1; stroke-width: 2px;\"/></g><g class=\"legendsymbols\"><g class=\"legendpoints\"/></g></g><rect class=\"legendtoggle\" x=\"0\" y=\"-9.5\" width=\"81.578125\" height=\"19\" style=\"fill: rgb(0, 0, 0); fill-opacity: 0;\"/></g></g><g class=\"groups\" transform=\"\"><g class=\"traces\" transform=\"translate(0,70.7)\" style=\"opacity: 1;\"><text class=\"legendtext\" text-anchor=\"start\" x=\"40\" y=\"4.680000000000001\" style=\"font-family: 'Open Sans', verdana, arial, sans-serif; font-size: 12px; fill: rgb(42, 63, 95); fill-opacity: 1; white-space: pre;\">MA_20</text><g class=\"layers\" style=\"opacity: 1;\"><g class=\"legendfill\"/><g class=\"legendlines\"><path class=\"js-line\" d=\"M5,0h30\" style=\"fill: none; stroke: rgb(0, 204, 150); stroke-opacity: 1; stroke-width: 2px;\"/></g><g class=\"legendsymbols\"><g class=\"legendpoints\"/></g></g><rect class=\"legendtoggle\" x=\"0\" y=\"-9.5\" width=\"81.578125\" height=\"19\" style=\"fill: rgb(0, 0, 0); fill-opacity: 0;\"/></g></g></g><rect class=\"scrollbar\" rx=\"20\" ry=\"3\" width=\"0\" height=\"0\" x=\"0\" y=\"0\" style=\"fill: rgb(128, 139, 164); fill-opacity: 1;\"/></g><g class=\"g-gtitle\"><text class=\"gtitle\" x=\"35\" y=\"50\" text-anchor=\"start\" dy=\"0em\" style=\"font-family: 'Open Sans', verdana, arial, sans-serif; font-size: 17px; fill: rgb(42, 63, 95); opacity: 1; font-weight: normal; white-space: pre;\">SUBARU Moving Average</text></g><g class=\"g-xtitle\"><text class=\"xtitle\" x=\"335.5\" y=\"476.409375\" text-anchor=\"middle\" style=\"font-family: 'Open Sans', verdana, arial, sans-serif; font-size: 14px; fill: rgb(42, 63, 95); opacity: 1; font-weight: normal; white-space: pre;\">Date</text></g><g class=\"g-ytitle\"><text class=\"ytitle\" transform=\"rotate(-90,23.684375000000003,260)\" x=\"23.684375000000003\" y=\"260\" text-anchor=\"middle\" style=\"font-family: 'Open Sans', verdana, arial, sans-serif; font-size: 14px; fill: rgb(42, 63, 95); opacity: 1; font-weight: normal; white-space: pre;\">value</text></g></g></svg>"
      ]
     },
     "metadata": {},
     "output_type": "display_data"
    },
    {
     "data": {
      "image/svg+xml": [
       "<svg class=\"main-svg\" xmlns=\"http://www.w3.org/2000/svg\" xmlns:xlink=\"http://www.w3.org/1999/xlink\" width=\"700\" height=\"500\" style=\"\" viewBox=\"0 0 700 500\"><rect x=\"0\" y=\"0\" width=\"700\" height=\"500\" style=\"fill: rgb(255, 255, 255); fill-opacity: 1;\"/><defs id=\"defs-3918e4\"><g class=\"clips\"><clipPath id=\"clip3918e4xyplot\" class=\"plotclip\"><rect width=\"511\" height=\"320\"/></clipPath><clipPath class=\"axesclip\" id=\"clip3918e4x\"><rect x=\"80\" y=\"0\" width=\"511\" height=\"500\"/></clipPath><clipPath class=\"axesclip\" id=\"clip3918e4y\"><rect x=\"0\" y=\"100\" width=\"700\" height=\"320\"/></clipPath><clipPath class=\"axesclip\" id=\"clip3918e4xy\"><rect x=\"80\" y=\"100\" width=\"511\" height=\"320\"/></clipPath></g><g class=\"gradients\"/><g class=\"patterns\"/></defs><g class=\"bglayer\"><rect class=\"bg\" x=\"80\" y=\"100\" width=\"511\" height=\"320\" style=\"fill: rgb(229, 236, 246); fill-opacity: 1; stroke-width: 0;\"/></g><g class=\"layer-below\"><g class=\"imagelayer\"/><g class=\"shapelayer\"/></g><g class=\"cartesianlayer\"><g class=\"subplot xy\"><g class=\"layer-subplot\"><g class=\"shapelayer\"/><g class=\"imagelayer\"/></g><g class=\"minor-gridlayer\"><g class=\"x\"/><g class=\"y\"/></g><g class=\"gridlayer\"><g class=\"x\"><path class=\"xgrid crisp\" transform=\"translate(147.38,0)\" d=\"M0,100v320\" style=\"stroke: rgb(255, 255, 255); stroke-opacity: 1; stroke-width: 1px;\"/><path class=\"xgrid crisp\" transform=\"translate(226,0)\" d=\"M0,100v320\" style=\"stroke: rgb(255, 255, 255); stroke-opacity: 1; stroke-width: 1px;\"/><path class=\"xgrid crisp\" transform=\"translate(304.62,0)\" d=\"M0,100v320\" style=\"stroke: rgb(255, 255, 255); stroke-opacity: 1; stroke-width: 1px;\"/><path class=\"xgrid crisp\" transform=\"translate(383.23,0)\" d=\"M0,100v320\" style=\"stroke: rgb(255, 255, 255); stroke-opacity: 1; stroke-width: 1px;\"/><path class=\"xgrid crisp\" transform=\"translate(461.85,0)\" d=\"M0,100v320\" style=\"stroke: rgb(255, 255, 255); stroke-opacity: 1; stroke-width: 1px;\"/><path class=\"xgrid crisp\" transform=\"translate(540.46,0)\" d=\"M0,100v320\" style=\"stroke: rgb(255, 255, 255); stroke-opacity: 1; stroke-width: 1px;\"/></g><g class=\"y\"><path class=\"ygrid crisp\" transform=\"translate(0,378.64)\" d=\"M80,0h511\" style=\"stroke: rgb(255, 255, 255); stroke-opacity: 1; stroke-width: 1px;\"/><path class=\"ygrid crisp\" transform=\"translate(0,331.23)\" d=\"M80,0h511\" style=\"stroke: rgb(255, 255, 255); stroke-opacity: 1; stroke-width: 1px;\"/><path class=\"ygrid crisp\" transform=\"translate(0,283.82)\" d=\"M80,0h511\" style=\"stroke: rgb(255, 255, 255); stroke-opacity: 1; stroke-width: 1px;\"/><path class=\"ygrid crisp\" transform=\"translate(0,236.41)\" d=\"M80,0h511\" style=\"stroke: rgb(255, 255, 255); stroke-opacity: 1; stroke-width: 1px;\"/><path class=\"ygrid crisp\" transform=\"translate(0,189.01)\" d=\"M80,0h511\" style=\"stroke: rgb(255, 255, 255); stroke-opacity: 1; stroke-width: 1px;\"/><path class=\"ygrid crisp\" transform=\"translate(0,141.6)\" d=\"M80,0h511\" style=\"stroke: rgb(255, 255, 255); stroke-opacity: 1; stroke-width: 1px;\"/></g></g><g class=\"zerolinelayer\"/><path class=\"xlines-below\"/><path class=\"ylines-below\"/><g class=\"overlines-below\"/><g class=\"xaxislayer-below\"/><g class=\"yaxislayer-below\"/><g class=\"overaxes-below\"/><g class=\"plot\" transform=\"translate(80,100)\" clip-path=\"url(#clip3918e4xyplot)\"><g class=\"scatterlayer mlayer\"><g class=\"trace scatter trace0646c0\" style=\"stroke-miterlimit: 2; opacity: 1;\"><g class=\"fills\"/><g class=\"errorbars\"/><g class=\"lines\"><path class=\"js-line\" d=\"M0,85.93L5.62,104.41L11.23,104.41L16.85,95.17L33.69,118.64L39.31,66.25L44.92,65.3L50.54,96.12L56.15,95.64L73,70.76L78.62,67.44L84.23,72.89L89.85,65.3L95.46,59.14L112.31,47.29L117.92,51.79L123.54,61.04L129.15,65.3L134.77,58.9L151.62,45.63L157.23,62.22L162.85,61.04L168.46,70.04L174.08,61.27L190.92,50.61L196.54,37.57L202.15,39.47L207.77,54.87L213.38,62.93L230.23,94.93L235.85,84.74L241.46,63.88L247.08,74.55L252.69,81.19L269.54,87.11L275.15,78.1L280.77,81.66L286.38,87.35L292,64.83L308.85,73.13L314.46,79.53L320.08,99.44L325.69,82.84L331.31,90.43L348.15,98.49L353.77,69.57L359.38,32.36L365,16L370.62,50.84L393.08,44.92L398.69,41.36L404.31,73.36L409.92,73.13L426.77,74.55L432.38,72.89L438,99.2L443.62,135.94L449.23,142.81L466.08,111.53L471.69,108.92L477.31,108.21L482.92,110.58L488.54,176.24L505.38,304L511,195.44\" style=\"vector-effect: non-scaling-stroke; fill: none; stroke: rgb(99, 110, 250); stroke-opacity: 1; stroke-width: 2px; opacity: 1;\"/></g><g class=\"points\"/><g class=\"text\"/></g><g class=\"trace scatter tracea486c1\" style=\"stroke-miterlimit: 2; opacity: 1;\"><g class=\"fills\"/><g class=\"errorbars\"/><g class=\"lines\"><path class=\"js-line\" d=\"M73,90.26L78.62,88.41L84.23,85.26L95.46,77.75L112.31,70.61L117.92,69.17L123.54,68.74L134.77,61.99L151.62,59.47L162.85,57.77L168.46,58.24L190.92,58.79L196.54,57.36L202.15,55.21L207.77,54.16L213.38,54.57L230.23,59.5L235.85,61.75L241.46,62.03L247.08,62.48L252.69,64.47L269.54,68.12L275.15,72.18L280.77,76.4L286.38,79.64L292,79.83L308.85,77.65L314.46,77.13L320.08,80.69L331.31,82.44L348.15,83.58L353.77,82.73L359.38,77.8L365,70.66L370.62,69.26L393.08,66.44L398.69,62.63L404.31,60.02L409.92,59.05L426.77,57.46L432.38,54.9L438,57.86L443.62,68.22L449.23,80.9L466.08,86.97L477.31,100.05L482.92,103.77L488.54,114.09L505.38,137.03L511,149.29\" style=\"vector-effect: non-scaling-stroke; fill: none; stroke: rgb(239, 85, 59); stroke-opacity: 1; stroke-width: 2px; opacity: 1;\"/></g><g class=\"points\"/><g class=\"text\"/></g><g class=\"trace scatter traceca542b\" style=\"stroke-miterlimit: 2; opacity: 1;\"><g class=\"fills\"/><g class=\"errorbars\"/><g class=\"lines\"><path class=\"js-line\" d=\"M151.62,74.87L157.23,73.68L162.85,71.51L174.08,68.1L190.92,64.7L207.77,59.91L213.38,58.28L235.85,60.35L241.46,59.9L252.69,61.46L269.54,63.45L286.38,66.9L292,67.2L314.46,69.44L320.08,71.36L325.69,72L331.31,73.46L348.15,75.85L353.77,77.45L359.38,77.1L365,75.15L393.08,72.05L398.69,69.88L409.92,70.28L426.77,69.95L432.38,69.24L438,70.29L449.23,75.78L466.08,78.12L477.31,81.34L482.92,81.9L488.54,86.57L505.38,97.24L511,102.09\" style=\"vector-effect: non-scaling-stroke; fill: none; stroke: rgb(0, 204, 150); stroke-opacity: 1; stroke-width: 2px; opacity: 1;\"/></g><g class=\"points\"/><g class=\"text\"/></g></g></g><g class=\"overplot\"/><path class=\"xlines-above crisp\" d=\"M0,0\" style=\"fill: none;\"/><path class=\"ylines-above crisp\" d=\"M0,0\" style=\"fill: none;\"/><g class=\"overlines-above\"/><g class=\"xaxislayer-above\"><g class=\"xtick\"><text text-anchor=\"middle\" x=\"0\" y=\"433\" transform=\"translate(147.38,0)\" style=\"font-family: 'Open Sans', verdana, arial, sans-serif; font-size: 12px; fill: rgb(42, 63, 95); fill-opacity: 1; white-space: pre; opacity: 1;\"><tspan class=\"line\" dy=\"0em\" x=\"0\" y=\"433\">May 19</tspan><tspan class=\"line\" dy=\"1.3em\" x=\"0\" y=\"433\">2024</tspan></text></g><g class=\"xtick\"><text text-anchor=\"middle\" x=\"0\" y=\"433\" style=\"font-family: 'Open Sans', verdana, arial, sans-serif; font-size: 12px; fill: rgb(42, 63, 95); fill-opacity: 1; white-space: pre; opacity: 1;\" transform=\"translate(226,0)\">Jun 2</text></g><g class=\"xtick\"><text text-anchor=\"middle\" x=\"0\" y=\"433\" style=\"font-family: 'Open Sans', verdana, arial, sans-serif; font-size: 12px; fill: rgb(42, 63, 95); fill-opacity: 1; white-space: pre; opacity: 1;\" transform=\"translate(304.62,0)\">Jun 16</text></g><g class=\"xtick\"><text text-anchor=\"middle\" x=\"0\" y=\"433\" style=\"font-family: 'Open Sans', verdana, arial, sans-serif; font-size: 12px; fill: rgb(42, 63, 95); fill-opacity: 1; white-space: pre; opacity: 1;\" transform=\"translate(383.23,0)\">Jun 30</text></g><g class=\"xtick\"><text text-anchor=\"middle\" x=\"0\" y=\"433\" style=\"font-family: 'Open Sans', verdana, arial, sans-serif; font-size: 12px; fill: rgb(42, 63, 95); fill-opacity: 1; white-space: pre; opacity: 1;\" transform=\"translate(461.85,0)\">Jul 14</text></g><g class=\"xtick\"><text text-anchor=\"middle\" x=\"0\" y=\"433\" style=\"font-family: 'Open Sans', verdana, arial, sans-serif; font-size: 12px; fill: rgb(42, 63, 95); fill-opacity: 1; white-space: pre; opacity: 1;\" transform=\"translate(540.46,0)\">Jul 28</text></g></g><g class=\"yaxislayer-above\"><g class=\"ytick\"><text text-anchor=\"end\" x=\"79\" y=\"4.199999999999999\" transform=\"translate(0,378.64)\" style=\"font-family: 'Open Sans', verdana, arial, sans-serif; font-size: 12px; fill: rgb(42, 63, 95); fill-opacity: 1; white-space: pre; opacity: 1;\">1400</text></g><g class=\"ytick\"><text text-anchor=\"end\" x=\"79\" y=\"4.199999999999999\" style=\"font-family: 'Open Sans', verdana, arial, sans-serif; font-size: 12px; fill: rgb(42, 63, 95); fill-opacity: 1; white-space: pre; opacity: 1;\" transform=\"translate(0,331.23)\">1500</text></g><g class=\"ytick\"><text text-anchor=\"end\" x=\"79\" y=\"4.199999999999999\" style=\"font-family: 'Open Sans', verdana, arial, sans-serif; font-size: 12px; fill: rgb(42, 63, 95); fill-opacity: 1; white-space: pre; opacity: 1;\" transform=\"translate(0,283.82)\">1600</text></g><g class=\"ytick\"><text text-anchor=\"end\" x=\"79\" y=\"4.199999999999999\" style=\"font-family: 'Open Sans', verdana, arial, sans-serif; font-size: 12px; fill: rgb(42, 63, 95); fill-opacity: 1; white-space: pre; opacity: 1;\" transform=\"translate(0,236.41)\">1700</text></g><g class=\"ytick\"><text text-anchor=\"end\" x=\"79\" y=\"4.199999999999999\" style=\"font-family: 'Open Sans', verdana, arial, sans-serif; font-size: 12px; fill: rgb(42, 63, 95); fill-opacity: 1; white-space: pre; opacity: 1;\" transform=\"translate(0,189.01)\">1800</text></g><g class=\"ytick\"><text text-anchor=\"end\" x=\"79\" y=\"4.199999999999999\" style=\"font-family: 'Open Sans', verdana, arial, sans-serif; font-size: 12px; fill: rgb(42, 63, 95); fill-opacity: 1; white-space: pre; opacity: 1;\" transform=\"translate(0,141.6)\">1900</text></g></g><g class=\"overaxes-above\"/></g></g><g class=\"polarlayer\"/><g class=\"smithlayer\"/><g class=\"ternarylayer\"/><g class=\"geolayer\"/><g class=\"funnelarealayer\"/><g class=\"pielayer\"/><g class=\"iciclelayer\"/><g class=\"treemaplayer\"/><g class=\"sunburstlayer\"/><g class=\"glimages\"/><defs id=\"topdefs-3918e4\"><g class=\"clips\"/><clipPath id=\"legend3918e4\"><rect width=\"87\" height=\"86\" x=\"0\" y=\"0\"/></clipPath></defs><g class=\"layer-above\"><g class=\"imagelayer\"/><g class=\"shapelayer\"/></g><g class=\"infolayer\"><g class=\"legend\" pointer-events=\"all\" transform=\"translate(601.22,100)\"><rect class=\"bg\" shape-rendering=\"crispEdges\" width=\"87\" height=\"86\" x=\"0\" y=\"0\" style=\"stroke: rgb(68, 68, 68); stroke-opacity: 1; fill: rgb(255, 255, 255); fill-opacity: 1; stroke-width: 0px;\"/><g class=\"scrollbox\" transform=\"\" clip-path=\"url(#legend3918e4)\"><text class=\"legendtitletext\" text-anchor=\"start\" x=\"2\" y=\"18.2\" style=\"font-family: 'Open Sans', verdana, arial, sans-serif; font-size: 14px; fill: rgb(42, 63, 95); fill-opacity: 1; white-space: pre;\">variable</text><g class=\"groups\" transform=\"\"><g class=\"traces\" transform=\"translate(0,32.7)\" style=\"opacity: 1;\"><text class=\"legendtext\" text-anchor=\"start\" x=\"40\" y=\"4.680000000000001\" style=\"font-family: 'Open Sans', verdana, arial, sans-serif; font-size: 12px; fill: rgb(42, 63, 95); fill-opacity: 1; white-space: pre;\">Close</text><g class=\"layers\" style=\"opacity: 1;\"><g class=\"legendfill\"/><g class=\"legendlines\"><path class=\"js-line\" d=\"M5,0h30\" style=\"fill: none; stroke: rgb(99, 110, 250); stroke-opacity: 1; stroke-width: 2px;\"/></g><g class=\"legendsymbols\"><g class=\"legendpoints\"/></g></g><rect class=\"legendtoggle\" x=\"0\" y=\"-9.5\" width=\"81.578125\" height=\"19\" style=\"fill: rgb(0, 0, 0); fill-opacity: 0;\"/></g></g><g class=\"groups\" transform=\"\"><g class=\"traces\" transform=\"translate(0,51.7)\" style=\"opacity: 1;\"><text class=\"legendtext\" text-anchor=\"start\" x=\"40\" y=\"4.680000000000001\" style=\"font-family: 'Open Sans', verdana, arial, sans-serif; font-size: 12px; fill: rgb(42, 63, 95); fill-opacity: 1; white-space: pre;\">MA_10</text><g class=\"layers\" style=\"opacity: 1;\"><g class=\"legendfill\"/><g class=\"legendlines\"><path class=\"js-line\" d=\"M5,0h30\" style=\"fill: none; stroke: rgb(239, 85, 59); stroke-opacity: 1; stroke-width: 2px;\"/></g><g class=\"legendsymbols\"><g class=\"legendpoints\"/></g></g><rect class=\"legendtoggle\" x=\"0\" y=\"-9.5\" width=\"81.578125\" height=\"19\" style=\"fill: rgb(0, 0, 0); fill-opacity: 0;\"/></g></g><g class=\"groups\" transform=\"\"><g class=\"traces\" transform=\"translate(0,70.7)\" style=\"opacity: 1;\"><text class=\"legendtext\" text-anchor=\"start\" x=\"40\" y=\"4.680000000000001\" style=\"font-family: 'Open Sans', verdana, arial, sans-serif; font-size: 12px; fill: rgb(42, 63, 95); fill-opacity: 1; white-space: pre;\">MA_20</text><g class=\"layers\" style=\"opacity: 1;\"><g class=\"legendfill\"/><g class=\"legendlines\"><path class=\"js-line\" d=\"M5,0h30\" style=\"fill: none; stroke: rgb(0, 204, 150); stroke-opacity: 1; stroke-width: 2px;\"/></g><g class=\"legendsymbols\"><g class=\"legendpoints\"/></g></g><rect class=\"legendtoggle\" x=\"0\" y=\"-9.5\" width=\"81.578125\" height=\"19\" style=\"fill: rgb(0, 0, 0); fill-opacity: 0;\"/></g></g></g><rect class=\"scrollbar\" rx=\"20\" ry=\"3\" width=\"0\" height=\"0\" x=\"0\" y=\"0\" style=\"fill: rgb(128, 139, 164); fill-opacity: 1;\"/></g><g class=\"g-gtitle\"><text class=\"gtitle\" x=\"35\" y=\"50\" text-anchor=\"start\" dy=\"0em\" style=\"font-family: 'Open Sans', verdana, arial, sans-serif; font-size: 17px; fill: rgb(42, 63, 95); opacity: 1; font-weight: normal; white-space: pre;\">SUZUKI Moving Average</text></g><g class=\"g-xtitle\"><text class=\"xtitle\" x=\"335.5\" y=\"476.409375\" text-anchor=\"middle\" style=\"font-family: 'Open Sans', verdana, arial, sans-serif; font-size: 14px; fill: rgb(42, 63, 95); opacity: 1; font-weight: normal; white-space: pre;\">Date</text></g><g class=\"g-ytitle\"><text class=\"ytitle\" transform=\"rotate(-90,23.684375000000003,260)\" x=\"23.684375000000003\" y=\"260\" text-anchor=\"middle\" style=\"font-family: 'Open Sans', verdana, arial, sans-serif; font-size: 14px; fill: rgb(42, 63, 95); opacity: 1; font-weight: normal; white-space: pre;\">value</text></g></g></svg>"
      ]
     },
     "metadata": {},
     "output_type": "display_data"
    },
    {
     "data": {
      "image/svg+xml": [
       "<svg class=\"main-svg\" xmlns=\"http://www.w3.org/2000/svg\" xmlns:xlink=\"http://www.w3.org/1999/xlink\" width=\"700\" height=\"500\" style=\"\" viewBox=\"0 0 700 500\"><rect x=\"0\" y=\"0\" width=\"700\" height=\"500\" style=\"fill: rgb(255, 255, 255); fill-opacity: 1;\"/><defs id=\"defs-92e54d\"><g class=\"clips\"><clipPath id=\"clip92e54dxyplot\" class=\"plotclip\"><rect width=\"511\" height=\"320\"/></clipPath><clipPath class=\"axesclip\" id=\"clip92e54dx\"><rect x=\"80\" y=\"0\" width=\"511\" height=\"500\"/></clipPath><clipPath class=\"axesclip\" id=\"clip92e54dy\"><rect x=\"0\" y=\"100\" width=\"700\" height=\"320\"/></clipPath><clipPath class=\"axesclip\" id=\"clip92e54dxy\"><rect x=\"80\" y=\"100\" width=\"511\" height=\"320\"/></clipPath></g><g class=\"gradients\"/><g class=\"patterns\"/></defs><g class=\"bglayer\"><rect class=\"bg\" x=\"80\" y=\"100\" width=\"511\" height=\"320\" style=\"fill: rgb(229, 236, 246); fill-opacity: 1; stroke-width: 0;\"/></g><g class=\"layer-below\"><g class=\"imagelayer\"/><g class=\"shapelayer\"/></g><g class=\"cartesianlayer\"><g class=\"subplot xy\"><g class=\"layer-subplot\"><g class=\"shapelayer\"/><g class=\"imagelayer\"/></g><g class=\"minor-gridlayer\"><g class=\"x\"/><g class=\"y\"/></g><g class=\"gridlayer\"><g class=\"x\"><path class=\"xgrid crisp\" transform=\"translate(147.38,0)\" d=\"M0,100v320\" style=\"stroke: rgb(255, 255, 255); stroke-opacity: 1; stroke-width: 1px;\"/><path class=\"xgrid crisp\" transform=\"translate(226,0)\" d=\"M0,100v320\" style=\"stroke: rgb(255, 255, 255); stroke-opacity: 1; stroke-width: 1px;\"/><path class=\"xgrid crisp\" transform=\"translate(304.62,0)\" d=\"M0,100v320\" style=\"stroke: rgb(255, 255, 255); stroke-opacity: 1; stroke-width: 1px;\"/><path class=\"xgrid crisp\" transform=\"translate(383.23,0)\" d=\"M0,100v320\" style=\"stroke: rgb(255, 255, 255); stroke-opacity: 1; stroke-width: 1px;\"/><path class=\"xgrid crisp\" transform=\"translate(461.85,0)\" d=\"M0,100v320\" style=\"stroke: rgb(255, 255, 255); stroke-opacity: 1; stroke-width: 1px;\"/><path class=\"xgrid crisp\" transform=\"translate(540.46,0)\" d=\"M0,100v320\" style=\"stroke: rgb(255, 255, 255); stroke-opacity: 1; stroke-width: 1px;\"/></g><g class=\"y\"><path class=\"ygrid crisp\" transform=\"translate(0,410.74)\" d=\"M80,0h511\" style=\"stroke: rgb(255, 255, 255); stroke-opacity: 1; stroke-width: 1px;\"/><path class=\"ygrid crisp\" transform=\"translate(0,368.61)\" d=\"M80,0h511\" style=\"stroke: rgb(255, 255, 255); stroke-opacity: 1; stroke-width: 1px;\"/><path class=\"ygrid crisp\" transform=\"translate(0,326.47)\" d=\"M80,0h511\" style=\"stroke: rgb(255, 255, 255); stroke-opacity: 1; stroke-width: 1px;\"/><path class=\"ygrid crisp\" transform=\"translate(0,284.33000000000004)\" d=\"M80,0h511\" style=\"stroke: rgb(255, 255, 255); stroke-opacity: 1; stroke-width: 1px;\"/><path class=\"ygrid crisp\" transform=\"translate(0,242.2)\" d=\"M80,0h511\" style=\"stroke: rgb(255, 255, 255); stroke-opacity: 1; stroke-width: 1px;\"/><path class=\"ygrid crisp\" transform=\"translate(0,200.06)\" d=\"M80,0h511\" style=\"stroke: rgb(255, 255, 255); stroke-opacity: 1; stroke-width: 1px;\"/><path class=\"ygrid crisp\" transform=\"translate(0,157.93)\" d=\"M80,0h511\" style=\"stroke: rgb(255, 255, 255); stroke-opacity: 1; stroke-width: 1px;\"/><path class=\"ygrid crisp\" transform=\"translate(0,115.78999999999999)\" d=\"M80,0h511\" style=\"stroke: rgb(255, 255, 255); stroke-opacity: 1; stroke-width: 1px;\"/></g></g><g class=\"zerolinelayer\"/><path class=\"xlines-below\"/><path class=\"ylines-below\"/><g class=\"overlines-below\"/><g class=\"xaxislayer-below\"/><g class=\"yaxislayer-below\"/><g class=\"overaxes-below\"/><g class=\"plot\" transform=\"translate(80,100)\" clip-path=\"url(#clip92e54dxyplot)\"><g class=\"scatterlayer mlayer\"><g class=\"trace scatter trace9c0033\" style=\"stroke-miterlimit: 2; opacity: 1;\"><g class=\"fills\"/><g class=\"errorbars\"/><g class=\"lines\"><path class=\"js-line\" d=\"M0,16L5.62,20.21L11.23,30.96L16.85,52.66L33.69,65.09L44.92,56.24L50.54,68.04L56.15,50.34L73,48.02L78.62,50.13L84.23,60.45L89.85,57.29L95.46,59.4L112.31,47.39L117.92,47.81L129.15,72.67L134.77,57.71L151.62,70.36L157.23,79.41L162.85,96.27L168.46,84.68L174.08,96.06L190.92,84.89L196.54,88.68L202.15,98.17L207.77,115.23L213.38,117.76L230.23,134.61L235.85,131.24L241.46,119.65L247.08,124.5L252.69,126.61L269.54,110.6L275.15,79.84L280.77,84.05L286.38,86.79L292,81.1L308.85,82.36L314.46,72.04L320.08,73.73L325.69,59.82L331.31,74.99L348.15,82.15L353.77,85.31L359.38,80.89L370.62,84.47L393.08,85.52L398.69,88.68L404.31,112.49L409.92,114.18L426.77,123.24L432.38,119.23L438,121.13L443.62,137.98L449.23,161.37L466.08,149.15L471.69,142.93L477.31,152.94L482.92,205.61L505.38,304L511,243.75\" style=\"vector-effect: non-scaling-stroke; fill: none; stroke: rgb(99, 110, 250); stroke-opacity: 1; stroke-width: 2px; opacity: 1;\"/></g><g class=\"points\"/><g class=\"text\"/></g><g class=\"trace scatter trace7284ee\" style=\"stroke-miterlimit: 2; opacity: 1;\"><g class=\"fills\"/><g class=\"errorbars\"/><g class=\"lines\"><path class=\"js-line\" d=\"M73,46.78L89.85,56.85L95.46,57.53L117.92,54.51L123.54,54.89L134.77,56.09L151.62,58.33L168.46,67.57L174.08,71.24L190.92,74.99L196.54,79.08L207.77,87.15L213.38,93.15L230.23,99.58L235.85,104.76L241.46,107.1L247.08,111.08L252.69,114.13L269.54,116.71L280.77,114.41L286.38,111.56L292,107.9L308.85,102.67L314.46,96.75L320.08,92.16L325.69,85.69L331.31,80.53L348.15,77.69L353.77,78.23L370.62,77.81L393.08,78.13L398.69,79.79L404.31,83.67L409.92,89.11L426.77,93.93L438,101.22L443.62,106.93L449.23,114.83L466.08,121.3L477.31,133.46L482.92,142.78L488.54,154.32L505.38,172.4L511,184.85\" style=\"vector-effect: non-scaling-stroke; fill: none; stroke: rgb(239, 85, 59); stroke-opacity: 1; stroke-width: 2px; opacity: 1;\"/></g><g class=\"points\"/><g class=\"text\"/></g><g class=\"trace scatter trace3f8525\" style=\"stroke-miterlimit: 2; opacity: 1;\"><g class=\"fills\"/><g class=\"errorbars\"/><g class=\"lines\"><path class=\"js-line\" d=\"M151.62,52.55L168.46,62.21L174.08,64.38L190.92,65.37L196.54,66.8L207.77,71.25L213.38,74.62L230.23,78.95L235.85,83.01L252.69,92.69L269.54,95.85L280.77,98.65L286.38,99.36L292,100.52L308.85,101.13L314.46,100.76L320.08,99.63L331.31,97.33L348.15,97.2L359.38,96.16L365,94.52L370.62,92.86L393.08,90.4L398.69,88.27L404.31,87.92L409.92,87.4L426.77,87.23L432.38,87.66L438,89.73L443.62,92.42L449.23,96.15L466.08,99.56L471.69,102.58L477.31,106.63L482.92,113.22L488.54,121.71L505.38,133.16L511,141.24\" style=\"vector-effect: non-scaling-stroke; fill: none; stroke: rgb(0, 204, 150); stroke-opacity: 1; stroke-width: 2px; opacity: 1;\"/></g><g class=\"points\"/><g class=\"text\"/></g></g></g><g class=\"overplot\"/><path class=\"xlines-above crisp\" d=\"M0,0\" style=\"fill: none;\"/><path class=\"ylines-above crisp\" d=\"M0,0\" style=\"fill: none;\"/><g class=\"overlines-above\"/><g class=\"xaxislayer-above\"><g class=\"xtick\"><text text-anchor=\"middle\" x=\"0\" y=\"433\" transform=\"translate(147.38,0)\" style=\"font-family: 'Open Sans', verdana, arial, sans-serif; font-size: 12px; fill: rgb(42, 63, 95); fill-opacity: 1; white-space: pre; opacity: 1;\"><tspan class=\"line\" dy=\"0em\" x=\"0\" y=\"433\">May 19</tspan><tspan class=\"line\" dy=\"1.3em\" x=\"0\" y=\"433\">2024</tspan></text></g><g class=\"xtick\"><text text-anchor=\"middle\" x=\"0\" y=\"433\" style=\"font-family: 'Open Sans', verdana, arial, sans-serif; font-size: 12px; fill: rgb(42, 63, 95); fill-opacity: 1; white-space: pre; opacity: 1;\" transform=\"translate(226,0)\">Jun 2</text></g><g class=\"xtick\"><text text-anchor=\"middle\" x=\"0\" y=\"433\" style=\"font-family: 'Open Sans', verdana, arial, sans-serif; font-size: 12px; fill: rgb(42, 63, 95); fill-opacity: 1; white-space: pre; opacity: 1;\" transform=\"translate(304.62,0)\">Jun 16</text></g><g class=\"xtick\"><text text-anchor=\"middle\" x=\"0\" y=\"433\" style=\"font-family: 'Open Sans', verdana, arial, sans-serif; font-size: 12px; fill: rgb(42, 63, 95); fill-opacity: 1; white-space: pre; opacity: 1;\" transform=\"translate(383.23,0)\">Jun 30</text></g><g class=\"xtick\"><text text-anchor=\"middle\" x=\"0\" y=\"433\" style=\"font-family: 'Open Sans', verdana, arial, sans-serif; font-size: 12px; fill: rgb(42, 63, 95); fill-opacity: 1; white-space: pre; opacity: 1;\" transform=\"translate(461.85,0)\">Jul 14</text></g><g class=\"xtick\"><text text-anchor=\"middle\" x=\"0\" y=\"433\" style=\"font-family: 'Open Sans', verdana, arial, sans-serif; font-size: 12px; fill: rgb(42, 63, 95); fill-opacity: 1; white-space: pre; opacity: 1;\" transform=\"translate(540.46,0)\">Jul 28</text></g></g><g class=\"yaxislayer-above\"><g class=\"ytick\"><text text-anchor=\"end\" x=\"79\" y=\"4.199999999999999\" transform=\"translate(0,410.74)\" style=\"font-family: 'Open Sans', verdana, arial, sans-serif; font-size: 12px; fill: rgb(42, 63, 95); fill-opacity: 1; white-space: pre; opacity: 1;\">2200</text></g><g class=\"ytick\"><text text-anchor=\"end\" x=\"79\" y=\"4.199999999999999\" style=\"font-family: 'Open Sans', verdana, arial, sans-serif; font-size: 12px; fill: rgb(42, 63, 95); fill-opacity: 1; white-space: pre; opacity: 1;\" transform=\"translate(0,368.61)\">2400</text></g><g class=\"ytick\"><text text-anchor=\"end\" x=\"79\" y=\"4.199999999999999\" style=\"font-family: 'Open Sans', verdana, arial, sans-serif; font-size: 12px; fill: rgb(42, 63, 95); fill-opacity: 1; white-space: pre; opacity: 1;\" transform=\"translate(0,326.47)\">2600</text></g><g class=\"ytick\"><text text-anchor=\"end\" x=\"79\" y=\"4.199999999999999\" style=\"font-family: 'Open Sans', verdana, arial, sans-serif; font-size: 12px; fill: rgb(42, 63, 95); fill-opacity: 1; white-space: pre; opacity: 1;\" transform=\"translate(0,284.33000000000004)\">2800</text></g><g class=\"ytick\"><text text-anchor=\"end\" x=\"79\" y=\"4.199999999999999\" style=\"font-family: 'Open Sans', verdana, arial, sans-serif; font-size: 12px; fill: rgb(42, 63, 95); fill-opacity: 1; white-space: pre; opacity: 1;\" transform=\"translate(0,242.2)\">3000</text></g><g class=\"ytick\"><text text-anchor=\"end\" x=\"79\" y=\"4.199999999999999\" style=\"font-family: 'Open Sans', verdana, arial, sans-serif; font-size: 12px; fill: rgb(42, 63, 95); fill-opacity: 1; white-space: pre; opacity: 1;\" transform=\"translate(0,200.06)\">3200</text></g><g class=\"ytick\"><text text-anchor=\"end\" x=\"79\" y=\"4.199999999999999\" style=\"font-family: 'Open Sans', verdana, arial, sans-serif; font-size: 12px; fill: rgb(42, 63, 95); fill-opacity: 1; white-space: pre; opacity: 1;\" transform=\"translate(0,157.93)\">3400</text></g><g class=\"ytick\"><text text-anchor=\"end\" x=\"79\" y=\"4.199999999999999\" style=\"font-family: 'Open Sans', verdana, arial, sans-serif; font-size: 12px; fill: rgb(42, 63, 95); fill-opacity: 1; white-space: pre; opacity: 1;\" transform=\"translate(0,115.78999999999999)\">3600</text></g></g><g class=\"overaxes-above\"/></g></g><g class=\"polarlayer\"/><g class=\"smithlayer\"/><g class=\"ternarylayer\"/><g class=\"geolayer\"/><g class=\"funnelarealayer\"/><g class=\"pielayer\"/><g class=\"iciclelayer\"/><g class=\"treemaplayer\"/><g class=\"sunburstlayer\"/><g class=\"glimages\"/><defs id=\"topdefs-92e54d\"><g class=\"clips\"/><clipPath id=\"legend92e54d\"><rect width=\"87\" height=\"86\" x=\"0\" y=\"0\"/></clipPath></defs><g class=\"layer-above\"><g class=\"imagelayer\"/><g class=\"shapelayer\"/></g><g class=\"infolayer\"><g class=\"legend\" pointer-events=\"all\" transform=\"translate(601.22,100)\"><rect class=\"bg\" shape-rendering=\"crispEdges\" width=\"87\" height=\"86\" x=\"0\" y=\"0\" style=\"stroke: rgb(68, 68, 68); stroke-opacity: 1; fill: rgb(255, 255, 255); fill-opacity: 1; stroke-width: 0px;\"/><g class=\"scrollbox\" transform=\"\" clip-path=\"url(#legend92e54d)\"><text class=\"legendtitletext\" text-anchor=\"start\" x=\"2\" y=\"18.2\" style=\"font-family: 'Open Sans', verdana, arial, sans-serif; font-size: 14px; fill: rgb(42, 63, 95); fill-opacity: 1; white-space: pre;\">variable</text><g class=\"groups\" transform=\"\"><g class=\"traces\" transform=\"translate(0,32.7)\" style=\"opacity: 1;\"><text class=\"legendtext\" text-anchor=\"start\" x=\"40\" y=\"4.680000000000001\" style=\"font-family: 'Open Sans', verdana, arial, sans-serif; font-size: 12px; fill: rgb(42, 63, 95); fill-opacity: 1; white-space: pre;\">Close</text><g class=\"layers\" style=\"opacity: 1;\"><g class=\"legendfill\"/><g class=\"legendlines\"><path class=\"js-line\" d=\"M5,0h30\" style=\"fill: none; stroke: rgb(99, 110, 250); stroke-opacity: 1; stroke-width: 2px;\"/></g><g class=\"legendsymbols\"><g class=\"legendpoints\"/></g></g><rect class=\"legendtoggle\" x=\"0\" y=\"-9.5\" width=\"81.578125\" height=\"19\" style=\"fill: rgb(0, 0, 0); fill-opacity: 0;\"/></g></g><g class=\"groups\" transform=\"\"><g class=\"traces\" transform=\"translate(0,51.7)\" style=\"opacity: 1;\"><text class=\"legendtext\" text-anchor=\"start\" x=\"40\" y=\"4.680000000000001\" style=\"font-family: 'Open Sans', verdana, arial, sans-serif; font-size: 12px; fill: rgb(42, 63, 95); fill-opacity: 1; white-space: pre;\">MA_10</text><g class=\"layers\" style=\"opacity: 1;\"><g class=\"legendfill\"/><g class=\"legendlines\"><path class=\"js-line\" d=\"M5,0h30\" style=\"fill: none; stroke: rgb(239, 85, 59); stroke-opacity: 1; stroke-width: 2px;\"/></g><g class=\"legendsymbols\"><g class=\"legendpoints\"/></g></g><rect class=\"legendtoggle\" x=\"0\" y=\"-9.5\" width=\"81.578125\" height=\"19\" style=\"fill: rgb(0, 0, 0); fill-opacity: 0;\"/></g></g><g class=\"groups\" transform=\"\"><g class=\"traces\" transform=\"translate(0,70.7)\" style=\"opacity: 1;\"><text class=\"legendtext\" text-anchor=\"start\" x=\"40\" y=\"4.680000000000001\" style=\"font-family: 'Open Sans', verdana, arial, sans-serif; font-size: 12px; fill: rgb(42, 63, 95); fill-opacity: 1; white-space: pre;\">MA_20</text><g class=\"layers\" style=\"opacity: 1;\"><g class=\"legendfill\"/><g class=\"legendlines\"><path class=\"js-line\" d=\"M5,0h30\" style=\"fill: none; stroke: rgb(0, 204, 150); stroke-opacity: 1; stroke-width: 2px;\"/></g><g class=\"legendsymbols\"><g class=\"legendpoints\"/></g></g><rect class=\"legendtoggle\" x=\"0\" y=\"-9.5\" width=\"81.578125\" height=\"19\" style=\"fill: rgb(0, 0, 0); fill-opacity: 0;\"/></g></g></g><rect class=\"scrollbar\" rx=\"20\" ry=\"3\" width=\"0\" height=\"0\" x=\"0\" y=\"0\" style=\"fill: rgb(128, 139, 164); fill-opacity: 1;\"/></g><g class=\"g-gtitle\"><text class=\"gtitle\" x=\"35\" y=\"50\" text-anchor=\"start\" dy=\"0em\" style=\"font-family: 'Open Sans', verdana, arial, sans-serif; font-size: 17px; fill: rgb(42, 63, 95); opacity: 1; font-weight: normal; white-space: pre;\">TOYOTA Moving Average</text></g><g class=\"g-xtitle\"><text class=\"xtitle\" x=\"335.5\" y=\"476.409375\" text-anchor=\"middle\" style=\"font-family: 'Open Sans', verdana, arial, sans-serif; font-size: 14px; fill: rgb(42, 63, 95); opacity: 1; font-weight: normal; white-space: pre;\">Date</text></g><g class=\"g-ytitle\"><text class=\"ytitle\" transform=\"rotate(-90,23.684375000000003,260)\" x=\"23.684375000000003\" y=\"260\" text-anchor=\"middle\" style=\"font-family: 'Open Sans', verdana, arial, sans-serif; font-size: 14px; fill: rgb(42, 63, 95); opacity: 1; font-weight: normal; white-space: pre;\">value</text></g></g></svg>"
      ]
     },
     "metadata": {},
     "output_type": "display_data"
    }
   ],
   "source": [
    "#plot a line graph for the moving average\n",
    "for ticker, group in stock_df.groupby('Ticker'):\n",
    "    fig = px.line(group, x='Date', y=['Close', 'MA_10', 'MA_20'], \n",
    "                  title=f\"{ticker} Moving Average\")\n",
    "    fig.show(\"svg\")"
   ]
  },
  {
   "cell_type": "markdown",
   "id": "832f50d4-f197-4931-9491-29b22eaeed69",
   "metadata": {},
   "source": [
    "#### The output shows four separate graphs for each company. When the MA10 crosses above the MA20, it is considered a bullish signal indicating that the stock price will continue to rise. Conversely, when the MA10 crosses below the MA20, it is a bearish signal that the stock price will continue falling.\n",
    "\n",
    "#### From the above graphs, we see the Moving average 10 is below moving average 20 for all 4 stocks which means the near-term stock prediction for these 4 companies would be bearish."
   ]
  },
  {
   "cell_type": "markdown",
   "id": "7fd86473-04dd-4d48-8df7-32450a5fa15f",
   "metadata": {},
   "source": [
    "### 4. Analysing Volatility"
   ]
  },
  {
   "cell_type": "markdown",
   "id": "984e72e9-faf3-4c79-aa88-a52e52683bcd",
   "metadata": {},
   "source": [
    "Volatility is a measure of how much and how often the stock price or market fluctuates over a given period of time.\n",
    "\n",
    "Standard Deviation: This measures the dispersion of stock prices from the mean. High standard deviation indicates high volatility.\n",
    "\n",
    "Purpose: Understanding volatility helps investors assess risk, make better trading decisions, and optimize portfolio allocation."
   ]
  },
  {
   "cell_type": "code",
   "execution_count": 42,
   "id": "285418ff-9cee-401f-82c1-cd958ecd2cae",
   "metadata": {},
   "outputs": [
    {
     "data": {
      "text/html": [
       "<div>\n",
       "<style scoped>\n",
       "    .dataframe tbody tr th:only-of-type {\n",
       "        vertical-align: middle;\n",
       "    }\n",
       "\n",
       "    .dataframe tbody tr th {\n",
       "        vertical-align: top;\n",
       "    }\n",
       "\n",
       "    .dataframe thead th {\n",
       "        text-align: right;\n",
       "    }\n",
       "</style>\n",
       "<table border=\"1\" class=\"dataframe\">\n",
       "  <thead>\n",
       "    <tr style=\"text-align: right;\">\n",
       "      <th></th>\n",
       "      <th>Ticker</th>\n",
       "      <th>Date</th>\n",
       "      <th>Open</th>\n",
       "      <th>High</th>\n",
       "      <th>Low</th>\n",
       "      <th>Close</th>\n",
       "      <th>Adj Close</th>\n",
       "      <th>Volume</th>\n",
       "      <th>MA_10</th>\n",
       "      <th>MA_20</th>\n",
       "    </tr>\n",
       "  </thead>\n",
       "  <tbody>\n",
       "    <tr>\n",
       "      <th>0</th>\n",
       "      <td>TOYOTA</td>\n",
       "      <td>2024-05-07</td>\n",
       "      <td>3650.0</td>\n",
       "      <td>3650.0</td>\n",
       "      <td>3562.0</td>\n",
       "      <td>3599.0</td>\n",
       "      <td>3599.0</td>\n",
       "      <td>25496600</td>\n",
       "      <td>NaN</td>\n",
       "      <td>NaN</td>\n",
       "    </tr>\n",
       "    <tr>\n",
       "      <th>1</th>\n",
       "      <td>TOYOTA</td>\n",
       "      <td>2024-05-08</td>\n",
       "      <td>3547.0</td>\n",
       "      <td>3674.0</td>\n",
       "      <td>3453.0</td>\n",
       "      <td>3579.0</td>\n",
       "      <td>3579.0</td>\n",
       "      <td>68295000</td>\n",
       "      <td>NaN</td>\n",
       "      <td>NaN</td>\n",
       "    </tr>\n",
       "    <tr>\n",
       "      <th>2</th>\n",
       "      <td>TOYOTA</td>\n",
       "      <td>2024-05-09</td>\n",
       "      <td>3595.0</td>\n",
       "      <td>3595.0</td>\n",
       "      <td>3473.0</td>\n",
       "      <td>3528.0</td>\n",
       "      <td>3528.0</td>\n",
       "      <td>40742400</td>\n",
       "      <td>NaN</td>\n",
       "      <td>NaN</td>\n",
       "    </tr>\n",
       "    <tr>\n",
       "      <th>3</th>\n",
       "      <td>TOYOTA</td>\n",
       "      <td>2024-05-10</td>\n",
       "      <td>3504.0</td>\n",
       "      <td>3540.0</td>\n",
       "      <td>3386.0</td>\n",
       "      <td>3425.0</td>\n",
       "      <td>3425.0</td>\n",
       "      <td>50941700</td>\n",
       "      <td>NaN</td>\n",
       "      <td>NaN</td>\n",
       "    </tr>\n",
       "    <tr>\n",
       "      <th>4</th>\n",
       "      <td>TOYOTA</td>\n",
       "      <td>2024-05-13</td>\n",
       "      <td>3417.0</td>\n",
       "      <td>3434.0</td>\n",
       "      <td>3351.0</td>\n",
       "      <td>3366.0</td>\n",
       "      <td>3366.0</td>\n",
       "      <td>30544300</td>\n",
       "      <td>NaN</td>\n",
       "      <td>NaN</td>\n",
       "    </tr>\n",
       "  </tbody>\n",
       "</table>\n",
       "</div>"
      ],
      "text/plain": [
       "   Ticker       Date    Open    High     Low   Close  Adj Close    Volume  \\\n",
       "0  TOYOTA 2024-05-07  3650.0  3650.0  3562.0  3599.0     3599.0  25496600   \n",
       "1  TOYOTA 2024-05-08  3547.0  3674.0  3453.0  3579.0     3579.0  68295000   \n",
       "2  TOYOTA 2024-05-09  3595.0  3595.0  3473.0  3528.0     3528.0  40742400   \n",
       "3  TOYOTA 2024-05-10  3504.0  3540.0  3386.0  3425.0     3425.0  50941700   \n",
       "4  TOYOTA 2024-05-13  3417.0  3434.0  3351.0  3366.0     3366.0  30544300   \n",
       "\n",
       "   MA_10  MA_20  \n",
       "0    NaN    NaN  \n",
       "1    NaN    NaN  \n",
       "2    NaN    NaN  \n",
       "3    NaN    NaN  \n",
       "4    NaN    NaN  "
      ]
     },
     "execution_count": 42,
     "metadata": {},
     "output_type": "execute_result"
    }
   ],
   "source": [
    "stock_df.head()"
   ]
  },
  {
   "cell_type": "code",
   "execution_count": 43,
   "id": "0a93540a-ef0e-4b5e-b15f-0c996f473635",
   "metadata": {},
   "outputs": [],
   "source": [
    "#print(stock_df.groupby(\"Ticker\")[\"Close\"].pct_change().rolling(window=10).std())"
   ]
  },
  {
   "cell_type": "code",
   "execution_count": 44,
   "id": "1faca38a-8fe8-4215-8f66-86079f798e21",
   "metadata": {},
   "outputs": [],
   "source": [
    "#this is to check volatility of stocks, we will be use\\ing pct_change\n",
    "stock_df[\"Volatility\"] = stock_df.groupby(\"Ticker\")[\"Close\"].pct_change().rolling(window=10).std().reset_index(level=0,drop=True)"
   ]
  },
  {
   "cell_type": "code",
   "execution_count": 45,
   "id": "6700a0fd-43e4-4eec-b5fb-dca43eebd481",
   "metadata": {},
   "outputs": [
    {
     "data": {
      "text/html": [
       "<div>\n",
       "<style scoped>\n",
       "    .dataframe tbody tr th:only-of-type {\n",
       "        vertical-align: middle;\n",
       "    }\n",
       "\n",
       "    .dataframe tbody tr th {\n",
       "        vertical-align: top;\n",
       "    }\n",
       "\n",
       "    .dataframe thead th {\n",
       "        text-align: right;\n",
       "    }\n",
       "</style>\n",
       "<table border=\"1\" class=\"dataframe\">\n",
       "  <thead>\n",
       "    <tr style=\"text-align: right;\">\n",
       "      <th></th>\n",
       "      <th>Ticker</th>\n",
       "      <th>Date</th>\n",
       "      <th>Open</th>\n",
       "      <th>High</th>\n",
       "      <th>Low</th>\n",
       "      <th>Close</th>\n",
       "      <th>Adj Close</th>\n",
       "      <th>Volume</th>\n",
       "      <th>MA_10</th>\n",
       "      <th>MA_20</th>\n",
       "      <th>Volatility</th>\n",
       "    </tr>\n",
       "  </thead>\n",
       "  <tbody>\n",
       "    <tr>\n",
       "      <th>0</th>\n",
       "      <td>TOYOTA</td>\n",
       "      <td>2024-05-07</td>\n",
       "      <td>3650.0</td>\n",
       "      <td>3650.0</td>\n",
       "      <td>3562.0</td>\n",
       "      <td>3599.0</td>\n",
       "      <td>3599.0</td>\n",
       "      <td>25496600</td>\n",
       "      <td>NaN</td>\n",
       "      <td>NaN</td>\n",
       "      <td>NaN</td>\n",
       "    </tr>\n",
       "    <tr>\n",
       "      <th>1</th>\n",
       "      <td>TOYOTA</td>\n",
       "      <td>2024-05-08</td>\n",
       "      <td>3547.0</td>\n",
       "      <td>3674.0</td>\n",
       "      <td>3453.0</td>\n",
       "      <td>3579.0</td>\n",
       "      <td>3579.0</td>\n",
       "      <td>68295000</td>\n",
       "      <td>NaN</td>\n",
       "      <td>NaN</td>\n",
       "      <td>NaN</td>\n",
       "    </tr>\n",
       "    <tr>\n",
       "      <th>2</th>\n",
       "      <td>TOYOTA</td>\n",
       "      <td>2024-05-09</td>\n",
       "      <td>3595.0</td>\n",
       "      <td>3595.0</td>\n",
       "      <td>3473.0</td>\n",
       "      <td>3528.0</td>\n",
       "      <td>3528.0</td>\n",
       "      <td>40742400</td>\n",
       "      <td>NaN</td>\n",
       "      <td>NaN</td>\n",
       "      <td>NaN</td>\n",
       "    </tr>\n",
       "    <tr>\n",
       "      <th>3</th>\n",
       "      <td>TOYOTA</td>\n",
       "      <td>2024-05-10</td>\n",
       "      <td>3504.0</td>\n",
       "      <td>3540.0</td>\n",
       "      <td>3386.0</td>\n",
       "      <td>3425.0</td>\n",
       "      <td>3425.0</td>\n",
       "      <td>50941700</td>\n",
       "      <td>NaN</td>\n",
       "      <td>NaN</td>\n",
       "      <td>NaN</td>\n",
       "    </tr>\n",
       "    <tr>\n",
       "      <th>4</th>\n",
       "      <td>TOYOTA</td>\n",
       "      <td>2024-05-13</td>\n",
       "      <td>3417.0</td>\n",
       "      <td>3434.0</td>\n",
       "      <td>3351.0</td>\n",
       "      <td>3366.0</td>\n",
       "      <td>3366.0</td>\n",
       "      <td>30544300</td>\n",
       "      <td>NaN</td>\n",
       "      <td>NaN</td>\n",
       "      <td>NaN</td>\n",
       "    </tr>\n",
       "  </tbody>\n",
       "</table>\n",
       "</div>"
      ],
      "text/plain": [
       "   Ticker       Date    Open    High     Low   Close  Adj Close    Volume  \\\n",
       "0  TOYOTA 2024-05-07  3650.0  3650.0  3562.0  3599.0     3599.0  25496600   \n",
       "1  TOYOTA 2024-05-08  3547.0  3674.0  3453.0  3579.0     3579.0  68295000   \n",
       "2  TOYOTA 2024-05-09  3595.0  3595.0  3473.0  3528.0     3528.0  40742400   \n",
       "3  TOYOTA 2024-05-10  3504.0  3540.0  3386.0  3425.0     3425.0  50941700   \n",
       "4  TOYOTA 2024-05-13  3417.0  3434.0  3351.0  3366.0     3366.0  30544300   \n",
       "\n",
       "   MA_10  MA_20  Volatility  \n",
       "0    NaN    NaN         NaN  \n",
       "1    NaN    NaN         NaN  \n",
       "2    NaN    NaN         NaN  \n",
       "3    NaN    NaN         NaN  \n",
       "4    NaN    NaN         NaN  "
      ]
     },
     "execution_count": 45,
     "metadata": {},
     "output_type": "execute_result"
    }
   ],
   "source": [
    "stock_df.head()"
   ]
  },
  {
   "cell_type": "code",
   "execution_count": 46,
   "id": "8efd6ae9-52ac-4ad2-8ba3-d5ca2b4b786c",
   "metadata": {},
   "outputs": [
    {
     "data": {
      "image/svg+xml": [
       "<svg class=\"main-svg\" xmlns=\"http://www.w3.org/2000/svg\" xmlns:xlink=\"http://www.w3.org/1999/xlink\" width=\"700\" height=\"500\" style=\"\" viewBox=\"0 0 700 500\"><rect x=\"0\" y=\"0\" width=\"700\" height=\"500\" style=\"fill: rgb(255, 255, 255); fill-opacity: 1;\"/><defs id=\"defs-33ac7c\"><g class=\"clips\"><clipPath id=\"clip33ac7cxyplot\" class=\"plotclip\"><rect width=\"503\" height=\"320\"/></clipPath><clipPath class=\"axesclip\" id=\"clip33ac7cx\"><rect x=\"80\" y=\"0\" width=\"503\" height=\"500\"/></clipPath><clipPath class=\"axesclip\" id=\"clip33ac7cy\"><rect x=\"0\" y=\"100\" width=\"700\" height=\"320\"/></clipPath><clipPath class=\"axesclip\" id=\"clip33ac7cxy\"><rect x=\"80\" y=\"100\" width=\"503\" height=\"320\"/></clipPath></g><g class=\"gradients\"/><g class=\"patterns\"/></defs><g class=\"bglayer\"><rect class=\"bg\" x=\"80\" y=\"100\" width=\"503\" height=\"320\" style=\"fill: rgb(229, 236, 246); fill-opacity: 1; stroke-width: 0;\"/></g><g class=\"layer-below\"><g class=\"imagelayer\"/><g class=\"shapelayer\"/></g><g class=\"cartesianlayer\"><g class=\"subplot xy\"><g class=\"layer-subplot\"><g class=\"shapelayer\"/><g class=\"imagelayer\"/></g><g class=\"minor-gridlayer\"><g class=\"x\"/><g class=\"y\"/></g><g class=\"gridlayer\"><g class=\"x\"><path class=\"xgrid crisp\" transform=\"translate(99.12,0)\" d=\"M0,100v320\" style=\"stroke: rgb(255, 255, 255); stroke-opacity: 1; stroke-width: 1px;\"/><path class=\"xgrid crisp\" transform=\"translate(167.61,0)\" d=\"M0,100v320\" style=\"stroke: rgb(255, 255, 255); stroke-opacity: 1; stroke-width: 1px;\"/><path class=\"xgrid crisp\" transform=\"translate(236.1,0)\" d=\"M0,100v320\" style=\"stroke: rgb(255, 255, 255); stroke-opacity: 1; stroke-width: 1px;\"/><path class=\"xgrid crisp\" transform=\"translate(304.59000000000003,0)\" d=\"M0,100v320\" style=\"stroke: rgb(255, 255, 255); stroke-opacity: 1; stroke-width: 1px;\"/><path class=\"xgrid crisp\" transform=\"translate(373.08,0)\" d=\"M0,100v320\" style=\"stroke: rgb(255, 255, 255); stroke-opacity: 1; stroke-width: 1px;\"/><path class=\"xgrid crisp\" transform=\"translate(441.58,0)\" d=\"M0,100v320\" style=\"stroke: rgb(255, 255, 255); stroke-opacity: 1; stroke-width: 1px;\"/><path class=\"xgrid crisp\" transform=\"translate(510.07,0)\" d=\"M0,100v320\" style=\"stroke: rgb(255, 255, 255); stroke-opacity: 1; stroke-width: 1px;\"/><path class=\"xgrid crisp\" transform=\"translate(578.56,0)\" d=\"M0,100v320\" style=\"stroke: rgb(255, 255, 255); stroke-opacity: 1; stroke-width: 1px;\"/></g><g class=\"y\"><path class=\"ygrid crisp\" transform=\"translate(0,402.82)\" d=\"M80,0h503\" style=\"stroke: rgb(255, 255, 255); stroke-opacity: 1; stroke-width: 1px;\"/><path class=\"ygrid crisp\" transform=\"translate(0,355.15)\" d=\"M80,0h503\" style=\"stroke: rgb(255, 255, 255); stroke-opacity: 1; stroke-width: 1px;\"/><path class=\"ygrid crisp\" transform=\"translate(0,307.48)\" d=\"M80,0h503\" style=\"stroke: rgb(255, 255, 255); stroke-opacity: 1; stroke-width: 1px;\"/><path class=\"ygrid crisp\" transform=\"translate(0,259.8)\" d=\"M80,0h503\" style=\"stroke: rgb(255, 255, 255); stroke-opacity: 1; stroke-width: 1px;\"/><path class=\"ygrid crisp\" transform=\"translate(0,212.13)\" d=\"M80,0h503\" style=\"stroke: rgb(255, 255, 255); stroke-opacity: 1; stroke-width: 1px;\"/><path class=\"ygrid crisp\" transform=\"translate(0,164.45)\" d=\"M80,0h503\" style=\"stroke: rgb(255, 255, 255); stroke-opacity: 1; stroke-width: 1px;\"/><path class=\"ygrid crisp\" transform=\"translate(0,116.78)\" d=\"M80,0h503\" style=\"stroke: rgb(255, 255, 255); stroke-opacity: 1; stroke-width: 1px;\"/></g></g><g class=\"zerolinelayer\"/><path class=\"xlines-below\"/><path class=\"ylines-below\"/><g class=\"overlines-below\"/><g class=\"xaxislayer-below\"/><g class=\"yaxislayer-below\"/><g class=\"overaxes-below\"/><g class=\"plot\" transform=\"translate(80,100)\" clip-path=\"url(#clip33ac7cxyplot)\"><g class=\"scatterlayer mlayer\"><g class=\"trace scatter trace188b4e\" style=\"stroke-miterlimit: 2; opacity: 1;\"><g class=\"fills\"/><g class=\"errorbars\"/><g class=\"lines\"><path class=\"js-line\" d=\"M97.39,276.36L102.28,274.9L107.18,275.2L112.07,288.63L126.75,290.11L131.64,290.41L136.53,284.75L141.42,283.95L146.32,287.44L165.88,281.6L170.78,276.4L175.67,270.12L180.56,267.9L200.13,268.48L205.02,269.39L209.92,265.78L214.81,278.86L229.48,275.36L234.38,272.54L239.27,269.36L244.16,276.91L249.05,279.09L263.73,272.21L268.62,242.06L273.52,244.22L278.41,253.72L283.3,254.61L297.98,268.54L302.87,268.07L307.76,267.98L312.65,269.73L317.55,258.67L332.22,259.76L337.12,292.8L342.01,292.65L346.9,292.95L351.79,294.19L371.36,294.2L376.25,300.25L381.15,280.44L386.04,294.17L400.72,297.66L405.61,294.47L410.5,294.34L415.39,290.4L420.28,278.21L434.96,264.13L439.85,259.78L444.75,259.42L449.64,207.91L454.53,203.9L469.21,120.81L474.1,19.75\" style=\"vector-effect: non-scaling-stroke; fill: none; stroke: rgb(255, 0, 255); stroke-opacity: 1; stroke-width: 2px; opacity: 1;\"/></g><g class=\"points\"><path class=\"point\" transform=\"translate(97.39,276.36)\" d=\"M3,0A3,3 0 1,1 0,-3A3,3 0 0,1 3,0Z\" style=\"opacity: 1; stroke-width: 0px; fill: rgb(255, 0, 255); fill-opacity: 1;\"/><path class=\"point\" transform=\"translate(102.28,274.9)\" d=\"M3,0A3,3 0 1,1 0,-3A3,3 0 0,1 3,0Z\" style=\"opacity: 1; stroke-width: 0px; fill: rgb(255, 0, 255); fill-opacity: 1;\"/><path class=\"point\" transform=\"translate(107.18,275.2)\" d=\"M3,0A3,3 0 1,1 0,-3A3,3 0 0,1 3,0Z\" style=\"opacity: 1; stroke-width: 0px; fill: rgb(255, 0, 255); fill-opacity: 1;\"/><path class=\"point\" transform=\"translate(112.07,288.63)\" d=\"M3,0A3,3 0 1,1 0,-3A3,3 0 0,1 3,0Z\" style=\"opacity: 1; stroke-width: 0px; fill: rgb(255, 0, 255); fill-opacity: 1;\"/><path class=\"point\" transform=\"translate(126.75,290.11)\" d=\"M3,0A3,3 0 1,1 0,-3A3,3 0 0,1 3,0Z\" style=\"opacity: 1; stroke-width: 0px; fill: rgb(255, 0, 255); fill-opacity: 1;\"/><path class=\"point\" transform=\"translate(131.64,290.41)\" d=\"M3,0A3,3 0 1,1 0,-3A3,3 0 0,1 3,0Z\" style=\"opacity: 1; stroke-width: 0px; fill: rgb(255, 0, 255); fill-opacity: 1;\"/><path class=\"point\" transform=\"translate(136.53,284.75)\" d=\"M3,0A3,3 0 1,1 0,-3A3,3 0 0,1 3,0Z\" style=\"opacity: 1; stroke-width: 0px; fill: rgb(255, 0, 255); fill-opacity: 1;\"/><path class=\"point\" transform=\"translate(141.42,283.95)\" d=\"M3,0A3,3 0 1,1 0,-3A3,3 0 0,1 3,0Z\" style=\"opacity: 1; stroke-width: 0px; fill: rgb(255, 0, 255); fill-opacity: 1;\"/><path class=\"point\" transform=\"translate(146.32,287.44)\" d=\"M3,0A3,3 0 1,1 0,-3A3,3 0 0,1 3,0Z\" style=\"opacity: 1; stroke-width: 0px; fill: rgb(255, 0, 255); fill-opacity: 1;\"/><path class=\"point\" transform=\"translate(160.99,283.21)\" d=\"M3,0A3,3 0 1,1 0,-3A3,3 0 0,1 3,0Z\" style=\"opacity: 1; stroke-width: 0px; fill: rgb(255, 0, 255); fill-opacity: 1;\"/><path class=\"point\" transform=\"translate(165.88,281.6)\" d=\"M3,0A3,3 0 1,1 0,-3A3,3 0 0,1 3,0Z\" style=\"opacity: 1; stroke-width: 0px; fill: rgb(255, 0, 255); fill-opacity: 1;\"/><path class=\"point\" transform=\"translate(170.78,276.4)\" d=\"M3,0A3,3 0 1,1 0,-3A3,3 0 0,1 3,0Z\" style=\"opacity: 1; stroke-width: 0px; fill: rgb(255, 0, 255); fill-opacity: 1;\"/><path class=\"point\" transform=\"translate(175.67,270.12)\" d=\"M3,0A3,3 0 1,1 0,-3A3,3 0 0,1 3,0Z\" style=\"opacity: 1; stroke-width: 0px; fill: rgb(255, 0, 255); fill-opacity: 1;\"/><path class=\"point\" transform=\"translate(180.56,267.9)\" d=\"M3,0A3,3 0 1,1 0,-3A3,3 0 0,1 3,0Z\" style=\"opacity: 1; stroke-width: 0px; fill: rgb(255, 0, 255); fill-opacity: 1;\"/><path class=\"point\" transform=\"translate(195.24,268.13)\" d=\"M3,0A3,3 0 1,1 0,-3A3,3 0 0,1 3,0Z\" style=\"opacity: 1; stroke-width: 0px; fill: rgb(255, 0, 255); fill-opacity: 1;\"/><path class=\"point\" transform=\"translate(200.13,268.48)\" d=\"M3,0A3,3 0 1,1 0,-3A3,3 0 0,1 3,0Z\" style=\"opacity: 1; stroke-width: 0px; fill: rgb(255, 0, 255); fill-opacity: 1;\"/><path class=\"point\" transform=\"translate(205.02,269.39)\" d=\"M3,0A3,3 0 1,1 0,-3A3,3 0 0,1 3,0Z\" style=\"opacity: 1; stroke-width: 0px; fill: rgb(255, 0, 255); fill-opacity: 1;\"/><path class=\"point\" transform=\"translate(209.92,265.78)\" d=\"M3,0A3,3 0 1,1 0,-3A3,3 0 0,1 3,0Z\" style=\"opacity: 1; stroke-width: 0px; fill: rgb(255, 0, 255); fill-opacity: 1;\"/><path class=\"point\" transform=\"translate(214.81,278.86)\" d=\"M3,0A3,3 0 1,1 0,-3A3,3 0 0,1 3,0Z\" style=\"opacity: 1; stroke-width: 0px; fill: rgb(255, 0, 255); fill-opacity: 1;\"/><path class=\"point\" transform=\"translate(229.48,275.36)\" d=\"M3,0A3,3 0 1,1 0,-3A3,3 0 0,1 3,0Z\" style=\"opacity: 1; stroke-width: 0px; fill: rgb(255, 0, 255); fill-opacity: 1;\"/><path class=\"point\" transform=\"translate(234.38,272.54)\" d=\"M3,0A3,3 0 1,1 0,-3A3,3 0 0,1 3,0Z\" style=\"opacity: 1; stroke-width: 0px; fill: rgb(255, 0, 255); fill-opacity: 1;\"/><path class=\"point\" transform=\"translate(239.27,269.36)\" d=\"M3,0A3,3 0 1,1 0,-3A3,3 0 0,1 3,0Z\" style=\"opacity: 1; stroke-width: 0px; fill: rgb(255, 0, 255); fill-opacity: 1;\"/><path class=\"point\" transform=\"translate(244.16,276.91)\" d=\"M3,0A3,3 0 1,1 0,-3A3,3 0 0,1 3,0Z\" style=\"opacity: 1; stroke-width: 0px; fill: rgb(255, 0, 255); fill-opacity: 1;\"/><path class=\"point\" transform=\"translate(249.05,279.09)\" d=\"M3,0A3,3 0 1,1 0,-3A3,3 0 0,1 3,0Z\" style=\"opacity: 1; stroke-width: 0px; fill: rgb(255, 0, 255); fill-opacity: 1;\"/><path class=\"point\" transform=\"translate(263.73,272.21)\" d=\"M3,0A3,3 0 1,1 0,-3A3,3 0 0,1 3,0Z\" style=\"opacity: 1; stroke-width: 0px; fill: rgb(255, 0, 255); fill-opacity: 1;\"/><path class=\"point\" transform=\"translate(268.62,242.06)\" d=\"M3,0A3,3 0 1,1 0,-3A3,3 0 0,1 3,0Z\" style=\"opacity: 1; stroke-width: 0px; fill: rgb(255, 0, 255); fill-opacity: 1;\"/><path class=\"point\" transform=\"translate(273.52,244.22)\" d=\"M3,0A3,3 0 1,1 0,-3A3,3 0 0,1 3,0Z\" style=\"opacity: 1; stroke-width: 0px; fill: rgb(255, 0, 255); fill-opacity: 1;\"/><path class=\"point\" transform=\"translate(278.41,253.72)\" d=\"M3,0A3,3 0 1,1 0,-3A3,3 0 0,1 3,0Z\" style=\"opacity: 1; stroke-width: 0px; fill: rgb(255, 0, 255); fill-opacity: 1;\"/><path class=\"point\" transform=\"translate(283.3,254.61)\" d=\"M3,0A3,3 0 1,1 0,-3A3,3 0 0,1 3,0Z\" style=\"opacity: 1; stroke-width: 0px; fill: rgb(255, 0, 255); fill-opacity: 1;\"/><path class=\"point\" transform=\"translate(297.98,268.54)\" d=\"M3,0A3,3 0 1,1 0,-3A3,3 0 0,1 3,0Z\" style=\"opacity: 1; stroke-width: 0px; fill: rgb(255, 0, 255); fill-opacity: 1;\"/><path class=\"point\" transform=\"translate(302.87,268.07)\" d=\"M3,0A3,3 0 1,1 0,-3A3,3 0 0,1 3,0Z\" style=\"opacity: 1; stroke-width: 0px; fill: rgb(255, 0, 255); fill-opacity: 1;\"/><path class=\"point\" transform=\"translate(307.76,267.98)\" d=\"M3,0A3,3 0 1,1 0,-3A3,3 0 0,1 3,0Z\" style=\"opacity: 1; stroke-width: 0px; fill: rgb(255, 0, 255); fill-opacity: 1;\"/><path class=\"point\" transform=\"translate(312.65,269.73)\" d=\"M3,0A3,3 0 1,1 0,-3A3,3 0 0,1 3,0Z\" style=\"opacity: 1; stroke-width: 0px; fill: rgb(255, 0, 255); fill-opacity: 1;\"/><path class=\"point\" transform=\"translate(317.55,258.67)\" d=\"M3,0A3,3 0 1,1 0,-3A3,3 0 0,1 3,0Z\" style=\"opacity: 1; stroke-width: 0px; fill: rgb(255, 0, 255); fill-opacity: 1;\"/><path class=\"point\" transform=\"translate(332.22,259.76)\" d=\"M3,0A3,3 0 1,1 0,-3A3,3 0 0,1 3,0Z\" style=\"opacity: 1; stroke-width: 0px; fill: rgb(255, 0, 255); fill-opacity: 1;\"/><path class=\"point\" transform=\"translate(337.12,292.8)\" d=\"M3,0A3,3 0 1,1 0,-3A3,3 0 0,1 3,0Z\" style=\"opacity: 1; stroke-width: 0px; fill: rgb(255, 0, 255); fill-opacity: 1;\"/><path class=\"point\" transform=\"translate(342.01,292.65)\" d=\"M3,0A3,3 0 1,1 0,-3A3,3 0 0,1 3,0Z\" style=\"opacity: 1; stroke-width: 0px; fill: rgb(255, 0, 255); fill-opacity: 1;\"/><path class=\"point\" transform=\"translate(346.9,292.95)\" d=\"M3,0A3,3 0 1,1 0,-3A3,3 0 0,1 3,0Z\" style=\"opacity: 1; stroke-width: 0px; fill: rgb(255, 0, 255); fill-opacity: 1;\"/><path class=\"point\" transform=\"translate(351.79,294.19)\" d=\"M3,0A3,3 0 1,1 0,-3A3,3 0 0,1 3,0Z\" style=\"opacity: 1; stroke-width: 0px; fill: rgb(255, 0, 255); fill-opacity: 1;\"/><path class=\"point\" transform=\"translate(371.36,294.2)\" d=\"M3,0A3,3 0 1,1 0,-3A3,3 0 0,1 3,0Z\" style=\"opacity: 1; stroke-width: 0px; fill: rgb(255, 0, 255); fill-opacity: 1;\"/><path class=\"point\" transform=\"translate(376.25,300.25)\" d=\"M3,0A3,3 0 1,1 0,-3A3,3 0 0,1 3,0Z\" style=\"opacity: 1; stroke-width: 0px; fill: rgb(255, 0, 255); fill-opacity: 1;\"/><path class=\"point\" transform=\"translate(381.15,280.44)\" d=\"M3,0A3,3 0 1,1 0,-3A3,3 0 0,1 3,0Z\" style=\"opacity: 1; stroke-width: 0px; fill: rgb(255, 0, 255); fill-opacity: 1;\"/><path class=\"point\" transform=\"translate(386.04,294.17)\" d=\"M3,0A3,3 0 1,1 0,-3A3,3 0 0,1 3,0Z\" style=\"opacity: 1; stroke-width: 0px; fill: rgb(255, 0, 255); fill-opacity: 1;\"/><path class=\"point\" transform=\"translate(400.72,297.66)\" d=\"M3,0A3,3 0 1,1 0,-3A3,3 0 0,1 3,0Z\" style=\"opacity: 1; stroke-width: 0px; fill: rgb(255, 0, 255); fill-opacity: 1;\"/><path class=\"point\" transform=\"translate(405.61,294.47)\" d=\"M3,0A3,3 0 1,1 0,-3A3,3 0 0,1 3,0Z\" style=\"opacity: 1; stroke-width: 0px; fill: rgb(255, 0, 255); fill-opacity: 1;\"/><path class=\"point\" transform=\"translate(410.5,294.34)\" d=\"M3,0A3,3 0 1,1 0,-3A3,3 0 0,1 3,0Z\" style=\"opacity: 1; stroke-width: 0px; fill: rgb(255, 0, 255); fill-opacity: 1;\"/><path class=\"point\" transform=\"translate(415.39,290.4)\" d=\"M3,0A3,3 0 1,1 0,-3A3,3 0 0,1 3,0Z\" style=\"opacity: 1; stroke-width: 0px; fill: rgb(255, 0, 255); fill-opacity: 1;\"/><path class=\"point\" transform=\"translate(420.28,278.21)\" d=\"M3,0A3,3 0 1,1 0,-3A3,3 0 0,1 3,0Z\" style=\"opacity: 1; stroke-width: 0px; fill: rgb(255, 0, 255); fill-opacity: 1;\"/><path class=\"point\" transform=\"translate(434.96,264.13)\" d=\"M3,0A3,3 0 1,1 0,-3A3,3 0 0,1 3,0Z\" style=\"opacity: 1; stroke-width: 0px; fill: rgb(255, 0, 255); fill-opacity: 1;\"/><path class=\"point\" transform=\"translate(439.85,259.78)\" d=\"M3,0A3,3 0 1,1 0,-3A3,3 0 0,1 3,0Z\" style=\"opacity: 1; stroke-width: 0px; fill: rgb(255, 0, 255); fill-opacity: 1;\"/><path class=\"point\" transform=\"translate(444.75,259.42)\" d=\"M3,0A3,3 0 1,1 0,-3A3,3 0 0,1 3,0Z\" style=\"opacity: 1; stroke-width: 0px; fill: rgb(255, 0, 255); fill-opacity: 1;\"/><path class=\"point\" transform=\"translate(449.64,207.91)\" d=\"M3,0A3,3 0 1,1 0,-3A3,3 0 0,1 3,0Z\" style=\"opacity: 1; stroke-width: 0px; fill: rgb(255, 0, 255); fill-opacity: 1;\"/><path class=\"point\" transform=\"translate(454.53,203.9)\" d=\"M3,0A3,3 0 1,1 0,-3A3,3 0 0,1 3,0Z\" style=\"opacity: 1; stroke-width: 0px; fill: rgb(255, 0, 255); fill-opacity: 1;\"/><path class=\"point\" transform=\"translate(469.21,120.81)\" d=\"M3,0A3,3 0 1,1 0,-3A3,3 0 0,1 3,0Z\" style=\"opacity: 1; stroke-width: 0px; fill: rgb(255, 0, 255); fill-opacity: 1;\"/><path class=\"point\" transform=\"translate(474.1,19.75)\" d=\"M3,0A3,3 0 1,1 0,-3A3,3 0 0,1 3,0Z\" style=\"opacity: 1; stroke-width: 0px; fill: rgb(255, 0, 255); fill-opacity: 1;\"/></g><g class=\"text\"/></g></g></g><g class=\"overplot\"/><path class=\"xlines-above crisp\" d=\"M0,0\" style=\"fill: none;\"/><path class=\"ylines-above crisp\" d=\"M0,0\" style=\"fill: none;\"/><g class=\"overlines-above\"/><g class=\"xaxislayer-above\"><g class=\"xtick\"><text text-anchor=\"middle\" x=\"0\" y=\"433\" transform=\"translate(99.12,0)\" style=\"font-family: 'Open Sans', verdana, arial, sans-serif; font-size: 12px; fill: rgb(42, 63, 95); fill-opacity: 1; white-space: pre; opacity: 1;\"><tspan class=\"line\" dy=\"0em\" x=\"0\" y=\"433\">May 5</tspan><tspan class=\"line\" dy=\"1.3em\" x=\"0\" y=\"433\">2024</tspan></text></g><g class=\"xtick\"><text text-anchor=\"middle\" x=\"0\" y=\"433\" style=\"font-family: 'Open Sans', verdana, arial, sans-serif; font-size: 12px; fill: rgb(42, 63, 95); fill-opacity: 1; white-space: pre; opacity: 1;\" transform=\"translate(167.61,0)\">May 19</text></g><g class=\"xtick\"><text text-anchor=\"middle\" x=\"0\" y=\"433\" style=\"font-family: 'Open Sans', verdana, arial, sans-serif; font-size: 12px; fill: rgb(42, 63, 95); fill-opacity: 1; white-space: pre; opacity: 1;\" transform=\"translate(236.1,0)\">Jun 2</text></g><g class=\"xtick\"><text text-anchor=\"middle\" x=\"0\" y=\"433\" style=\"font-family: 'Open Sans', verdana, arial, sans-serif; font-size: 12px; fill: rgb(42, 63, 95); fill-opacity: 1; white-space: pre; opacity: 1;\" transform=\"translate(304.59000000000003,0)\">Jun 16</text></g><g class=\"xtick\"><text text-anchor=\"middle\" x=\"0\" y=\"433\" style=\"font-family: 'Open Sans', verdana, arial, sans-serif; font-size: 12px; fill: rgb(42, 63, 95); fill-opacity: 1; white-space: pre; opacity: 1;\" transform=\"translate(373.08,0)\">Jun 30</text></g><g class=\"xtick\"><text text-anchor=\"middle\" x=\"0\" y=\"433\" style=\"font-family: 'Open Sans', verdana, arial, sans-serif; font-size: 12px; fill: rgb(42, 63, 95); fill-opacity: 1; white-space: pre; opacity: 1;\" transform=\"translate(441.58,0)\">Jul 14</text></g><g class=\"xtick\"><text text-anchor=\"middle\" x=\"0\" y=\"433\" style=\"font-family: 'Open Sans', verdana, arial, sans-serif; font-size: 12px; fill: rgb(42, 63, 95); fill-opacity: 1; white-space: pre; opacity: 1;\" transform=\"translate(510.07,0)\">Jul 28</text></g><g class=\"xtick\"><text text-anchor=\"middle\" x=\"0\" y=\"433\" style=\"font-family: 'Open Sans', verdana, arial, sans-serif; font-size: 12px; fill: rgb(42, 63, 95); fill-opacity: 1; white-space: pre; opacity: 1;\" transform=\"translate(578.56,0)\">Aug 11</text></g></g><g class=\"yaxislayer-above\"><g class=\"ytick\"><text text-anchor=\"end\" x=\"79\" y=\"4.199999999999999\" transform=\"translate(0,402.82)\" style=\"font-family: 'Open Sans', verdana, arial, sans-serif; font-size: 12px; fill: rgb(42, 63, 95); fill-opacity: 1; white-space: pre; opacity: 1;\">0.01</text></g><g class=\"ytick\"><text text-anchor=\"end\" x=\"79\" y=\"4.199999999999999\" style=\"font-family: 'Open Sans', verdana, arial, sans-serif; font-size: 12px; fill: rgb(42, 63, 95); fill-opacity: 1; white-space: pre; opacity: 1;\" transform=\"translate(0,355.15)\">0.02</text></g><g class=\"ytick\"><text text-anchor=\"end\" x=\"79\" y=\"4.199999999999999\" style=\"font-family: 'Open Sans', verdana, arial, sans-serif; font-size: 12px; fill: rgb(42, 63, 95); fill-opacity: 1; white-space: pre; opacity: 1;\" transform=\"translate(0,307.48)\">0.03</text></g><g class=\"ytick\"><text text-anchor=\"end\" x=\"79\" y=\"4.199999999999999\" style=\"font-family: 'Open Sans', verdana, arial, sans-serif; font-size: 12px; fill: rgb(42, 63, 95); fill-opacity: 1; white-space: pre; opacity: 1;\" transform=\"translate(0,259.8)\">0.04</text></g><g class=\"ytick\"><text text-anchor=\"end\" x=\"79\" y=\"4.199999999999999\" style=\"font-family: 'Open Sans', verdana, arial, sans-serif; font-size: 12px; fill: rgb(42, 63, 95); fill-opacity: 1; white-space: pre; opacity: 1;\" transform=\"translate(0,212.13)\">0.05</text></g><g class=\"ytick\"><text text-anchor=\"end\" x=\"79\" y=\"4.199999999999999\" style=\"font-family: 'Open Sans', verdana, arial, sans-serif; font-size: 12px; fill: rgb(42, 63, 95); fill-opacity: 1; white-space: pre; opacity: 1;\" transform=\"translate(0,164.45)\">0.06</text></g><g class=\"ytick\"><text text-anchor=\"end\" x=\"79\" y=\"4.199999999999999\" style=\"font-family: 'Open Sans', verdana, arial, sans-serif; font-size: 12px; fill: rgb(42, 63, 95); fill-opacity: 1; white-space: pre; opacity: 1;\" transform=\"translate(0,116.78)\">0.07</text></g></g><g class=\"overaxes-above\"/></g></g><g class=\"polarlayer\"/><g class=\"smithlayer\"/><g class=\"ternarylayer\"/><g class=\"geolayer\"/><g class=\"funnelarealayer\"/><g class=\"pielayer\"/><g class=\"iciclelayer\"/><g class=\"treemaplayer\"/><g class=\"sunburstlayer\"/><g class=\"glimages\"/><defs id=\"topdefs-33ac7c\"><g class=\"clips\"/><clipPath id=\"legend33ac7c\"><rect width=\"95\" height=\"48\" x=\"0\" y=\"0\"/></clipPath></defs><g class=\"layer-above\"><g class=\"imagelayer\"/><g class=\"shapelayer\"/></g><g class=\"infolayer\"><g class=\"legend\" pointer-events=\"all\" transform=\"translate(593.0600000000001,100)\"><rect class=\"bg\" shape-rendering=\"crispEdges\" width=\"95\" height=\"48\" x=\"0\" y=\"0\" style=\"stroke: rgb(68, 68, 68); stroke-opacity: 1; fill: rgb(255, 255, 255); fill-opacity: 1; stroke-width: 0px;\"/><g class=\"scrollbox\" transform=\"\" clip-path=\"url(#legend33ac7c)\"><text class=\"legendtitletext\" text-anchor=\"start\" x=\"2\" y=\"18.2\" style=\"font-family: 'Open Sans', verdana, arial, sans-serif; font-size: 14px; fill: rgb(42, 63, 95); fill-opacity: 1; white-space: pre;\">Ticker</text><g class=\"groups\" transform=\"\"><g class=\"traces\" transform=\"translate(0,32.7)\" style=\"opacity: 1;\"><text class=\"legendtext\" text-anchor=\"start\" x=\"40\" y=\"4.680000000000001\" style=\"font-family: 'Open Sans', verdana, arial, sans-serif; font-size: 12px; fill: rgb(42, 63, 95); fill-opacity: 1; white-space: pre;\">TOYOTA</text><g class=\"layers\" style=\"opacity: 1;\"><g class=\"legendfill\"/><g class=\"legendlines\"><path class=\"js-line\" d=\"M5,0h30\" style=\"fill: none; stroke: rgb(255, 0, 255); stroke-opacity: 1; stroke-width: 2px;\"/></g><g class=\"legendsymbols\"><g class=\"legendpoints\"><path class=\"scatterpts\" transform=\"translate(20,0)\" d=\"M3,0A3,3 0 1,1 0,-3A3,3 0 0,1 3,0Z\" style=\"opacity: 1; stroke-width: 0px; fill: rgb(255, 0, 255); fill-opacity: 1;\"/></g></g></g><rect class=\"legendtoggle\" x=\"0\" y=\"-9.5\" width=\"89.546875\" height=\"19\" style=\"fill: rgb(0, 0, 0); fill-opacity: 0;\"/></g></g></g><rect class=\"scrollbar\" rx=\"20\" ry=\"3\" width=\"0\" height=\"0\" x=\"0\" y=\"0\" style=\"fill: rgb(128, 139, 164); fill-opacity: 1;\"/></g><g class=\"g-gtitle\"><text class=\"gtitle\" x=\"35\" y=\"50\" text-anchor=\"start\" dy=\"0em\" style=\"font-family: 'Open Sans', verdana, arial, sans-serif; font-size: 17px; fill: rgb(42, 63, 95); opacity: 1; font-weight: normal; white-space: pre;\">TOYOTA Volatility Analysis</text></g><g class=\"g-xtitle\"><text class=\"xtitle\" x=\"331.5\" y=\"476.409375\" text-anchor=\"middle\" style=\"font-family: 'Open Sans', verdana, arial, sans-serif; font-size: 14px; fill: rgb(42, 63, 95); opacity: 1; font-weight: normal; white-space: pre;\">Date</text></g><g class=\"g-ytitle\"><text class=\"ytitle\" transform=\"rotate(-90,26.934375000000003,260)\" x=\"26.934375000000003\" y=\"260\" text-anchor=\"middle\" style=\"font-family: 'Open Sans', verdana, arial, sans-serif; font-size: 14px; fill: rgb(42, 63, 95); opacity: 1; font-weight: normal; white-space: pre;\">Volatility</text></g></g></svg>"
      ]
     },
     "metadata": {},
     "output_type": "display_data"
    },
    {
     "data": {
      "image/svg+xml": [
       "<svg class=\"main-svg\" xmlns=\"http://www.w3.org/2000/svg\" xmlns:xlink=\"http://www.w3.org/1999/xlink\" width=\"700\" height=\"500\" style=\"\" viewBox=\"0 0 700 500\"><rect x=\"0\" y=\"0\" width=\"700\" height=\"500\" style=\"fill: rgb(255, 255, 255); fill-opacity: 1;\"/><defs id=\"defs-6d18b2\"><g class=\"clips\"><clipPath id=\"clip6d18b2xyplot\" class=\"plotclip\"><rect width=\"507\" height=\"320\"/></clipPath><clipPath class=\"axesclip\" id=\"clip6d18b2x\"><rect x=\"80\" y=\"0\" width=\"507\" height=\"500\"/></clipPath><clipPath class=\"axesclip\" id=\"clip6d18b2y\"><rect x=\"0\" y=\"100\" width=\"700\" height=\"320\"/></clipPath><clipPath class=\"axesclip\" id=\"clip6d18b2xy\"><rect x=\"80\" y=\"100\" width=\"507\" height=\"320\"/></clipPath></g><g class=\"gradients\"/><g class=\"patterns\"/></defs><g class=\"bglayer\"><rect class=\"bg\" x=\"80\" y=\"100\" width=\"507\" height=\"320\" style=\"fill: rgb(229, 236, 246); fill-opacity: 1; stroke-width: 0;\"/></g><g class=\"layer-below\"><g class=\"imagelayer\"/><g class=\"shapelayer\"/></g><g class=\"cartesianlayer\"><g class=\"subplot xy\"><g class=\"layer-subplot\"><g class=\"shapelayer\"/><g class=\"imagelayer\"/></g><g class=\"minor-gridlayer\"><g class=\"x\"/><g class=\"y\"/></g><g class=\"gridlayer\"><g class=\"x\"><path class=\"xgrid crisp\" transform=\"translate(99.24,0)\" d=\"M0,100v320\" style=\"stroke: rgb(255, 255, 255); stroke-opacity: 1; stroke-width: 1px;\"/><path class=\"xgrid crisp\" transform=\"translate(168.28,0)\" d=\"M0,100v320\" style=\"stroke: rgb(255, 255, 255); stroke-opacity: 1; stroke-width: 1px;\"/><path class=\"xgrid crisp\" transform=\"translate(237.33,0)\" d=\"M0,100v320\" style=\"stroke: rgb(255, 255, 255); stroke-opacity: 1; stroke-width: 1px;\"/><path class=\"xgrid crisp\" transform=\"translate(306.37,0)\" d=\"M0,100v320\" style=\"stroke: rgb(255, 255, 255); stroke-opacity: 1; stroke-width: 1px;\"/><path class=\"xgrid crisp\" transform=\"translate(375.42,0)\" d=\"M0,100v320\" style=\"stroke: rgb(255, 255, 255); stroke-opacity: 1; stroke-width: 1px;\"/><path class=\"xgrid crisp\" transform=\"translate(444.47,0)\" d=\"M0,100v320\" style=\"stroke: rgb(255, 255, 255); stroke-opacity: 1; stroke-width: 1px;\"/><path class=\"xgrid crisp\" transform=\"translate(513.51,0)\" d=\"M0,100v320\" style=\"stroke: rgb(255, 255, 255); stroke-opacity: 1; stroke-width: 1px;\"/><path class=\"xgrid crisp\" transform=\"translate(582.56,0)\" d=\"M0,100v320\" style=\"stroke: rgb(255, 255, 255); stroke-opacity: 1; stroke-width: 1px;\"/></g><g class=\"y\"><path class=\"ygrid crisp\" transform=\"translate(0,400.53)\" d=\"M80,0h507\" style=\"stroke: rgb(255, 255, 255); stroke-opacity: 1; stroke-width: 1px;\"/><path class=\"ygrid crisp\" transform=\"translate(0,360.18)\" d=\"M80,0h507\" style=\"stroke: rgb(255, 255, 255); stroke-opacity: 1; stroke-width: 1px;\"/><path class=\"ygrid crisp\" transform=\"translate(0,319.84000000000003)\" d=\"M80,0h507\" style=\"stroke: rgb(255, 255, 255); stroke-opacity: 1; stroke-width: 1px;\"/><path class=\"ygrid crisp\" transform=\"translate(0,279.49)\" d=\"M80,0h507\" style=\"stroke: rgb(255, 255, 255); stroke-opacity: 1; stroke-width: 1px;\"/><path class=\"ygrid crisp\" transform=\"translate(0,239.14)\" d=\"M80,0h507\" style=\"stroke: rgb(255, 255, 255); stroke-opacity: 1; stroke-width: 1px;\"/><path class=\"ygrid crisp\" transform=\"translate(0,198.79000000000002)\" d=\"M80,0h507\" style=\"stroke: rgb(255, 255, 255); stroke-opacity: 1; stroke-width: 1px;\"/><path class=\"ygrid crisp\" transform=\"translate(0,158.44)\" d=\"M80,0h507\" style=\"stroke: rgb(255, 255, 255); stroke-opacity: 1; stroke-width: 1px;\"/><path class=\"ygrid crisp\" transform=\"translate(0,118.09)\" d=\"M80,0h507\" style=\"stroke: rgb(255, 255, 255); stroke-opacity: 1; stroke-width: 1px;\"/></g></g><g class=\"zerolinelayer\"/><path class=\"xlines-below\"/><path class=\"ylines-below\"/><g class=\"overlines-below\"/><g class=\"xaxislayer-below\"/><g class=\"yaxislayer-below\"/><g class=\"overaxes-below\"/><g class=\"plot\" transform=\"translate(80,100)\" clip-path=\"url(#clip6d18b2xyplot)\"><g class=\"scatterlayer mlayer\"><g class=\"trace scatter trace1fedbf\" style=\"stroke-miterlimit: 2; opacity: 1;\"><g class=\"fills\"/><g class=\"errorbars\"/><g class=\"lines\"><path class=\"js-line\" d=\"M98.15,282.76L103.08,283.81L108.01,283.66L132.67,286.04L137.6,285.75L142.53,295.88L147.46,289.4L162.26,300.25L167.19,294.08L172.12,278.75L177.06,277.85L181.99,278.04L196.78,269.25L206.65,269.51L211.58,267.96L216.51,275.44L231.31,267.03L236.24,264.88L241.17,277.84L246.1,276.83L251.03,277.31L265.83,281.97L270.76,273.24L275.69,272.4L280.63,275.17L285.56,275.4L300.35,289.19L305.28,284.64L310.22,284.73L315.15,279.24L320.08,261.21L334.88,258.19L339.81,265.43L344.74,265.79L349.67,264.2L354.6,262.85L374.33,270.67L379.26,271.76L384.19,262.94L389.13,279.23L403.92,289.53L408.85,294.22L413.79,284.79L418.72,278.08L423.65,283.63L438.45,268.59L443.38,266.94L448.31,266.87L453.24,256.61L458.17,249.76L472.97,109.06L477.9,19.75\" style=\"vector-effect: non-scaling-stroke; fill: none; stroke: rgb(0, 128, 0); stroke-opacity: 1; stroke-width: 2px; opacity: 1;\"/></g><g class=\"points\"><path class=\"point\" transform=\"translate(98.15,282.76)\" d=\"M3,0A3,3 0 1,1 0,-3A3,3 0 0,1 3,0Z\" style=\"opacity: 1; stroke-width: 0px; fill: rgb(0, 128, 0); fill-opacity: 1;\"/><path class=\"point\" transform=\"translate(103.08,283.81)\" d=\"M3,0A3,3 0 1,1 0,-3A3,3 0 0,1 3,0Z\" style=\"opacity: 1; stroke-width: 0px; fill: rgb(0, 128, 0); fill-opacity: 1;\"/><path class=\"point\" transform=\"translate(108.01,283.66)\" d=\"M3,0A3,3 0 1,1 0,-3A3,3 0 0,1 3,0Z\" style=\"opacity: 1; stroke-width: 0px; fill: rgb(0, 128, 0); fill-opacity: 1;\"/><path class=\"point\" transform=\"translate(112.94,284.2)\" d=\"M3,0A3,3 0 1,1 0,-3A3,3 0 0,1 3,0Z\" style=\"opacity: 1; stroke-width: 0px; fill: rgb(0, 128, 0); fill-opacity: 1;\"/><path class=\"point\" transform=\"translate(127.74,285.63)\" d=\"M3,0A3,3 0 1,1 0,-3A3,3 0 0,1 3,0Z\" style=\"opacity: 1; stroke-width: 0px; fill: rgb(0, 128, 0); fill-opacity: 1;\"/><path class=\"point\" transform=\"translate(132.67,286.04)\" d=\"M3,0A3,3 0 1,1 0,-3A3,3 0 0,1 3,0Z\" style=\"opacity: 1; stroke-width: 0px; fill: rgb(0, 128, 0); fill-opacity: 1;\"/><path class=\"point\" transform=\"translate(137.6,285.75)\" d=\"M3,0A3,3 0 1,1 0,-3A3,3 0 0,1 3,0Z\" style=\"opacity: 1; stroke-width: 0px; fill: rgb(0, 128, 0); fill-opacity: 1;\"/><path class=\"point\" transform=\"translate(142.53,295.88)\" d=\"M3,0A3,3 0 1,1 0,-3A3,3 0 0,1 3,0Z\" style=\"opacity: 1; stroke-width: 0px; fill: rgb(0, 128, 0); fill-opacity: 1;\"/><path class=\"point\" transform=\"translate(147.46,289.4)\" d=\"M3,0A3,3 0 1,1 0,-3A3,3 0 0,1 3,0Z\" style=\"opacity: 1; stroke-width: 0px; fill: rgb(0, 128, 0); fill-opacity: 1;\"/><path class=\"point\" transform=\"translate(162.26,300.25)\" d=\"M3,0A3,3 0 1,1 0,-3A3,3 0 0,1 3,0Z\" style=\"opacity: 1; stroke-width: 0px; fill: rgb(0, 128, 0); fill-opacity: 1;\"/><path class=\"point\" transform=\"translate(167.19,294.08)\" d=\"M3,0A3,3 0 1,1 0,-3A3,3 0 0,1 3,0Z\" style=\"opacity: 1; stroke-width: 0px; fill: rgb(0, 128, 0); fill-opacity: 1;\"/><path class=\"point\" transform=\"translate(172.12,278.75)\" d=\"M3,0A3,3 0 1,1 0,-3A3,3 0 0,1 3,0Z\" style=\"opacity: 1; stroke-width: 0px; fill: rgb(0, 128, 0); fill-opacity: 1;\"/><path class=\"point\" transform=\"translate(177.06,277.85)\" d=\"M3,0A3,3 0 1,1 0,-3A3,3 0 0,1 3,0Z\" style=\"opacity: 1; stroke-width: 0px; fill: rgb(0, 128, 0); fill-opacity: 1;\"/><path class=\"point\" transform=\"translate(181.99,278.04)\" d=\"M3,0A3,3 0 1,1 0,-3A3,3 0 0,1 3,0Z\" style=\"opacity: 1; stroke-width: 0px; fill: rgb(0, 128, 0); fill-opacity: 1;\"/><path class=\"point\" transform=\"translate(196.78,269.25)\" d=\"M3,0A3,3 0 1,1 0,-3A3,3 0 0,1 3,0Z\" style=\"opacity: 1; stroke-width: 0px; fill: rgb(0, 128, 0); fill-opacity: 1;\"/><path class=\"point\" transform=\"translate(201.72,269.44)\" d=\"M3,0A3,3 0 1,1 0,-3A3,3 0 0,1 3,0Z\" style=\"opacity: 1; stroke-width: 0px; fill: rgb(0, 128, 0); fill-opacity: 1;\"/><path class=\"point\" transform=\"translate(206.65,269.51)\" d=\"M3,0A3,3 0 1,1 0,-3A3,3 0 0,1 3,0Z\" style=\"opacity: 1; stroke-width: 0px; fill: rgb(0, 128, 0); fill-opacity: 1;\"/><path class=\"point\" transform=\"translate(211.58,267.96)\" d=\"M3,0A3,3 0 1,1 0,-3A3,3 0 0,1 3,0Z\" style=\"opacity: 1; stroke-width: 0px; fill: rgb(0, 128, 0); fill-opacity: 1;\"/><path class=\"point\" transform=\"translate(216.51,275.44)\" d=\"M3,0A3,3 0 1,1 0,-3A3,3 0 0,1 3,0Z\" style=\"opacity: 1; stroke-width: 0px; fill: rgb(0, 128, 0); fill-opacity: 1;\"/><path class=\"point\" transform=\"translate(231.31,267.03)\" d=\"M3,0A3,3 0 1,1 0,-3A3,3 0 0,1 3,0Z\" style=\"opacity: 1; stroke-width: 0px; fill: rgb(0, 128, 0); fill-opacity: 1;\"/><path class=\"point\" transform=\"translate(236.24,264.88)\" d=\"M3,0A3,3 0 1,1 0,-3A3,3 0 0,1 3,0Z\" style=\"opacity: 1; stroke-width: 0px; fill: rgb(0, 128, 0); fill-opacity: 1;\"/><path class=\"point\" transform=\"translate(241.17,277.84)\" d=\"M3,0A3,3 0 1,1 0,-3A3,3 0 0,1 3,0Z\" style=\"opacity: 1; stroke-width: 0px; fill: rgb(0, 128, 0); fill-opacity: 1;\"/><path class=\"point\" transform=\"translate(246.1,276.83)\" d=\"M3,0A3,3 0 1,1 0,-3A3,3 0 0,1 3,0Z\" style=\"opacity: 1; stroke-width: 0px; fill: rgb(0, 128, 0); fill-opacity: 1;\"/><path class=\"point\" transform=\"translate(251.03,277.31)\" d=\"M3,0A3,3 0 1,1 0,-3A3,3 0 0,1 3,0Z\" style=\"opacity: 1; stroke-width: 0px; fill: rgb(0, 128, 0); fill-opacity: 1;\"/><path class=\"point\" transform=\"translate(265.83,281.97)\" d=\"M3,0A3,3 0 1,1 0,-3A3,3 0 0,1 3,0Z\" style=\"opacity: 1; stroke-width: 0px; fill: rgb(0, 128, 0); fill-opacity: 1;\"/><path class=\"point\" transform=\"translate(270.76,273.24)\" d=\"M3,0A3,3 0 1,1 0,-3A3,3 0 0,1 3,0Z\" style=\"opacity: 1; stroke-width: 0px; fill: rgb(0, 128, 0); fill-opacity: 1;\"/><path class=\"point\" transform=\"translate(275.69,272.4)\" d=\"M3,0A3,3 0 1,1 0,-3A3,3 0 0,1 3,0Z\" style=\"opacity: 1; stroke-width: 0px; fill: rgb(0, 128, 0); fill-opacity: 1;\"/><path class=\"point\" transform=\"translate(280.63,275.17)\" d=\"M3,0A3,3 0 1,1 0,-3A3,3 0 0,1 3,0Z\" style=\"opacity: 1; stroke-width: 0px; fill: rgb(0, 128, 0); fill-opacity: 1;\"/><path class=\"point\" transform=\"translate(285.56,275.4)\" d=\"M3,0A3,3 0 1,1 0,-3A3,3 0 0,1 3,0Z\" style=\"opacity: 1; stroke-width: 0px; fill: rgb(0, 128, 0); fill-opacity: 1;\"/><path class=\"point\" transform=\"translate(300.35,289.19)\" d=\"M3,0A3,3 0 1,1 0,-3A3,3 0 0,1 3,0Z\" style=\"opacity: 1; stroke-width: 0px; fill: rgb(0, 128, 0); fill-opacity: 1;\"/><path class=\"point\" transform=\"translate(305.28,284.64)\" d=\"M3,0A3,3 0 1,1 0,-3A3,3 0 0,1 3,0Z\" style=\"opacity: 1; stroke-width: 0px; fill: rgb(0, 128, 0); fill-opacity: 1;\"/><path class=\"point\" transform=\"translate(310.22,284.73)\" d=\"M3,0A3,3 0 1,1 0,-3A3,3 0 0,1 3,0Z\" style=\"opacity: 1; stroke-width: 0px; fill: rgb(0, 128, 0); fill-opacity: 1;\"/><path class=\"point\" transform=\"translate(315.15,279.24)\" d=\"M3,0A3,3 0 1,1 0,-3A3,3 0 0,1 3,0Z\" style=\"opacity: 1; stroke-width: 0px; fill: rgb(0, 128, 0); fill-opacity: 1;\"/><path class=\"point\" transform=\"translate(320.08,261.21)\" d=\"M3,0A3,3 0 1,1 0,-3A3,3 0 0,1 3,0Z\" style=\"opacity: 1; stroke-width: 0px; fill: rgb(0, 128, 0); fill-opacity: 1;\"/><path class=\"point\" transform=\"translate(334.88,258.19)\" d=\"M3,0A3,3 0 1,1 0,-3A3,3 0 0,1 3,0Z\" style=\"opacity: 1; stroke-width: 0px; fill: rgb(0, 128, 0); fill-opacity: 1;\"/><path class=\"point\" transform=\"translate(339.81,265.43)\" d=\"M3,0A3,3 0 1,1 0,-3A3,3 0 0,1 3,0Z\" style=\"opacity: 1; stroke-width: 0px; fill: rgb(0, 128, 0); fill-opacity: 1;\"/><path class=\"point\" transform=\"translate(344.74,265.79)\" d=\"M3,0A3,3 0 1,1 0,-3A3,3 0 0,1 3,0Z\" style=\"opacity: 1; stroke-width: 0px; fill: rgb(0, 128, 0); fill-opacity: 1;\"/><path class=\"point\" transform=\"translate(349.67,264.2)\" d=\"M3,0A3,3 0 1,1 0,-3A3,3 0 0,1 3,0Z\" style=\"opacity: 1; stroke-width: 0px; fill: rgb(0, 128, 0); fill-opacity: 1;\"/><path class=\"point\" transform=\"translate(354.6,262.85)\" d=\"M3,0A3,3 0 1,1 0,-3A3,3 0 0,1 3,0Z\" style=\"opacity: 1; stroke-width: 0px; fill: rgb(0, 128, 0); fill-opacity: 1;\"/><path class=\"point\" transform=\"translate(374.33,270.67)\" d=\"M3,0A3,3 0 1,1 0,-3A3,3 0 0,1 3,0Z\" style=\"opacity: 1; stroke-width: 0px; fill: rgb(0, 128, 0); fill-opacity: 1;\"/><path class=\"point\" transform=\"translate(379.26,271.76)\" d=\"M3,0A3,3 0 1,1 0,-3A3,3 0 0,1 3,0Z\" style=\"opacity: 1; stroke-width: 0px; fill: rgb(0, 128, 0); fill-opacity: 1;\"/><path class=\"point\" transform=\"translate(384.19,262.94)\" d=\"M3,0A3,3 0 1,1 0,-3A3,3 0 0,1 3,0Z\" style=\"opacity: 1; stroke-width: 0px; fill: rgb(0, 128, 0); fill-opacity: 1;\"/><path class=\"point\" transform=\"translate(389.13,279.23)\" d=\"M3,0A3,3 0 1,1 0,-3A3,3 0 0,1 3,0Z\" style=\"opacity: 1; stroke-width: 0px; fill: rgb(0, 128, 0); fill-opacity: 1;\"/><path class=\"point\" transform=\"translate(403.92,289.53)\" d=\"M3,0A3,3 0 1,1 0,-3A3,3 0 0,1 3,0Z\" style=\"opacity: 1; stroke-width: 0px; fill: rgb(0, 128, 0); fill-opacity: 1;\"/><path class=\"point\" transform=\"translate(408.85,294.22)\" d=\"M3,0A3,3 0 1,1 0,-3A3,3 0 0,1 3,0Z\" style=\"opacity: 1; stroke-width: 0px; fill: rgb(0, 128, 0); fill-opacity: 1;\"/><path class=\"point\" transform=\"translate(413.79,284.79)\" d=\"M3,0A3,3 0 1,1 0,-3A3,3 0 0,1 3,0Z\" style=\"opacity: 1; stroke-width: 0px; fill: rgb(0, 128, 0); fill-opacity: 1;\"/><path class=\"point\" transform=\"translate(418.72,278.08)\" d=\"M3,0A3,3 0 1,1 0,-3A3,3 0 0,1 3,0Z\" style=\"opacity: 1; stroke-width: 0px; fill: rgb(0, 128, 0); fill-opacity: 1;\"/><path class=\"point\" transform=\"translate(423.65,283.63)\" d=\"M3,0A3,3 0 1,1 0,-3A3,3 0 0,1 3,0Z\" style=\"opacity: 1; stroke-width: 0px; fill: rgb(0, 128, 0); fill-opacity: 1;\"/><path class=\"point\" transform=\"translate(438.45,268.59)\" d=\"M3,0A3,3 0 1,1 0,-3A3,3 0 0,1 3,0Z\" style=\"opacity: 1; stroke-width: 0px; fill: rgb(0, 128, 0); fill-opacity: 1;\"/><path class=\"point\" transform=\"translate(443.38,266.94)\" d=\"M3,0A3,3 0 1,1 0,-3A3,3 0 0,1 3,0Z\" style=\"opacity: 1; stroke-width: 0px; fill: rgb(0, 128, 0); fill-opacity: 1;\"/><path class=\"point\" transform=\"translate(448.31,266.87)\" d=\"M3,0A3,3 0 1,1 0,-3A3,3 0 0,1 3,0Z\" style=\"opacity: 1; stroke-width: 0px; fill: rgb(0, 128, 0); fill-opacity: 1;\"/><path class=\"point\" transform=\"translate(453.24,256.61)\" d=\"M3,0A3,3 0 1,1 0,-3A3,3 0 0,1 3,0Z\" style=\"opacity: 1; stroke-width: 0px; fill: rgb(0, 128, 0); fill-opacity: 1;\"/><path class=\"point\" transform=\"translate(458.17,249.76)\" d=\"M3,0A3,3 0 1,1 0,-3A3,3 0 0,1 3,0Z\" style=\"opacity: 1; stroke-width: 0px; fill: rgb(0, 128, 0); fill-opacity: 1;\"/><path class=\"point\" transform=\"translate(472.97,109.06)\" d=\"M3,0A3,3 0 1,1 0,-3A3,3 0 0,1 3,0Z\" style=\"opacity: 1; stroke-width: 0px; fill: rgb(0, 128, 0); fill-opacity: 1;\"/><path class=\"point\" transform=\"translate(477.9,19.75)\" d=\"M3,0A3,3 0 1,1 0,-3A3,3 0 0,1 3,0Z\" style=\"opacity: 1; stroke-width: 0px; fill: rgb(0, 128, 0); fill-opacity: 1;\"/></g><g class=\"text\"/></g></g></g><g class=\"overplot\"/><path class=\"xlines-above crisp\" d=\"M0,0\" style=\"fill: none;\"/><path class=\"ylines-above crisp\" d=\"M0,0\" style=\"fill: none;\"/><g class=\"overlines-above\"/><g class=\"xaxislayer-above\"><g class=\"xtick\"><text text-anchor=\"middle\" x=\"0\" y=\"433\" transform=\"translate(99.24,0)\" style=\"font-family: 'Open Sans', verdana, arial, sans-serif; font-size: 12px; fill: rgb(42, 63, 95); fill-opacity: 1; white-space: pre; opacity: 1;\"><tspan class=\"line\" dy=\"0em\" x=\"0\" y=\"433\">May 5</tspan><tspan class=\"line\" dy=\"1.3em\" x=\"0\" y=\"433\">2024</tspan></text></g><g class=\"xtick\"><text text-anchor=\"middle\" x=\"0\" y=\"433\" style=\"font-family: 'Open Sans', verdana, arial, sans-serif; font-size: 12px; fill: rgb(42, 63, 95); fill-opacity: 1; white-space: pre; opacity: 1;\" transform=\"translate(168.28,0)\">May 19</text></g><g class=\"xtick\"><text text-anchor=\"middle\" x=\"0\" y=\"433\" style=\"font-family: 'Open Sans', verdana, arial, sans-serif; font-size: 12px; fill: rgb(42, 63, 95); fill-opacity: 1; white-space: pre; opacity: 1;\" transform=\"translate(237.33,0)\">Jun 2</text></g><g class=\"xtick\"><text text-anchor=\"middle\" x=\"0\" y=\"433\" style=\"font-family: 'Open Sans', verdana, arial, sans-serif; font-size: 12px; fill: rgb(42, 63, 95); fill-opacity: 1; white-space: pre; opacity: 1;\" transform=\"translate(306.37,0)\">Jun 16</text></g><g class=\"xtick\"><text text-anchor=\"middle\" x=\"0\" y=\"433\" style=\"font-family: 'Open Sans', verdana, arial, sans-serif; font-size: 12px; fill: rgb(42, 63, 95); fill-opacity: 1; white-space: pre; opacity: 1;\" transform=\"translate(375.42,0)\">Jun 30</text></g><g class=\"xtick\"><text text-anchor=\"middle\" x=\"0\" y=\"433\" style=\"font-family: 'Open Sans', verdana, arial, sans-serif; font-size: 12px; fill: rgb(42, 63, 95); fill-opacity: 1; white-space: pre; opacity: 1;\" transform=\"translate(444.47,0)\">Jul 14</text></g><g class=\"xtick\"><text text-anchor=\"middle\" x=\"0\" y=\"433\" style=\"font-family: 'Open Sans', verdana, arial, sans-serif; font-size: 12px; fill: rgb(42, 63, 95); fill-opacity: 1; white-space: pre; opacity: 1;\" transform=\"translate(513.51,0)\">Jul 28</text></g><g class=\"xtick\"><text text-anchor=\"middle\" x=\"0\" y=\"433\" style=\"font-family: 'Open Sans', verdana, arial, sans-serif; font-size: 12px; fill: rgb(42, 63, 95); fill-opacity: 1; white-space: pre; opacity: 1;\" transform=\"translate(582.56,0)\">Aug 11</text></g></g><g class=\"yaxislayer-above\"><g class=\"ytick\"><text text-anchor=\"end\" x=\"79\" y=\"4.199999999999999\" transform=\"translate(0,400.53)\" style=\"font-family: 'Open Sans', verdana, arial, sans-serif; font-size: 12px; fill: rgb(42, 63, 95); fill-opacity: 1; white-space: pre; opacity: 1;\">0.01</text></g><g class=\"ytick\"><text text-anchor=\"end\" x=\"79\" y=\"4.199999999999999\" style=\"font-family: 'Open Sans', verdana, arial, sans-serif; font-size: 12px; fill: rgb(42, 63, 95); fill-opacity: 1; white-space: pre; opacity: 1;\" transform=\"translate(0,360.18)\">0.02</text></g><g class=\"ytick\"><text text-anchor=\"end\" x=\"79\" y=\"4.199999999999999\" style=\"font-family: 'Open Sans', verdana, arial, sans-serif; font-size: 12px; fill: rgb(42, 63, 95); fill-opacity: 1; white-space: pre; opacity: 1;\" transform=\"translate(0,319.84000000000003)\">0.03</text></g><g class=\"ytick\"><text text-anchor=\"end\" x=\"79\" y=\"4.199999999999999\" style=\"font-family: 'Open Sans', verdana, arial, sans-serif; font-size: 12px; fill: rgb(42, 63, 95); fill-opacity: 1; white-space: pre; opacity: 1;\" transform=\"translate(0,279.49)\">0.04</text></g><g class=\"ytick\"><text text-anchor=\"end\" x=\"79\" y=\"4.199999999999999\" style=\"font-family: 'Open Sans', verdana, arial, sans-serif; font-size: 12px; fill: rgb(42, 63, 95); fill-opacity: 1; white-space: pre; opacity: 1;\" transform=\"translate(0,239.14)\">0.05</text></g><g class=\"ytick\"><text text-anchor=\"end\" x=\"79\" y=\"4.199999999999999\" style=\"font-family: 'Open Sans', verdana, arial, sans-serif; font-size: 12px; fill: rgb(42, 63, 95); fill-opacity: 1; white-space: pre; opacity: 1;\" transform=\"translate(0,198.79000000000002)\">0.06</text></g><g class=\"ytick\"><text text-anchor=\"end\" x=\"79\" y=\"4.199999999999999\" style=\"font-family: 'Open Sans', verdana, arial, sans-serif; font-size: 12px; fill: rgb(42, 63, 95); fill-opacity: 1; white-space: pre; opacity: 1;\" transform=\"translate(0,158.44)\">0.07</text></g><g class=\"ytick\"><text text-anchor=\"end\" x=\"79\" y=\"4.199999999999999\" style=\"font-family: 'Open Sans', verdana, arial, sans-serif; font-size: 12px; fill: rgb(42, 63, 95); fill-opacity: 1; white-space: pre; opacity: 1;\" transform=\"translate(0,118.09)\">0.08</text></g></g><g class=\"overaxes-above\"/></g></g><g class=\"polarlayer\"/><g class=\"smithlayer\"/><g class=\"ternarylayer\"/><g class=\"geolayer\"/><g class=\"funnelarealayer\"/><g class=\"pielayer\"/><g class=\"iciclelayer\"/><g class=\"treemaplayer\"/><g class=\"sunburstlayer\"/><g class=\"glimages\"/><defs id=\"topdefs-6d18b2\"><g class=\"clips\"/><clipPath id=\"legend6d18b2\"><rect width=\"91\" height=\"48\" x=\"0\" y=\"0\"/></clipPath></defs><g class=\"layer-above\"><g class=\"imagelayer\"/><g class=\"shapelayer\"/></g><g class=\"infolayer\"><g class=\"legend\" pointer-events=\"all\" transform=\"translate(597.14,100)\"><rect class=\"bg\" shape-rendering=\"crispEdges\" width=\"91\" height=\"48\" x=\"0\" y=\"0\" style=\"stroke: rgb(68, 68, 68); stroke-opacity: 1; fill: rgb(255, 255, 255); fill-opacity: 1; stroke-width: 0px;\"/><g class=\"scrollbox\" transform=\"\" clip-path=\"url(#legend6d18b2)\"><text class=\"legendtitletext\" text-anchor=\"start\" x=\"2\" y=\"18.2\" style=\"font-family: 'Open Sans', verdana, arial, sans-serif; font-size: 14px; fill: rgb(42, 63, 95); fill-opacity: 1; white-space: pre;\">Ticker</text><g class=\"groups\" transform=\"\"><g class=\"traces\" transform=\"translate(0,32.7)\" style=\"opacity: 1;\"><text class=\"legendtext\" text-anchor=\"start\" x=\"40\" y=\"4.680000000000001\" style=\"font-family: 'Open Sans', verdana, arial, sans-serif; font-size: 12px; fill: rgb(42, 63, 95); fill-opacity: 1; white-space: pre;\">HONDA</text><g class=\"layers\" style=\"opacity: 1;\"><g class=\"legendfill\"/><g class=\"legendlines\"><path class=\"js-line\" d=\"M5,0h30\" style=\"fill: none; stroke: rgb(0, 128, 0); stroke-opacity: 1; stroke-width: 2px;\"/></g><g class=\"legendsymbols\"><g class=\"legendpoints\"><path class=\"scatterpts\" transform=\"translate(20,0)\" d=\"M3,0A3,3 0 1,1 0,-3A3,3 0 0,1 3,0Z\" style=\"opacity: 1; stroke-width: 0px; fill: rgb(0, 128, 0); fill-opacity: 1;\"/></g></g></g><rect class=\"legendtoggle\" x=\"0\" y=\"-9.5\" width=\"85.6875\" height=\"19\" style=\"fill: rgb(0, 0, 0); fill-opacity: 0;\"/></g></g></g><rect class=\"scrollbar\" rx=\"20\" ry=\"3\" width=\"0\" height=\"0\" x=\"0\" y=\"0\" style=\"fill: rgb(128, 139, 164); fill-opacity: 1;\"/></g><g class=\"g-gtitle\"><text class=\"gtitle\" x=\"35\" y=\"50\" text-anchor=\"start\" dy=\"0em\" style=\"font-family: 'Open Sans', verdana, arial, sans-serif; font-size: 17px; fill: rgb(42, 63, 95); opacity: 1; font-weight: normal; white-space: pre;\">HONDA Volatility Analysis</text></g><g class=\"g-xtitle\"><text class=\"xtitle\" x=\"333.5\" y=\"476.409375\" text-anchor=\"middle\" style=\"font-family: 'Open Sans', verdana, arial, sans-serif; font-size: 14px; fill: rgb(42, 63, 95); opacity: 1; font-weight: normal; white-space: pre;\">Date</text></g><g class=\"g-ytitle\"><text class=\"ytitle\" transform=\"rotate(-90,26.934375000000003,260)\" x=\"26.934375000000003\" y=\"260\" text-anchor=\"middle\" style=\"font-family: 'Open Sans', verdana, arial, sans-serif; font-size: 14px; fill: rgb(42, 63, 95); opacity: 1; font-weight: normal; white-space: pre;\">Volatility</text></g></g></svg>"
      ]
     },
     "metadata": {},
     "output_type": "display_data"
    },
    {
     "data": {
      "image/svg+xml": [
       "<svg class=\"main-svg\" xmlns=\"http://www.w3.org/2000/svg\" xmlns:xlink=\"http://www.w3.org/1999/xlink\" width=\"700\" height=\"500\" style=\"\" viewBox=\"0 0 700 500\"><rect x=\"0\" y=\"0\" width=\"700\" height=\"500\" style=\"fill: rgb(255, 255, 255); fill-opacity: 1;\"/><defs id=\"defs-406501\"><g class=\"clips\"><clipPath id=\"clip406501xyplot\" class=\"plotclip\"><rect width=\"502\" height=\"320\"/></clipPath><clipPath class=\"axesclip\" id=\"clip406501x\"><rect x=\"80\" y=\"0\" width=\"502\" height=\"500\"/></clipPath><clipPath class=\"axesclip\" id=\"clip406501y\"><rect x=\"0\" y=\"100\" width=\"700\" height=\"320\"/></clipPath><clipPath class=\"axesclip\" id=\"clip406501xy\"><rect x=\"80\" y=\"100\" width=\"502\" height=\"320\"/></clipPath></g><g class=\"gradients\"/><g class=\"patterns\"/></defs><g class=\"bglayer\"><rect class=\"bg\" x=\"80\" y=\"100\" width=\"502\" height=\"320\" style=\"fill: rgb(229, 236, 246); fill-opacity: 1; stroke-width: 0;\"/></g><g class=\"layer-below\"><g class=\"imagelayer\"/><g class=\"shapelayer\"/></g><g class=\"cartesianlayer\"><g class=\"subplot xy\"><g class=\"layer-subplot\"><g class=\"shapelayer\"/><g class=\"imagelayer\"/></g><g class=\"minor-gridlayer\"><g class=\"x\"/><g class=\"y\"/></g><g class=\"gridlayer\"><g class=\"x\"><path class=\"xgrid crisp\" transform=\"translate(99.09,0)\" d=\"M0,100v320\" style=\"stroke: rgb(255, 255, 255); stroke-opacity: 1; stroke-width: 1px;\"/><path class=\"xgrid crisp\" transform=\"translate(167.44,0)\" d=\"M0,100v320\" style=\"stroke: rgb(255, 255, 255); stroke-opacity: 1; stroke-width: 1px;\"/><path class=\"xgrid crisp\" transform=\"translate(235.79,0)\" d=\"M0,100v320\" style=\"stroke: rgb(255, 255, 255); stroke-opacity: 1; stroke-width: 1px;\"/><path class=\"xgrid crisp\" transform=\"translate(304.15,0)\" d=\"M0,100v320\" style=\"stroke: rgb(255, 255, 255); stroke-opacity: 1; stroke-width: 1px;\"/><path class=\"xgrid crisp\" transform=\"translate(372.5,0)\" d=\"M0,100v320\" style=\"stroke: rgb(255, 255, 255); stroke-opacity: 1; stroke-width: 1px;\"/><path class=\"xgrid crisp\" transform=\"translate(440.85,0)\" d=\"M0,100v320\" style=\"stroke: rgb(255, 255, 255); stroke-opacity: 1; stroke-width: 1px;\"/><path class=\"xgrid crisp\" transform=\"translate(509.21,0)\" d=\"M0,100v320\" style=\"stroke: rgb(255, 255, 255); stroke-opacity: 1; stroke-width: 1px;\"/><path class=\"xgrid crisp\" transform=\"translate(577.56,0)\" d=\"M0,100v320\" style=\"stroke: rgb(255, 255, 255); stroke-opacity: 1; stroke-width: 1px;\"/></g><g class=\"y\"><path class=\"ygrid crisp\" transform=\"translate(0,399.11)\" d=\"M80,0h502\" style=\"stroke: rgb(255, 255, 255); stroke-opacity: 1; stroke-width: 1px;\"/><path class=\"ygrid crisp\" transform=\"translate(0,354.03999999999996)\" d=\"M80,0h502\" style=\"stroke: rgb(255, 255, 255); stroke-opacity: 1; stroke-width: 1px;\"/><path class=\"ygrid crisp\" transform=\"translate(0,308.97)\" d=\"M80,0h502\" style=\"stroke: rgb(255, 255, 255); stroke-opacity: 1; stroke-width: 1px;\"/><path class=\"ygrid crisp\" transform=\"translate(0,263.90999999999997)\" d=\"M80,0h502\" style=\"stroke: rgb(255, 255, 255); stroke-opacity: 1; stroke-width: 1px;\"/><path class=\"ygrid crisp\" transform=\"translate(0,218.84)\" d=\"M80,0h502\" style=\"stroke: rgb(255, 255, 255); stroke-opacity: 1; stroke-width: 1px;\"/><path class=\"ygrid crisp\" transform=\"translate(0,173.76999999999998)\" d=\"M80,0h502\" style=\"stroke: rgb(255, 255, 255); stroke-opacity: 1; stroke-width: 1px;\"/><path class=\"ygrid crisp\" transform=\"translate(0,128.71)\" d=\"M80,0h502\" style=\"stroke: rgb(255, 255, 255); stroke-opacity: 1; stroke-width: 1px;\"/></g></g><g class=\"zerolinelayer\"/><path class=\"xlines-below\"/><path class=\"ylines-below\"/><g class=\"overlines-below\"/><g class=\"xaxislayer-below\"/><g class=\"yaxislayer-below\"/><g class=\"overaxes-below\"/><g class=\"plot\" transform=\"translate(80,100)\" clip-path=\"url(#clip406501xyplot)\"><g class=\"scatterlayer mlayer\"><g class=\"trace scatter tracecb6946\" style=\"stroke-miterlimit: 2; opacity: 1;\"><g class=\"fills\"/><g class=\"errorbars\"/><g class=\"lines\"><path class=\"js-line\" d=\"M97.2,245.45L102.09,252.02L106.97,252.21L111.85,252.09L126.5,272.64L131.38,276.45L136.26,275.85L141.15,285.69L146.03,290.35L160.68,300.25L165.56,287.41L170.44,263.88L175.32,263.23L180.2,263.18L194.85,262.19L199.73,266.32L204.62,266.67L209.5,263.6L214.38,268.15L229.03,276.27L233.91,259.51L238.79,276.19L243.68,276.82L248.56,276.79L263.21,282.75L268.09,270.22L272.97,267.01L277.85,271.95L282.74,274.81L297.38,275.46L302.27,282.33L307.15,282.48L312.03,266.95L316.91,250.08L331.56,249.27L336.44,255.41L341.32,257.99L346.21,254.8L351.09,236.49L370.62,236.54L375.5,239.15L380.38,232.92L385.27,258.06L399.91,263.81L404.8,261.01L409.68,253.19L414.56,248.63L419.44,270.42L434.09,260.93L438.97,250.52L443.86,249.48L448.74,231.27L453.62,217.54L468.27,75.5L473.15,19.75\" style=\"vector-effect: non-scaling-stroke; fill: none; stroke: rgb(0, 0, 255); stroke-opacity: 1; stroke-width: 2px; opacity: 1;\"/></g><g class=\"points\"><path class=\"point\" transform=\"translate(97.2,245.45)\" d=\"M3,0A3,3 0 1,1 0,-3A3,3 0 0,1 3,0Z\" style=\"opacity: 1; stroke-width: 0px; fill: rgb(0, 0, 255); fill-opacity: 1;\"/><path class=\"point\" transform=\"translate(102.09,252.02)\" d=\"M3,0A3,3 0 1,1 0,-3A3,3 0 0,1 3,0Z\" style=\"opacity: 1; stroke-width: 0px; fill: rgb(0, 0, 255); fill-opacity: 1;\"/><path class=\"point\" transform=\"translate(106.97,252.21)\" d=\"M3,0A3,3 0 1,1 0,-3A3,3 0 0,1 3,0Z\" style=\"opacity: 1; stroke-width: 0px; fill: rgb(0, 0, 255); fill-opacity: 1;\"/><path class=\"point\" transform=\"translate(111.85,252.09)\" d=\"M3,0A3,3 0 1,1 0,-3A3,3 0 0,1 3,0Z\" style=\"opacity: 1; stroke-width: 0px; fill: rgb(0, 0, 255); fill-opacity: 1;\"/><path class=\"point\" transform=\"translate(126.5,272.64)\" d=\"M3,0A3,3 0 1,1 0,-3A3,3 0 0,1 3,0Z\" style=\"opacity: 1; stroke-width: 0px; fill: rgb(0, 0, 255); fill-opacity: 1;\"/><path class=\"point\" transform=\"translate(131.38,276.45)\" d=\"M3,0A3,3 0 1,1 0,-3A3,3 0 0,1 3,0Z\" style=\"opacity: 1; stroke-width: 0px; fill: rgb(0, 0, 255); fill-opacity: 1;\"/><path class=\"point\" transform=\"translate(136.26,275.85)\" d=\"M3,0A3,3 0 1,1 0,-3A3,3 0 0,1 3,0Z\" style=\"opacity: 1; stroke-width: 0px; fill: rgb(0, 0, 255); fill-opacity: 1;\"/><path class=\"point\" transform=\"translate(141.15,285.69)\" d=\"M3,0A3,3 0 1,1 0,-3A3,3 0 0,1 3,0Z\" style=\"opacity: 1; stroke-width: 0px; fill: rgb(0, 0, 255); fill-opacity: 1;\"/><path class=\"point\" transform=\"translate(146.03,290.35)\" d=\"M3,0A3,3 0 1,1 0,-3A3,3 0 0,1 3,0Z\" style=\"opacity: 1; stroke-width: 0px; fill: rgb(0, 0, 255); fill-opacity: 1;\"/><path class=\"point\" transform=\"translate(160.68,300.25)\" d=\"M3,0A3,3 0 1,1 0,-3A3,3 0 0,1 3,0Z\" style=\"opacity: 1; stroke-width: 0px; fill: rgb(0, 0, 255); fill-opacity: 1;\"/><path class=\"point\" transform=\"translate(165.56,287.41)\" d=\"M3,0A3,3 0 1,1 0,-3A3,3 0 0,1 3,0Z\" style=\"opacity: 1; stroke-width: 0px; fill: rgb(0, 0, 255); fill-opacity: 1;\"/><path class=\"point\" transform=\"translate(170.44,263.88)\" d=\"M3,0A3,3 0 1,1 0,-3A3,3 0 0,1 3,0Z\" style=\"opacity: 1; stroke-width: 0px; fill: rgb(0, 0, 255); fill-opacity: 1;\"/><path class=\"point\" transform=\"translate(175.32,263.23)\" d=\"M3,0A3,3 0 1,1 0,-3A3,3 0 0,1 3,0Z\" style=\"opacity: 1; stroke-width: 0px; fill: rgb(0, 0, 255); fill-opacity: 1;\"/><path class=\"point\" transform=\"translate(180.2,263.18)\" d=\"M3,0A3,3 0 1,1 0,-3A3,3 0 0,1 3,0Z\" style=\"opacity: 1; stroke-width: 0px; fill: rgb(0, 0, 255); fill-opacity: 1;\"/><path class=\"point\" transform=\"translate(194.85,262.19)\" d=\"M3,0A3,3 0 1,1 0,-3A3,3 0 0,1 3,0Z\" style=\"opacity: 1; stroke-width: 0px; fill: rgb(0, 0, 255); fill-opacity: 1;\"/><path class=\"point\" transform=\"translate(199.73,266.32)\" d=\"M3,0A3,3 0 1,1 0,-3A3,3 0 0,1 3,0Z\" style=\"opacity: 1; stroke-width: 0px; fill: rgb(0, 0, 255); fill-opacity: 1;\"/><path class=\"point\" transform=\"translate(204.62,266.67)\" d=\"M3,0A3,3 0 1,1 0,-3A3,3 0 0,1 3,0Z\" style=\"opacity: 1; stroke-width: 0px; fill: rgb(0, 0, 255); fill-opacity: 1;\"/><path class=\"point\" transform=\"translate(209.5,263.6)\" d=\"M3,0A3,3 0 1,1 0,-3A3,3 0 0,1 3,0Z\" style=\"opacity: 1; stroke-width: 0px; fill: rgb(0, 0, 255); fill-opacity: 1;\"/><path class=\"point\" transform=\"translate(214.38,268.15)\" d=\"M3,0A3,3 0 1,1 0,-3A3,3 0 0,1 3,0Z\" style=\"opacity: 1; stroke-width: 0px; fill: rgb(0, 0, 255); fill-opacity: 1;\"/><path class=\"point\" transform=\"translate(229.03,276.27)\" d=\"M3,0A3,3 0 1,1 0,-3A3,3 0 0,1 3,0Z\" style=\"opacity: 1; stroke-width: 0px; fill: rgb(0, 0, 255); fill-opacity: 1;\"/><path class=\"point\" transform=\"translate(233.91,259.51)\" d=\"M3,0A3,3 0 1,1 0,-3A3,3 0 0,1 3,0Z\" style=\"opacity: 1; stroke-width: 0px; fill: rgb(0, 0, 255); fill-opacity: 1;\"/><path class=\"point\" transform=\"translate(238.79,276.19)\" d=\"M3,0A3,3 0 1,1 0,-3A3,3 0 0,1 3,0Z\" style=\"opacity: 1; stroke-width: 0px; fill: rgb(0, 0, 255); fill-opacity: 1;\"/><path class=\"point\" transform=\"translate(243.68,276.82)\" d=\"M3,0A3,3 0 1,1 0,-3A3,3 0 0,1 3,0Z\" style=\"opacity: 1; stroke-width: 0px; fill: rgb(0, 0, 255); fill-opacity: 1;\"/><path class=\"point\" transform=\"translate(248.56,276.79)\" d=\"M3,0A3,3 0 1,1 0,-3A3,3 0 0,1 3,0Z\" style=\"opacity: 1; stroke-width: 0px; fill: rgb(0, 0, 255); fill-opacity: 1;\"/><path class=\"point\" transform=\"translate(263.21,282.75)\" d=\"M3,0A3,3 0 1,1 0,-3A3,3 0 0,1 3,0Z\" style=\"opacity: 1; stroke-width: 0px; fill: rgb(0, 0, 255); fill-opacity: 1;\"/><path class=\"point\" transform=\"translate(268.09,270.22)\" d=\"M3,0A3,3 0 1,1 0,-3A3,3 0 0,1 3,0Z\" style=\"opacity: 1; stroke-width: 0px; fill: rgb(0, 0, 255); fill-opacity: 1;\"/><path class=\"point\" transform=\"translate(272.97,267.01)\" d=\"M3,0A3,3 0 1,1 0,-3A3,3 0 0,1 3,0Z\" style=\"opacity: 1; stroke-width: 0px; fill: rgb(0, 0, 255); fill-opacity: 1;\"/><path class=\"point\" transform=\"translate(277.85,271.95)\" d=\"M3,0A3,3 0 1,1 0,-3A3,3 0 0,1 3,0Z\" style=\"opacity: 1; stroke-width: 0px; fill: rgb(0, 0, 255); fill-opacity: 1;\"/><path class=\"point\" transform=\"translate(282.74,274.81)\" d=\"M3,0A3,3 0 1,1 0,-3A3,3 0 0,1 3,0Z\" style=\"opacity: 1; stroke-width: 0px; fill: rgb(0, 0, 255); fill-opacity: 1;\"/><path class=\"point\" transform=\"translate(297.38,275.46)\" d=\"M3,0A3,3 0 1,1 0,-3A3,3 0 0,1 3,0Z\" style=\"opacity: 1; stroke-width: 0px; fill: rgb(0, 0, 255); fill-opacity: 1;\"/><path class=\"point\" transform=\"translate(302.27,282.33)\" d=\"M3,0A3,3 0 1,1 0,-3A3,3 0 0,1 3,0Z\" style=\"opacity: 1; stroke-width: 0px; fill: rgb(0, 0, 255); fill-opacity: 1;\"/><path class=\"point\" transform=\"translate(307.15,282.48)\" d=\"M3,0A3,3 0 1,1 0,-3A3,3 0 0,1 3,0Z\" style=\"opacity: 1; stroke-width: 0px; fill: rgb(0, 0, 255); fill-opacity: 1;\"/><path class=\"point\" transform=\"translate(312.03,266.95)\" d=\"M3,0A3,3 0 1,1 0,-3A3,3 0 0,1 3,0Z\" style=\"opacity: 1; stroke-width: 0px; fill: rgb(0, 0, 255); fill-opacity: 1;\"/><path class=\"point\" transform=\"translate(316.91,250.08)\" d=\"M3,0A3,3 0 1,1 0,-3A3,3 0 0,1 3,0Z\" style=\"opacity: 1; stroke-width: 0px; fill: rgb(0, 0, 255); fill-opacity: 1;\"/><path class=\"point\" transform=\"translate(331.56,249.27)\" d=\"M3,0A3,3 0 1,1 0,-3A3,3 0 0,1 3,0Z\" style=\"opacity: 1; stroke-width: 0px; fill: rgb(0, 0, 255); fill-opacity: 1;\"/><path class=\"point\" transform=\"translate(336.44,255.41)\" d=\"M3,0A3,3 0 1,1 0,-3A3,3 0 0,1 3,0Z\" style=\"opacity: 1; stroke-width: 0px; fill: rgb(0, 0, 255); fill-opacity: 1;\"/><path class=\"point\" transform=\"translate(341.32,257.99)\" d=\"M3,0A3,3 0 1,1 0,-3A3,3 0 0,1 3,0Z\" style=\"opacity: 1; stroke-width: 0px; fill: rgb(0, 0, 255); fill-opacity: 1;\"/><path class=\"point\" transform=\"translate(346.21,254.8)\" d=\"M3,0A3,3 0 1,1 0,-3A3,3 0 0,1 3,0Z\" style=\"opacity: 1; stroke-width: 0px; fill: rgb(0, 0, 255); fill-opacity: 1;\"/><path class=\"point\" transform=\"translate(351.09,236.49)\" d=\"M3,0A3,3 0 1,1 0,-3A3,3 0 0,1 3,0Z\" style=\"opacity: 1; stroke-width: 0px; fill: rgb(0, 0, 255); fill-opacity: 1;\"/><path class=\"point\" transform=\"translate(370.62,236.54)\" d=\"M3,0A3,3 0 1,1 0,-3A3,3 0 0,1 3,0Z\" style=\"opacity: 1; stroke-width: 0px; fill: rgb(0, 0, 255); fill-opacity: 1;\"/><path class=\"point\" transform=\"translate(375.5,239.15)\" d=\"M3,0A3,3 0 1,1 0,-3A3,3 0 0,1 3,0Z\" style=\"opacity: 1; stroke-width: 0px; fill: rgb(0, 0, 255); fill-opacity: 1;\"/><path class=\"point\" transform=\"translate(380.38,232.92)\" d=\"M3,0A3,3 0 1,1 0,-3A3,3 0 0,1 3,0Z\" style=\"opacity: 1; stroke-width: 0px; fill: rgb(0, 0, 255); fill-opacity: 1;\"/><path class=\"point\" transform=\"translate(385.27,258.06)\" d=\"M3,0A3,3 0 1,1 0,-3A3,3 0 0,1 3,0Z\" style=\"opacity: 1; stroke-width: 0px; fill: rgb(0, 0, 255); fill-opacity: 1;\"/><path class=\"point\" transform=\"translate(399.91,263.81)\" d=\"M3,0A3,3 0 1,1 0,-3A3,3 0 0,1 3,0Z\" style=\"opacity: 1; stroke-width: 0px; fill: rgb(0, 0, 255); fill-opacity: 1;\"/><path class=\"point\" transform=\"translate(404.8,261.01)\" d=\"M3,0A3,3 0 1,1 0,-3A3,3 0 0,1 3,0Z\" style=\"opacity: 1; stroke-width: 0px; fill: rgb(0, 0, 255); fill-opacity: 1;\"/><path class=\"point\" transform=\"translate(409.68,253.19)\" d=\"M3,0A3,3 0 1,1 0,-3A3,3 0 0,1 3,0Z\" style=\"opacity: 1; stroke-width: 0px; fill: rgb(0, 0, 255); fill-opacity: 1;\"/><path class=\"point\" transform=\"translate(414.56,248.63)\" d=\"M3,0A3,3 0 1,1 0,-3A3,3 0 0,1 3,0Z\" style=\"opacity: 1; stroke-width: 0px; fill: rgb(0, 0, 255); fill-opacity: 1;\"/><path class=\"point\" transform=\"translate(419.44,270.42)\" d=\"M3,0A3,3 0 1,1 0,-3A3,3 0 0,1 3,0Z\" style=\"opacity: 1; stroke-width: 0px; fill: rgb(0, 0, 255); fill-opacity: 1;\"/><path class=\"point\" transform=\"translate(434.09,260.93)\" d=\"M3,0A3,3 0 1,1 0,-3A3,3 0 0,1 3,0Z\" style=\"opacity: 1; stroke-width: 0px; fill: rgb(0, 0, 255); fill-opacity: 1;\"/><path class=\"point\" transform=\"translate(438.97,250.52)\" d=\"M3,0A3,3 0 1,1 0,-3A3,3 0 0,1 3,0Z\" style=\"opacity: 1; stroke-width: 0px; fill: rgb(0, 0, 255); fill-opacity: 1;\"/><path class=\"point\" transform=\"translate(443.86,249.48)\" d=\"M3,0A3,3 0 1,1 0,-3A3,3 0 0,1 3,0Z\" style=\"opacity: 1; stroke-width: 0px; fill: rgb(0, 0, 255); fill-opacity: 1;\"/><path class=\"point\" transform=\"translate(448.74,231.27)\" d=\"M3,0A3,3 0 1,1 0,-3A3,3 0 0,1 3,0Z\" style=\"opacity: 1; stroke-width: 0px; fill: rgb(0, 0, 255); fill-opacity: 1;\"/><path class=\"point\" transform=\"translate(453.62,217.54)\" d=\"M3,0A3,3 0 1,1 0,-3A3,3 0 0,1 3,0Z\" style=\"opacity: 1; stroke-width: 0px; fill: rgb(0, 0, 255); fill-opacity: 1;\"/><path class=\"point\" transform=\"translate(468.27,75.5)\" d=\"M3,0A3,3 0 1,1 0,-3A3,3 0 0,1 3,0Z\" style=\"opacity: 1; stroke-width: 0px; fill: rgb(0, 0, 255); fill-opacity: 1;\"/><path class=\"point\" transform=\"translate(473.15,19.75)\" d=\"M3,0A3,3 0 1,1 0,-3A3,3 0 0,1 3,0Z\" style=\"opacity: 1; stroke-width: 0px; fill: rgb(0, 0, 255); fill-opacity: 1;\"/></g><g class=\"text\"/></g></g></g><g class=\"overplot\"/><path class=\"xlines-above crisp\" d=\"M0,0\" style=\"fill: none;\"/><path class=\"ylines-above crisp\" d=\"M0,0\" style=\"fill: none;\"/><g class=\"overlines-above\"/><g class=\"xaxislayer-above\"><g class=\"xtick\"><text text-anchor=\"middle\" x=\"0\" y=\"433\" transform=\"translate(99.09,0)\" style=\"font-family: 'Open Sans', verdana, arial, sans-serif; font-size: 12px; fill: rgb(42, 63, 95); fill-opacity: 1; white-space: pre; opacity: 1;\"><tspan class=\"line\" dy=\"0em\" x=\"0\" y=\"433\">May 5</tspan><tspan class=\"line\" dy=\"1.3em\" x=\"0\" y=\"433\">2024</tspan></text></g><g class=\"xtick\"><text text-anchor=\"middle\" x=\"0\" y=\"433\" style=\"font-family: 'Open Sans', verdana, arial, sans-serif; font-size: 12px; fill: rgb(42, 63, 95); fill-opacity: 1; white-space: pre; opacity: 1;\" transform=\"translate(167.44,0)\">May 19</text></g><g class=\"xtick\"><text text-anchor=\"middle\" x=\"0\" y=\"433\" style=\"font-family: 'Open Sans', verdana, arial, sans-serif; font-size: 12px; fill: rgb(42, 63, 95); fill-opacity: 1; white-space: pre; opacity: 1;\" transform=\"translate(235.79,0)\">Jun 2</text></g><g class=\"xtick\"><text text-anchor=\"middle\" x=\"0\" y=\"433\" style=\"font-family: 'Open Sans', verdana, arial, sans-serif; font-size: 12px; fill: rgb(42, 63, 95); fill-opacity: 1; white-space: pre; opacity: 1;\" transform=\"translate(304.15,0)\">Jun 16</text></g><g class=\"xtick\"><text text-anchor=\"middle\" x=\"0\" y=\"433\" style=\"font-family: 'Open Sans', verdana, arial, sans-serif; font-size: 12px; fill: rgb(42, 63, 95); fill-opacity: 1; white-space: pre; opacity: 1;\" transform=\"translate(372.5,0)\">Jun 30</text></g><g class=\"xtick\"><text text-anchor=\"middle\" x=\"0\" y=\"433\" style=\"font-family: 'Open Sans', verdana, arial, sans-serif; font-size: 12px; fill: rgb(42, 63, 95); fill-opacity: 1; white-space: pre; opacity: 1;\" transform=\"translate(440.85,0)\">Jul 14</text></g><g class=\"xtick\"><text text-anchor=\"middle\" x=\"0\" y=\"433\" style=\"font-family: 'Open Sans', verdana, arial, sans-serif; font-size: 12px; fill: rgb(42, 63, 95); fill-opacity: 1; white-space: pre; opacity: 1;\" transform=\"translate(509.21,0)\">Jul 28</text></g><g class=\"xtick\"><text text-anchor=\"middle\" x=\"0\" y=\"433\" style=\"font-family: 'Open Sans', verdana, arial, sans-serif; font-size: 12px; fill: rgb(42, 63, 95); fill-opacity: 1; white-space: pre; opacity: 1;\" transform=\"translate(577.56,0)\">Aug 11</text></g></g><g class=\"yaxislayer-above\"><g class=\"ytick\"><text text-anchor=\"end\" x=\"79\" y=\"4.199999999999999\" transform=\"translate(0,399.11)\" style=\"font-family: 'Open Sans', verdana, arial, sans-serif; font-size: 12px; fill: rgb(42, 63, 95); fill-opacity: 1; white-space: pre; opacity: 1;\">0.01</text></g><g class=\"ytick\"><text text-anchor=\"end\" x=\"79\" y=\"4.199999999999999\" style=\"font-family: 'Open Sans', verdana, arial, sans-serif; font-size: 12px; fill: rgb(42, 63, 95); fill-opacity: 1; white-space: pre; opacity: 1;\" transform=\"translate(0,354.03999999999996)\">0.02</text></g><g class=\"ytick\"><text text-anchor=\"end\" x=\"79\" y=\"4.199999999999999\" style=\"font-family: 'Open Sans', verdana, arial, sans-serif; font-size: 12px; fill: rgb(42, 63, 95); fill-opacity: 1; white-space: pre; opacity: 1;\" transform=\"translate(0,308.97)\">0.03</text></g><g class=\"ytick\"><text text-anchor=\"end\" x=\"79\" y=\"4.199999999999999\" style=\"font-family: 'Open Sans', verdana, arial, sans-serif; font-size: 12px; fill: rgb(42, 63, 95); fill-opacity: 1; white-space: pre; opacity: 1;\" transform=\"translate(0,263.90999999999997)\">0.04</text></g><g class=\"ytick\"><text text-anchor=\"end\" x=\"79\" y=\"4.199999999999999\" style=\"font-family: 'Open Sans', verdana, arial, sans-serif; font-size: 12px; fill: rgb(42, 63, 95); fill-opacity: 1; white-space: pre; opacity: 1;\" transform=\"translate(0,218.84)\">0.05</text></g><g class=\"ytick\"><text text-anchor=\"end\" x=\"79\" y=\"4.199999999999999\" style=\"font-family: 'Open Sans', verdana, arial, sans-serif; font-size: 12px; fill: rgb(42, 63, 95); fill-opacity: 1; white-space: pre; opacity: 1;\" transform=\"translate(0,173.76999999999998)\">0.06</text></g><g class=\"ytick\"><text text-anchor=\"end\" x=\"79\" y=\"4.199999999999999\" style=\"font-family: 'Open Sans', verdana, arial, sans-serif; font-size: 12px; fill: rgb(42, 63, 95); fill-opacity: 1; white-space: pre; opacity: 1;\" transform=\"translate(0,128.71)\">0.07</text></g></g><g class=\"overaxes-above\"/></g></g><g class=\"polarlayer\"/><g class=\"smithlayer\"/><g class=\"ternarylayer\"/><g class=\"geolayer\"/><g class=\"funnelarealayer\"/><g class=\"pielayer\"/><g class=\"iciclelayer\"/><g class=\"treemaplayer\"/><g class=\"sunburstlayer\"/><g class=\"glimages\"/><defs id=\"topdefs-406501\"><g class=\"clips\"/><clipPath id=\"legend406501\"><rect width=\"96\" height=\"48\" x=\"0\" y=\"0\"/></clipPath></defs><g class=\"layer-above\"><g class=\"imagelayer\"/><g class=\"shapelayer\"/></g><g class=\"infolayer\"><g class=\"legend\" pointer-events=\"all\" transform=\"translate(592.04,100)\"><rect class=\"bg\" shape-rendering=\"crispEdges\" width=\"96\" height=\"48\" x=\"0\" y=\"0\" style=\"stroke: rgb(68, 68, 68); stroke-opacity: 1; fill: rgb(255, 255, 255); fill-opacity: 1; stroke-width: 0px;\"/><g class=\"scrollbox\" transform=\"\" clip-path=\"url(#legend406501)\"><text class=\"legendtitletext\" text-anchor=\"start\" x=\"2\" y=\"18.2\" style=\"font-family: 'Open Sans', verdana, arial, sans-serif; font-size: 14px; fill: rgb(42, 63, 95); fill-opacity: 1; white-space: pre;\">Ticker</text><g class=\"groups\" transform=\"\"><g class=\"traces\" transform=\"translate(0,32.7)\" style=\"opacity: 1;\"><text class=\"legendtext\" text-anchor=\"start\" x=\"40\" y=\"4.680000000000001\" style=\"font-family: 'Open Sans', verdana, arial, sans-serif; font-size: 12px; fill: rgb(42, 63, 95); fill-opacity: 1; white-space: pre;\">SUBARU</text><g class=\"layers\" style=\"opacity: 1;\"><g class=\"legendfill\"/><g class=\"legendlines\"><path class=\"js-line\" d=\"M5,0h30\" style=\"fill: none; stroke: rgb(0, 0, 255); stroke-opacity: 1; stroke-width: 2px;\"/></g><g class=\"legendsymbols\"><g class=\"legendpoints\"><path class=\"scatterpts\" transform=\"translate(20,0)\" d=\"M3,0A3,3 0 1,1 0,-3A3,3 0 0,1 3,0Z\" style=\"opacity: 1; stroke-width: 0px; fill: rgb(0, 0, 255); fill-opacity: 1;\"/></g></g></g><rect class=\"legendtoggle\" x=\"0\" y=\"-9.5\" width=\"90.765625\" height=\"19\" style=\"fill: rgb(0, 0, 0); fill-opacity: 0;\"/></g></g></g><rect class=\"scrollbar\" rx=\"20\" ry=\"3\" width=\"0\" height=\"0\" x=\"0\" y=\"0\" style=\"fill: rgb(128, 139, 164); fill-opacity: 1;\"/></g><g class=\"g-gtitle\"><text class=\"gtitle\" x=\"35\" y=\"50\" text-anchor=\"start\" dy=\"0em\" style=\"font-family: 'Open Sans', verdana, arial, sans-serif; font-size: 17px; fill: rgb(42, 63, 95); opacity: 1; font-weight: normal; white-space: pre;\">SUBARU Volatility Analysis</text></g><g class=\"g-xtitle\"><text class=\"xtitle\" x=\"331\" y=\"476.409375\" text-anchor=\"middle\" style=\"font-family: 'Open Sans', verdana, arial, sans-serif; font-size: 14px; fill: rgb(42, 63, 95); opacity: 1; font-weight: normal; white-space: pre;\">Date</text></g><g class=\"g-ytitle\"><text class=\"ytitle\" transform=\"rotate(-90,26.934375000000003,260)\" x=\"26.934375000000003\" y=\"260\" text-anchor=\"middle\" style=\"font-family: 'Open Sans', verdana, arial, sans-serif; font-size: 14px; fill: rgb(42, 63, 95); opacity: 1; font-weight: normal; white-space: pre;\">Volatility</text></g></g></svg>"
      ]
     },
     "metadata": {},
     "output_type": "display_data"
    },
    {
     "data": {
      "image/svg+xml": [
       "<svg class=\"main-svg\" xmlns=\"http://www.w3.org/2000/svg\" xmlns:xlink=\"http://www.w3.org/1999/xlink\" width=\"700\" height=\"500\" style=\"\" viewBox=\"0 0 700 500\"><rect x=\"0\" y=\"0\" width=\"700\" height=\"500\" style=\"fill: rgb(255, 255, 255); fill-opacity: 1;\"/><defs id=\"defs-238582\"><g class=\"clips\"><clipPath id=\"clip238582xyplot\" class=\"plotclip\"><rect width=\"505\" height=\"320\"/></clipPath><clipPath class=\"axesclip\" id=\"clip238582x\"><rect x=\"80\" y=\"0\" width=\"505\" height=\"500\"/></clipPath><clipPath class=\"axesclip\" id=\"clip238582y\"><rect x=\"0\" y=\"100\" width=\"700\" height=\"320\"/></clipPath><clipPath class=\"axesclip\" id=\"clip238582xy\"><rect x=\"80\" y=\"100\" width=\"505\" height=\"320\"/></clipPath></g><g class=\"gradients\"/><g class=\"patterns\"/></defs><g class=\"bglayer\"><rect class=\"bg\" x=\"80\" y=\"100\" width=\"505\" height=\"320\" style=\"fill: rgb(229, 236, 246); fill-opacity: 1; stroke-width: 0;\"/></g><g class=\"layer-below\"><g class=\"imagelayer\"/><g class=\"shapelayer\"/></g><g class=\"cartesianlayer\"><g class=\"subplot xy\"><g class=\"layer-subplot\"><g class=\"shapelayer\"/><g class=\"imagelayer\"/></g><g class=\"minor-gridlayer\"><g class=\"x\"/><g class=\"y\"/></g><g class=\"gridlayer\"><g class=\"x\"><path class=\"xgrid crisp\" transform=\"translate(99.18,0)\" d=\"M0,100v320\" style=\"stroke: rgb(255, 255, 255); stroke-opacity: 1; stroke-width: 1px;\"/><path class=\"xgrid crisp\" transform=\"translate(167.95,0)\" d=\"M0,100v320\" style=\"stroke: rgb(255, 255, 255); stroke-opacity: 1; stroke-width: 1px;\"/><path class=\"xgrid crisp\" transform=\"translate(236.71,0)\" d=\"M0,100v320\" style=\"stroke: rgb(255, 255, 255); stroke-opacity: 1; stroke-width: 1px;\"/><path class=\"xgrid crisp\" transform=\"translate(305.48,0)\" d=\"M0,100v320\" style=\"stroke: rgb(255, 255, 255); stroke-opacity: 1; stroke-width: 1px;\"/><path class=\"xgrid crisp\" transform=\"translate(374.25,0)\" d=\"M0,100v320\" style=\"stroke: rgb(255, 255, 255); stroke-opacity: 1; stroke-width: 1px;\"/><path class=\"xgrid crisp\" transform=\"translate(443.02,0)\" d=\"M0,100v320\" style=\"stroke: rgb(255, 255, 255); stroke-opacity: 1; stroke-width: 1px;\"/><path class=\"xgrid crisp\" transform=\"translate(511.79,0)\" d=\"M0,100v320\" style=\"stroke: rgb(255, 255, 255); stroke-opacity: 1; stroke-width: 1px;\"/><path class=\"xgrid crisp\" transform=\"translate(580.56,0)\" d=\"M0,100v320\" style=\"stroke: rgb(255, 255, 255); stroke-opacity: 1; stroke-width: 1px;\"/></g><g class=\"y\"><path class=\"ygrid crisp\" transform=\"translate(0,396.2)\" d=\"M80,0h505\" style=\"stroke: rgb(255, 255, 255); stroke-opacity: 1; stroke-width: 1px;\"/><path class=\"ygrid crisp\" transform=\"translate(0,359.65)\" d=\"M80,0h505\" style=\"stroke: rgb(255, 255, 255); stroke-opacity: 1; stroke-width: 1px;\"/><path class=\"ygrid crisp\" transform=\"translate(0,323.11)\" d=\"M80,0h505\" style=\"stroke: rgb(255, 255, 255); stroke-opacity: 1; stroke-width: 1px;\"/><path class=\"ygrid crisp\" transform=\"translate(0,286.56)\" d=\"M80,0h505\" style=\"stroke: rgb(255, 255, 255); stroke-opacity: 1; stroke-width: 1px;\"/><path class=\"ygrid crisp\" transform=\"translate(0,250.02)\" d=\"M80,0h505\" style=\"stroke: rgb(255, 255, 255); stroke-opacity: 1; stroke-width: 1px;\"/><path class=\"ygrid crisp\" transform=\"translate(0,213.48000000000002)\" d=\"M80,0h505\" style=\"stroke: rgb(255, 255, 255); stroke-opacity: 1; stroke-width: 1px;\"/><path class=\"ygrid crisp\" transform=\"translate(0,176.93)\" d=\"M80,0h505\" style=\"stroke: rgb(255, 255, 255); stroke-opacity: 1; stroke-width: 1px;\"/><path class=\"ygrid crisp\" transform=\"translate(0,140.39)\" d=\"M80,0h505\" style=\"stroke: rgb(255, 255, 255); stroke-opacity: 1; stroke-width: 1px;\"/><path class=\"ygrid crisp\" transform=\"translate(0,103.84)\" d=\"M80,0h505\" style=\"stroke: rgb(255, 255, 255); stroke-opacity: 1; stroke-width: 1px;\"/></g></g><g class=\"zerolinelayer\"/><path class=\"xlines-below\"/><path class=\"ylines-below\"/><g class=\"overlines-below\"/><g class=\"xaxislayer-below\"/><g class=\"yaxislayer-below\"/><g class=\"overaxes-below\"/><g class=\"plot\" transform=\"translate(80,100)\" clip-path=\"url(#clip238582xyplot)\"><g class=\"scatterlayer mlayer\"><g class=\"trace scatter tracec9d0bf\" style=\"stroke-miterlimit: 2; opacity: 1;\"><g class=\"fills\"/><g class=\"errorbars\"/><g class=\"lines\"><path class=\"js-line\" d=\"M97.77,227.59L102.68,231.38L107.59,231.4L112.51,231.65L127.24,240.29L132.15,272.41L137.07,270.78L141.98,289.72L146.89,289.74L161.63,300.25L166.54,292.01L171.45,292.98L176.36,292.13L181.27,291.16L196.01,291.78L200.92,288.94L205.84,291.33L210.75,286.05L215.66,285.37L230.4,274.23L235.31,273.64L240.22,265.98L245.13,265.51L269.69,270.56L274.6,270.63L279.52,272.59L284.43,264.06L299.16,280L304.08,280.36L308.99,283.54L313.9,277.89L333.55,277.17L338.46,264.41L343.37,249.92L348.29,250.52L353.2,238.97L372.85,240.01L377.76,241.06L382.67,234.59L387.58,236.83L402.32,237.62L407.23,238.78L412.14,240.78L421.97,260.2L436.7,244.14L446.53,245.35L451.44,253.13L456.35,215.79L471.09,120.66L476,19.75\" style=\"vector-effect: non-scaling-stroke; fill: none; stroke: rgb(255, 165, 0); stroke-opacity: 1; stroke-width: 2px; opacity: 1;\"/></g><g class=\"points\"><path class=\"point\" transform=\"translate(97.77,227.59)\" d=\"M3,0A3,3 0 1,1 0,-3A3,3 0 0,1 3,0Z\" style=\"opacity: 1; stroke-width: 0px; fill: rgb(255, 165, 0); fill-opacity: 1;\"/><path class=\"point\" transform=\"translate(102.68,231.38)\" d=\"M3,0A3,3 0 1,1 0,-3A3,3 0 0,1 3,0Z\" style=\"opacity: 1; stroke-width: 0px; fill: rgb(255, 165, 0); fill-opacity: 1;\"/><path class=\"point\" transform=\"translate(107.59,231.4)\" d=\"M3,0A3,3 0 1,1 0,-3A3,3 0 0,1 3,0Z\" style=\"opacity: 1; stroke-width: 0px; fill: rgb(255, 165, 0); fill-opacity: 1;\"/><path class=\"point\" transform=\"translate(112.51,231.65)\" d=\"M3,0A3,3 0 1,1 0,-3A3,3 0 0,1 3,0Z\" style=\"opacity: 1; stroke-width: 0px; fill: rgb(255, 165, 0); fill-opacity: 1;\"/><path class=\"point\" transform=\"translate(127.24,240.29)\" d=\"M3,0A3,3 0 1,1 0,-3A3,3 0 0,1 3,0Z\" style=\"opacity: 1; stroke-width: 0px; fill: rgb(255, 165, 0); fill-opacity: 1;\"/><path class=\"point\" transform=\"translate(132.15,272.41)\" d=\"M3,0A3,3 0 1,1 0,-3A3,3 0 0,1 3,0Z\" style=\"opacity: 1; stroke-width: 0px; fill: rgb(255, 165, 0); fill-opacity: 1;\"/><path class=\"point\" transform=\"translate(137.07,270.78)\" d=\"M3,0A3,3 0 1,1 0,-3A3,3 0 0,1 3,0Z\" style=\"opacity: 1; stroke-width: 0px; fill: rgb(255, 165, 0); fill-opacity: 1;\"/><path class=\"point\" transform=\"translate(141.98,289.72)\" d=\"M3,0A3,3 0 1,1 0,-3A3,3 0 0,1 3,0Z\" style=\"opacity: 1; stroke-width: 0px; fill: rgb(255, 165, 0); fill-opacity: 1;\"/><path class=\"point\" transform=\"translate(146.89,289.74)\" d=\"M3,0A3,3 0 1,1 0,-3A3,3 0 0,1 3,0Z\" style=\"opacity: 1; stroke-width: 0px; fill: rgb(255, 165, 0); fill-opacity: 1;\"/><path class=\"point\" transform=\"translate(161.63,300.25)\" d=\"M3,0A3,3 0 1,1 0,-3A3,3 0 0,1 3,0Z\" style=\"opacity: 1; stroke-width: 0px; fill: rgb(255, 165, 0); fill-opacity: 1;\"/><path class=\"point\" transform=\"translate(166.54,292.01)\" d=\"M3,0A3,3 0 1,1 0,-3A3,3 0 0,1 3,0Z\" style=\"opacity: 1; stroke-width: 0px; fill: rgb(255, 165, 0); fill-opacity: 1;\"/><path class=\"point\" transform=\"translate(171.45,292.98)\" d=\"M3,0A3,3 0 1,1 0,-3A3,3 0 0,1 3,0Z\" style=\"opacity: 1; stroke-width: 0px; fill: rgb(255, 165, 0); fill-opacity: 1;\"/><path class=\"point\" transform=\"translate(176.36,292.13)\" d=\"M3,0A3,3 0 1,1 0,-3A3,3 0 0,1 3,0Z\" style=\"opacity: 1; stroke-width: 0px; fill: rgb(255, 165, 0); fill-opacity: 1;\"/><path class=\"point\" transform=\"translate(181.27,291.16)\" d=\"M3,0A3,3 0 1,1 0,-3A3,3 0 0,1 3,0Z\" style=\"opacity: 1; stroke-width: 0px; fill: rgb(255, 165, 0); fill-opacity: 1;\"/><path class=\"point\" transform=\"translate(196.01,291.78)\" d=\"M3,0A3,3 0 1,1 0,-3A3,3 0 0,1 3,0Z\" style=\"opacity: 1; stroke-width: 0px; fill: rgb(255, 165, 0); fill-opacity: 1;\"/><path class=\"point\" transform=\"translate(200.92,288.94)\" d=\"M3,0A3,3 0 1,1 0,-3A3,3 0 0,1 3,0Z\" style=\"opacity: 1; stroke-width: 0px; fill: rgb(255, 165, 0); fill-opacity: 1;\"/><path class=\"point\" transform=\"translate(205.84,291.33)\" d=\"M3,0A3,3 0 1,1 0,-3A3,3 0 0,1 3,0Z\" style=\"opacity: 1; stroke-width: 0px; fill: rgb(255, 165, 0); fill-opacity: 1;\"/><path class=\"point\" transform=\"translate(210.75,286.05)\" d=\"M3,0A3,3 0 1,1 0,-3A3,3 0 0,1 3,0Z\" style=\"opacity: 1; stroke-width: 0px; fill: rgb(255, 165, 0); fill-opacity: 1;\"/><path class=\"point\" transform=\"translate(215.66,285.37)\" d=\"M3,0A3,3 0 1,1 0,-3A3,3 0 0,1 3,0Z\" style=\"opacity: 1; stroke-width: 0px; fill: rgb(255, 165, 0); fill-opacity: 1;\"/><path class=\"point\" transform=\"translate(230.4,274.23)\" d=\"M3,0A3,3 0 1,1 0,-3A3,3 0 0,1 3,0Z\" style=\"opacity: 1; stroke-width: 0px; fill: rgb(255, 165, 0); fill-opacity: 1;\"/><path class=\"point\" transform=\"translate(235.31,273.64)\" d=\"M3,0A3,3 0 1,1 0,-3A3,3 0 0,1 3,0Z\" style=\"opacity: 1; stroke-width: 0px; fill: rgb(255, 165, 0); fill-opacity: 1;\"/><path class=\"point\" transform=\"translate(240.22,265.98)\" d=\"M3,0A3,3 0 1,1 0,-3A3,3 0 0,1 3,0Z\" style=\"opacity: 1; stroke-width: 0px; fill: rgb(255, 165, 0); fill-opacity: 1;\"/><path class=\"point\" transform=\"translate(245.13,265.51)\" d=\"M3,0A3,3 0 1,1 0,-3A3,3 0 0,1 3,0Z\" style=\"opacity: 1; stroke-width: 0px; fill: rgb(255, 165, 0); fill-opacity: 1;\"/><path class=\"point\" transform=\"translate(250.04,266.48)\" d=\"M3,0A3,3 0 1,1 0,-3A3,3 0 0,1 3,0Z\" style=\"opacity: 1; stroke-width: 0px; fill: rgb(255, 165, 0); fill-opacity: 1;\"/><path class=\"point\" transform=\"translate(264.78,268.94)\" d=\"M3,0A3,3 0 1,1 0,-3A3,3 0 0,1 3,0Z\" style=\"opacity: 1; stroke-width: 0px; fill: rgb(255, 165, 0); fill-opacity: 1;\"/><path class=\"point\" transform=\"translate(269.69,270.56)\" d=\"M3,0A3,3 0 1,1 0,-3A3,3 0 0,1 3,0Z\" style=\"opacity: 1; stroke-width: 0px; fill: rgb(255, 165, 0); fill-opacity: 1;\"/><path class=\"point\" transform=\"translate(274.6,270.63)\" d=\"M3,0A3,3 0 1,1 0,-3A3,3 0 0,1 3,0Z\" style=\"opacity: 1; stroke-width: 0px; fill: rgb(255, 165, 0); fill-opacity: 1;\"/><path class=\"point\" transform=\"translate(279.52,272.59)\" d=\"M3,0A3,3 0 1,1 0,-3A3,3 0 0,1 3,0Z\" style=\"opacity: 1; stroke-width: 0px; fill: rgb(255, 165, 0); fill-opacity: 1;\"/><path class=\"point\" transform=\"translate(284.43,264.06)\" d=\"M3,0A3,3 0 1,1 0,-3A3,3 0 0,1 3,0Z\" style=\"opacity: 1; stroke-width: 0px; fill: rgb(255, 165, 0); fill-opacity: 1;\"/><path class=\"point\" transform=\"translate(299.16,280)\" d=\"M3,0A3,3 0 1,1 0,-3A3,3 0 0,1 3,0Z\" style=\"opacity: 1; stroke-width: 0px; fill: rgb(255, 165, 0); fill-opacity: 1;\"/><path class=\"point\" transform=\"translate(304.08,280.36)\" d=\"M3,0A3,3 0 1,1 0,-3A3,3 0 0,1 3,0Z\" style=\"opacity: 1; stroke-width: 0px; fill: rgb(255, 165, 0); fill-opacity: 1;\"/><path class=\"point\" transform=\"translate(308.99,283.54)\" d=\"M3,0A3,3 0 1,1 0,-3A3,3 0 0,1 3,0Z\" style=\"opacity: 1; stroke-width: 0px; fill: rgb(255, 165, 0); fill-opacity: 1;\"/><path class=\"point\" transform=\"translate(313.9,277.89)\" d=\"M3,0A3,3 0 1,1 0,-3A3,3 0 0,1 3,0Z\" style=\"opacity: 1; stroke-width: 0px; fill: rgb(255, 165, 0); fill-opacity: 1;\"/><path class=\"point\" transform=\"translate(318.81,277.66)\" d=\"M3,0A3,3 0 1,1 0,-3A3,3 0 0,1 3,0Z\" style=\"opacity: 1; stroke-width: 0px; fill: rgb(255, 165, 0); fill-opacity: 1;\"/><path class=\"point\" transform=\"translate(333.55,277.17)\" d=\"M3,0A3,3 0 1,1 0,-3A3,3 0 0,1 3,0Z\" style=\"opacity: 1; stroke-width: 0px; fill: rgb(255, 165, 0); fill-opacity: 1;\"/><path class=\"point\" transform=\"translate(338.46,264.41)\" d=\"M3,0A3,3 0 1,1 0,-3A3,3 0 0,1 3,0Z\" style=\"opacity: 1; stroke-width: 0px; fill: rgb(255, 165, 0); fill-opacity: 1;\"/><path class=\"point\" transform=\"translate(343.37,249.92)\" d=\"M3,0A3,3 0 1,1 0,-3A3,3 0 0,1 3,0Z\" style=\"opacity: 1; stroke-width: 0px; fill: rgb(255, 165, 0); fill-opacity: 1;\"/><path class=\"point\" transform=\"translate(348.29,250.52)\" d=\"M3,0A3,3 0 1,1 0,-3A3,3 0 0,1 3,0Z\" style=\"opacity: 1; stroke-width: 0px; fill: rgb(255, 165, 0); fill-opacity: 1;\"/><path class=\"point\" transform=\"translate(353.2,238.97)\" d=\"M3,0A3,3 0 1,1 0,-3A3,3 0 0,1 3,0Z\" style=\"opacity: 1; stroke-width: 0px; fill: rgb(255, 165, 0); fill-opacity: 1;\"/><path class=\"point\" transform=\"translate(372.85,240.01)\" d=\"M3,0A3,3 0 1,1 0,-3A3,3 0 0,1 3,0Z\" style=\"opacity: 1; stroke-width: 0px; fill: rgb(255, 165, 0); fill-opacity: 1;\"/><path class=\"point\" transform=\"translate(377.76,241.06)\" d=\"M3,0A3,3 0 1,1 0,-3A3,3 0 0,1 3,0Z\" style=\"opacity: 1; stroke-width: 0px; fill: rgb(255, 165, 0); fill-opacity: 1;\"/><path class=\"point\" transform=\"translate(382.67,234.59)\" d=\"M3,0A3,3 0 1,1 0,-3A3,3 0 0,1 3,0Z\" style=\"opacity: 1; stroke-width: 0px; fill: rgb(255, 165, 0); fill-opacity: 1;\"/><path class=\"point\" transform=\"translate(387.58,236.83)\" d=\"M3,0A3,3 0 1,1 0,-3A3,3 0 0,1 3,0Z\" style=\"opacity: 1; stroke-width: 0px; fill: rgb(255, 165, 0); fill-opacity: 1;\"/><path class=\"point\" transform=\"translate(402.32,237.62)\" d=\"M3,0A3,3 0 1,1 0,-3A3,3 0 0,1 3,0Z\" style=\"opacity: 1; stroke-width: 0px; fill: rgb(255, 165, 0); fill-opacity: 1;\"/><path class=\"point\" transform=\"translate(407.23,238.78)\" d=\"M3,0A3,3 0 1,1 0,-3A3,3 0 0,1 3,0Z\" style=\"opacity: 1; stroke-width: 0px; fill: rgb(255, 165, 0); fill-opacity: 1;\"/><path class=\"point\" transform=\"translate(412.14,240.78)\" d=\"M3,0A3,3 0 1,1 0,-3A3,3 0 0,1 3,0Z\" style=\"opacity: 1; stroke-width: 0px; fill: rgb(255, 165, 0); fill-opacity: 1;\"/><path class=\"point\" transform=\"translate(417.05,251.1)\" d=\"M3,0A3,3 0 1,1 0,-3A3,3 0 0,1 3,0Z\" style=\"opacity: 1; stroke-width: 0px; fill: rgb(255, 165, 0); fill-opacity: 1;\"/><path class=\"point\" transform=\"translate(421.97,260.2)\" d=\"M3,0A3,3 0 1,1 0,-3A3,3 0 0,1 3,0Z\" style=\"opacity: 1; stroke-width: 0px; fill: rgb(255, 165, 0); fill-opacity: 1;\"/><path class=\"point\" transform=\"translate(436.7,244.14)\" d=\"M3,0A3,3 0 1,1 0,-3A3,3 0 0,1 3,0Z\" style=\"opacity: 1; stroke-width: 0px; fill: rgb(255, 165, 0); fill-opacity: 1;\"/><path class=\"point\" transform=\"translate(441.62,244.84)\" d=\"M3,0A3,3 0 1,1 0,-3A3,3 0 0,1 3,0Z\" style=\"opacity: 1; stroke-width: 0px; fill: rgb(255, 165, 0); fill-opacity: 1;\"/><path class=\"point\" transform=\"translate(446.53,245.35)\" d=\"M3,0A3,3 0 1,1 0,-3A3,3 0 0,1 3,0Z\" style=\"opacity: 1; stroke-width: 0px; fill: rgb(255, 165, 0); fill-opacity: 1;\"/><path class=\"point\" transform=\"translate(451.44,253.13)\" d=\"M3,0A3,3 0 1,1 0,-3A3,3 0 0,1 3,0Z\" style=\"opacity: 1; stroke-width: 0px; fill: rgb(255, 165, 0); fill-opacity: 1;\"/><path class=\"point\" transform=\"translate(456.35,215.79)\" d=\"M3,0A3,3 0 1,1 0,-3A3,3 0 0,1 3,0Z\" style=\"opacity: 1; stroke-width: 0px; fill: rgb(255, 165, 0); fill-opacity: 1;\"/><path class=\"point\" transform=\"translate(471.09,120.66)\" d=\"M3,0A3,3 0 1,1 0,-3A3,3 0 0,1 3,0Z\" style=\"opacity: 1; stroke-width: 0px; fill: rgb(255, 165, 0); fill-opacity: 1;\"/><path class=\"point\" transform=\"translate(476,19.75)\" d=\"M3,0A3,3 0 1,1 0,-3A3,3 0 0,1 3,0Z\" style=\"opacity: 1; stroke-width: 0px; fill: rgb(255, 165, 0); fill-opacity: 1;\"/></g><g class=\"text\"/></g></g></g><g class=\"overplot\"/><path class=\"xlines-above crisp\" d=\"M0,0\" style=\"fill: none;\"/><path class=\"ylines-above crisp\" d=\"M0,0\" style=\"fill: none;\"/><g class=\"overlines-above\"/><g class=\"xaxislayer-above\"><g class=\"xtick\"><text text-anchor=\"middle\" x=\"0\" y=\"433\" transform=\"translate(99.18,0)\" style=\"font-family: 'Open Sans', verdana, arial, sans-serif; font-size: 12px; fill: rgb(42, 63, 95); fill-opacity: 1; white-space: pre; opacity: 1;\"><tspan class=\"line\" dy=\"0em\" x=\"0\" y=\"433\">May 5</tspan><tspan class=\"line\" dy=\"1.3em\" x=\"0\" y=\"433\">2024</tspan></text></g><g class=\"xtick\"><text text-anchor=\"middle\" x=\"0\" y=\"433\" style=\"font-family: 'Open Sans', verdana, arial, sans-serif; font-size: 12px; fill: rgb(42, 63, 95); fill-opacity: 1; white-space: pre; opacity: 1;\" transform=\"translate(167.95,0)\">May 19</text></g><g class=\"xtick\"><text text-anchor=\"middle\" x=\"0\" y=\"433\" style=\"font-family: 'Open Sans', verdana, arial, sans-serif; font-size: 12px; fill: rgb(42, 63, 95); fill-opacity: 1; white-space: pre; opacity: 1;\" transform=\"translate(236.71,0)\">Jun 2</text></g><g class=\"xtick\"><text text-anchor=\"middle\" x=\"0\" y=\"433\" style=\"font-family: 'Open Sans', verdana, arial, sans-serif; font-size: 12px; fill: rgb(42, 63, 95); fill-opacity: 1; white-space: pre; opacity: 1;\" transform=\"translate(305.48,0)\">Jun 16</text></g><g class=\"xtick\"><text text-anchor=\"middle\" x=\"0\" y=\"433\" style=\"font-family: 'Open Sans', verdana, arial, sans-serif; font-size: 12px; fill: rgb(42, 63, 95); fill-opacity: 1; white-space: pre; opacity: 1;\" transform=\"translate(374.25,0)\">Jun 30</text></g><g class=\"xtick\"><text text-anchor=\"middle\" x=\"0\" y=\"433\" style=\"font-family: 'Open Sans', verdana, arial, sans-serif; font-size: 12px; fill: rgb(42, 63, 95); fill-opacity: 1; white-space: pre; opacity: 1;\" transform=\"translate(443.02,0)\">Jul 14</text></g><g class=\"xtick\"><text text-anchor=\"middle\" x=\"0\" y=\"433\" style=\"font-family: 'Open Sans', verdana, arial, sans-serif; font-size: 12px; fill: rgb(42, 63, 95); fill-opacity: 1; white-space: pre; opacity: 1;\" transform=\"translate(511.79,0)\">Jul 28</text></g><g class=\"xtick\"><text text-anchor=\"middle\" x=\"0\" y=\"433\" style=\"font-family: 'Open Sans', verdana, arial, sans-serif; font-size: 12px; fill: rgb(42, 63, 95); fill-opacity: 1; white-space: pre; opacity: 1;\" transform=\"translate(580.56,0)\">Aug 11</text></g></g><g class=\"yaxislayer-above\"><g class=\"ytick\"><text text-anchor=\"end\" x=\"79\" y=\"4.199999999999999\" transform=\"translate(0,396.2)\" style=\"font-family: 'Open Sans', verdana, arial, sans-serif; font-size: 12px; fill: rgb(42, 63, 95); fill-opacity: 1; white-space: pre; opacity: 1;\">0.01</text></g><g class=\"ytick\"><text text-anchor=\"end\" x=\"79\" y=\"4.199999999999999\" style=\"font-family: 'Open Sans', verdana, arial, sans-serif; font-size: 12px; fill: rgb(42, 63, 95); fill-opacity: 1; white-space: pre; opacity: 1;\" transform=\"translate(0,359.65)\">0.02</text></g><g class=\"ytick\"><text text-anchor=\"end\" x=\"79\" y=\"4.199999999999999\" style=\"font-family: 'Open Sans', verdana, arial, sans-serif; font-size: 12px; fill: rgb(42, 63, 95); fill-opacity: 1; white-space: pre; opacity: 1;\" transform=\"translate(0,323.11)\">0.03</text></g><g class=\"ytick\"><text text-anchor=\"end\" x=\"79\" y=\"4.199999999999999\" style=\"font-family: 'Open Sans', verdana, arial, sans-serif; font-size: 12px; fill: rgb(42, 63, 95); fill-opacity: 1; white-space: pre; opacity: 1;\" transform=\"translate(0,286.56)\">0.04</text></g><g class=\"ytick\"><text text-anchor=\"end\" x=\"79\" y=\"4.199999999999999\" style=\"font-family: 'Open Sans', verdana, arial, sans-serif; font-size: 12px; fill: rgb(42, 63, 95); fill-opacity: 1; white-space: pre; opacity: 1;\" transform=\"translate(0,250.02)\">0.05</text></g><g class=\"ytick\"><text text-anchor=\"end\" x=\"79\" y=\"4.199999999999999\" style=\"font-family: 'Open Sans', verdana, arial, sans-serif; font-size: 12px; fill: rgb(42, 63, 95); fill-opacity: 1; white-space: pre; opacity: 1;\" transform=\"translate(0,213.48000000000002)\">0.06</text></g><g class=\"ytick\"><text text-anchor=\"end\" x=\"79\" y=\"4.199999999999999\" style=\"font-family: 'Open Sans', verdana, arial, sans-serif; font-size: 12px; fill: rgb(42, 63, 95); fill-opacity: 1; white-space: pre; opacity: 1;\" transform=\"translate(0,176.93)\">0.07</text></g><g class=\"ytick\"><text text-anchor=\"end\" x=\"79\" y=\"4.199999999999999\" style=\"font-family: 'Open Sans', verdana, arial, sans-serif; font-size: 12px; fill: rgb(42, 63, 95); fill-opacity: 1; white-space: pre; opacity: 1;\" transform=\"translate(0,140.39)\">0.08</text></g><g class=\"ytick\"><text text-anchor=\"end\" x=\"79\" y=\"4.199999999999999\" style=\"font-family: 'Open Sans', verdana, arial, sans-serif; font-size: 12px; fill: rgb(42, 63, 95); fill-opacity: 1; white-space: pre; opacity: 1;\" transform=\"translate(0,103.84)\">0.09</text></g></g><g class=\"overaxes-above\"/></g></g><g class=\"polarlayer\"/><g class=\"smithlayer\"/><g class=\"ternarylayer\"/><g class=\"geolayer\"/><g class=\"funnelarealayer\"/><g class=\"pielayer\"/><g class=\"iciclelayer\"/><g class=\"treemaplayer\"/><g class=\"sunburstlayer\"/><g class=\"glimages\"/><defs id=\"topdefs-238582\"><g class=\"clips\"/><clipPath id=\"legend238582\"><rect width=\"93\" height=\"48\" x=\"0\" y=\"0\"/></clipPath></defs><g class=\"layer-above\"><g class=\"imagelayer\"/><g class=\"shapelayer\"/></g><g class=\"infolayer\"><g class=\"legend\" pointer-events=\"all\" transform=\"translate(595.1,100)\"><rect class=\"bg\" shape-rendering=\"crispEdges\" width=\"93\" height=\"48\" x=\"0\" y=\"0\" style=\"stroke: rgb(68, 68, 68); stroke-opacity: 1; fill: rgb(255, 255, 255); fill-opacity: 1; stroke-width: 0px;\"/><g class=\"scrollbox\" transform=\"\" clip-path=\"url(#legend238582)\"><text class=\"legendtitletext\" text-anchor=\"start\" x=\"2\" y=\"18.2\" style=\"font-family: 'Open Sans', verdana, arial, sans-serif; font-size: 14px; fill: rgb(42, 63, 95); fill-opacity: 1; white-space: pre;\">Ticker</text><g class=\"groups\" transform=\"\"><g class=\"traces\" transform=\"translate(0,32.7)\" style=\"opacity: 1;\"><text class=\"legendtext\" text-anchor=\"start\" x=\"40\" y=\"4.680000000000001\" style=\"font-family: 'Open Sans', verdana, arial, sans-serif; font-size: 12px; fill: rgb(42, 63, 95); fill-opacity: 1; white-space: pre;\">SUZUKI</text><g class=\"layers\" style=\"opacity: 1;\"><g class=\"legendfill\"/><g class=\"legendlines\"><path class=\"js-line\" d=\"M5,0h30\" style=\"fill: none; stroke: rgb(255, 165, 0); stroke-opacity: 1; stroke-width: 2px;\"/></g><g class=\"legendsymbols\"><g class=\"legendpoints\"><path class=\"scatterpts\" transform=\"translate(20,0)\" d=\"M3,0A3,3 0 1,1 0,-3A3,3 0 0,1 3,0Z\" style=\"opacity: 1; stroke-width: 0px; fill: rgb(255, 165, 0); fill-opacity: 1;\"/></g></g></g><rect class=\"legendtoggle\" x=\"0\" y=\"-9.5\" width=\"87.359375\" height=\"19\" style=\"fill: rgb(0, 0, 0); fill-opacity: 0;\"/></g></g></g><rect class=\"scrollbar\" rx=\"20\" ry=\"3\" width=\"0\" height=\"0\" x=\"0\" y=\"0\" style=\"fill: rgb(128, 139, 164); fill-opacity: 1;\"/></g><g class=\"g-gtitle\"><text class=\"gtitle\" x=\"35\" y=\"50\" text-anchor=\"start\" dy=\"0em\" style=\"font-family: 'Open Sans', verdana, arial, sans-serif; font-size: 17px; fill: rgb(42, 63, 95); opacity: 1; font-weight: normal; white-space: pre;\">SUZUKI Volatility Analysis</text></g><g class=\"g-xtitle\"><text class=\"xtitle\" x=\"332.5\" y=\"476.409375\" text-anchor=\"middle\" style=\"font-family: 'Open Sans', verdana, arial, sans-serif; font-size: 14px; fill: rgb(42, 63, 95); opacity: 1; font-weight: normal; white-space: pre;\">Date</text></g><g class=\"g-ytitle\"><text class=\"ytitle\" transform=\"rotate(-90,26.934375000000003,260)\" x=\"26.934375000000003\" y=\"260\" text-anchor=\"middle\" style=\"font-family: 'Open Sans', verdana, arial, sans-serif; font-size: 14px; fill: rgb(42, 63, 95); opacity: 1; font-weight: normal; white-space: pre;\">Volatility</text></g></g></svg>"
      ]
     },
     "metadata": {},
     "output_type": "display_data"
    }
   ],
   "source": [
    "#manual assigning of colors to change for each graph\n",
    "colors=[\"Magenta\",\"Green\",\"Blue\",\"Orange\"]\n",
    "counter = 0\n",
    "#plot line graph for volatility values\n",
    "for cols in stock_code.values():\n",
    "    vol_df = stock_df[stock_df[\"Ticker\"]==cols]\n",
    "    fig = px.line(data_frame=vol_df,x=\"Date\",y=\"Volatility\",color=\"Ticker\"\n",
    "                 ,title=f\"{cols} Volatility Analysis\",markers=True,color_discrete_sequence=[colors[counter]])\n",
    "    counter += 1\n",
    "\n",
    "    fig.show(\"svg\")"
   ]
  },
  {
   "cell_type": "markdown",
   "id": "b845cf0c-67b3-455b-8300-946eb94732dd",
   "metadata": {},
   "source": [
    "High volatility indicates that the stock or market experiences large and frequent price movements, while low volatility indicates that the market experiences smaller or less frequent price movements.\n",
    "\n",
    "#### From the above Volatility Analysis graphs, we see all 4 stocks are experiencing high volatility, which means above stocks would experience frequent price movements in the near future."
   ]
  },
  {
   "cell_type": "markdown",
   "id": "35f519db-d228-4a3a-852c-9ef4e4e17282",
   "metadata": {},
   "source": [
    "### 5. Correlation Analysis"
   ]
  },
  {
   "cell_type": "markdown",
   "id": "6a9401b1-ab19-4b5c-9ff0-5ac14ba9d3fe",
   "metadata": {},
   "source": [
    "Pearson Correlation Coefficient: This statistical measure shows the linear relationship between two stocks. Values range from -1 to 1, where 1 indicates perfect positive correlation, -1 indicates perfect negative correlation, and 0 indicates no correlation.\n",
    "\n",
    "Purpose: Correlation analysis helps in understanding how different stocks move in relation to each other, aiding in risk management and portfolio optimization."
   ]
  },
  {
   "cell_type": "code",
   "execution_count": 47,
   "id": "19246813-3cec-4fd9-aeb5-05bfd80afa1c",
   "metadata": {},
   "outputs": [
    {
     "data": {
      "text/html": [
       "<div>\n",
       "<style scoped>\n",
       "    .dataframe tbody tr th:only-of-type {\n",
       "        vertical-align: middle;\n",
       "    }\n",
       "\n",
       "    .dataframe tbody tr th {\n",
       "        vertical-align: top;\n",
       "    }\n",
       "\n",
       "    .dataframe thead th {\n",
       "        text-align: right;\n",
       "    }\n",
       "</style>\n",
       "<table border=\"1\" class=\"dataframe\">\n",
       "  <thead>\n",
       "    <tr style=\"text-align: right;\">\n",
       "      <th></th>\n",
       "      <th>Ticker</th>\n",
       "      <th>Date</th>\n",
       "      <th>Open</th>\n",
       "      <th>High</th>\n",
       "      <th>Low</th>\n",
       "      <th>Close</th>\n",
       "      <th>Adj Close</th>\n",
       "      <th>Volume</th>\n",
       "      <th>MA_10</th>\n",
       "      <th>MA_20</th>\n",
       "      <th>Volatility</th>\n",
       "    </tr>\n",
       "  </thead>\n",
       "  <tbody>\n",
       "    <tr>\n",
       "      <th>0</th>\n",
       "      <td>TOYOTA</td>\n",
       "      <td>2024-05-07</td>\n",
       "      <td>3650.0</td>\n",
       "      <td>3650.0</td>\n",
       "      <td>3562.0</td>\n",
       "      <td>3599.0</td>\n",
       "      <td>3599.0</td>\n",
       "      <td>25496600</td>\n",
       "      <td>NaN</td>\n",
       "      <td>NaN</td>\n",
       "      <td>NaN</td>\n",
       "    </tr>\n",
       "    <tr>\n",
       "      <th>1</th>\n",
       "      <td>TOYOTA</td>\n",
       "      <td>2024-05-08</td>\n",
       "      <td>3547.0</td>\n",
       "      <td>3674.0</td>\n",
       "      <td>3453.0</td>\n",
       "      <td>3579.0</td>\n",
       "      <td>3579.0</td>\n",
       "      <td>68295000</td>\n",
       "      <td>NaN</td>\n",
       "      <td>NaN</td>\n",
       "      <td>NaN</td>\n",
       "    </tr>\n",
       "    <tr>\n",
       "      <th>2</th>\n",
       "      <td>TOYOTA</td>\n",
       "      <td>2024-05-09</td>\n",
       "      <td>3595.0</td>\n",
       "      <td>3595.0</td>\n",
       "      <td>3473.0</td>\n",
       "      <td>3528.0</td>\n",
       "      <td>3528.0</td>\n",
       "      <td>40742400</td>\n",
       "      <td>NaN</td>\n",
       "      <td>NaN</td>\n",
       "      <td>NaN</td>\n",
       "    </tr>\n",
       "    <tr>\n",
       "      <th>3</th>\n",
       "      <td>TOYOTA</td>\n",
       "      <td>2024-05-10</td>\n",
       "      <td>3504.0</td>\n",
       "      <td>3540.0</td>\n",
       "      <td>3386.0</td>\n",
       "      <td>3425.0</td>\n",
       "      <td>3425.0</td>\n",
       "      <td>50941700</td>\n",
       "      <td>NaN</td>\n",
       "      <td>NaN</td>\n",
       "      <td>NaN</td>\n",
       "    </tr>\n",
       "    <tr>\n",
       "      <th>4</th>\n",
       "      <td>TOYOTA</td>\n",
       "      <td>2024-05-13</td>\n",
       "      <td>3417.0</td>\n",
       "      <td>3434.0</td>\n",
       "      <td>3351.0</td>\n",
       "      <td>3366.0</td>\n",
       "      <td>3366.0</td>\n",
       "      <td>30544300</td>\n",
       "      <td>NaN</td>\n",
       "      <td>NaN</td>\n",
       "      <td>NaN</td>\n",
       "    </tr>\n",
       "  </tbody>\n",
       "</table>\n",
       "</div>"
      ],
      "text/plain": [
       "   Ticker       Date    Open    High     Low   Close  Adj Close    Volume  \\\n",
       "0  TOYOTA 2024-05-07  3650.0  3650.0  3562.0  3599.0     3599.0  25496600   \n",
       "1  TOYOTA 2024-05-08  3547.0  3674.0  3453.0  3579.0     3579.0  68295000   \n",
       "2  TOYOTA 2024-05-09  3595.0  3595.0  3473.0  3528.0     3528.0  40742400   \n",
       "3  TOYOTA 2024-05-10  3504.0  3540.0  3386.0  3425.0     3425.0  50941700   \n",
       "4  TOYOTA 2024-05-13  3417.0  3434.0  3351.0  3366.0     3366.0  30544300   \n",
       "\n",
       "   MA_10  MA_20  Volatility  \n",
       "0    NaN    NaN         NaN  \n",
       "1    NaN    NaN         NaN  \n",
       "2    NaN    NaN         NaN  \n",
       "3    NaN    NaN         NaN  \n",
       "4    NaN    NaN         NaN  "
      ]
     },
     "execution_count": 47,
     "metadata": {},
     "output_type": "execute_result"
    }
   ],
   "source": [
    "stock_df.head()"
   ]
  },
  {
   "cell_type": "code",
   "execution_count": 48,
   "id": "fd5d334f-61a1-4c7f-b932-c4c707061501",
   "metadata": {},
   "outputs": [
    {
     "data": {
      "text/html": [
       "<div>\n",
       "<style scoped>\n",
       "    .dataframe tbody tr th:only-of-type {\n",
       "        vertical-align: middle;\n",
       "    }\n",
       "\n",
       "    .dataframe tbody tr th {\n",
       "        vertical-align: top;\n",
       "    }\n",
       "\n",
       "    .dataframe thead th {\n",
       "        text-align: right;\n",
       "    }\n",
       "</style>\n",
       "<table border=\"1\" class=\"dataframe\">\n",
       "  <thead>\n",
       "    <tr style=\"text-align: right;\">\n",
       "      <th></th>\n",
       "      <th>TOYOTA_Close</th>\n",
       "      <th>HONDA_Close</th>\n",
       "      <th>SUBARU_Close</th>\n",
       "      <th>SUZUKI_Close</th>\n",
       "    </tr>\n",
       "  </thead>\n",
       "  <tbody>\n",
       "    <tr>\n",
       "      <th>0</th>\n",
       "      <td>3599.0</td>\n",
       "      <td>1773.5</td>\n",
       "      <td>3410.0</td>\n",
       "      <td>1806.5</td>\n",
       "    </tr>\n",
       "    <tr>\n",
       "      <th>1</th>\n",
       "      <td>3579.0</td>\n",
       "      <td>1750.0</td>\n",
       "      <td>3327.0</td>\n",
       "      <td>1767.5</td>\n",
       "    </tr>\n",
       "    <tr>\n",
       "      <th>2</th>\n",
       "      <td>3528.0</td>\n",
       "      <td>1748.0</td>\n",
       "      <td>3341.0</td>\n",
       "      <td>1767.5</td>\n",
       "    </tr>\n",
       "    <tr>\n",
       "      <th>3</th>\n",
       "      <td>3425.0</td>\n",
       "      <td>1736.5</td>\n",
       "      <td>3325.0</td>\n",
       "      <td>1787.0</td>\n",
       "    </tr>\n",
       "    <tr>\n",
       "      <th>4</th>\n",
       "      <td>3366.0</td>\n",
       "      <td>1756.0</td>\n",
       "      <td>3199.0</td>\n",
       "      <td>1737.5</td>\n",
       "    </tr>\n",
       "  </tbody>\n",
       "</table>\n",
       "</div>"
      ],
      "text/plain": [
       "   TOYOTA_Close  HONDA_Close  SUBARU_Close  SUZUKI_Close\n",
       "0        3599.0       1773.5        3410.0        1806.5\n",
       "1        3579.0       1750.0        3327.0        1767.5\n",
       "2        3528.0       1748.0        3341.0        1767.5\n",
       "3        3425.0       1736.5        3325.0        1787.0\n",
       "4        3366.0       1756.0        3199.0        1737.5"
      ]
     },
     "execution_count": 48,
     "metadata": {},
     "output_type": "execute_result"
    }
   ],
   "source": [
    "#create a empty dataframe for holding the close values of 4 companies\n",
    "corr_df = pd.DataFrame()\n",
    "\n",
    "#filtering the dataframe to contain only required data\n",
    "for cols in stock_code.values():\n",
    "    temp_df = pd.DataFrame()\n",
    "    temp_df[str(cols)+\"_Close\"] = stock_df[stock_df[\"Ticker\"]==cols][\"Close\"]\n",
    "    temp_df = temp_df.reset_index(drop=True)\n",
    "    corr_df = pd.concat([corr_df,temp_df],axis=1)\n",
    "\n",
    "corr_df.head()"
   ]
  },
  {
   "cell_type": "markdown",
   "id": "3ef71b09-9bb6-447a-83f5-b48ce77f125f",
   "metadata": {},
   "source": [
    "#### Default correlation method in Pandas is Pearson Correlation"
   ]
  },
  {
   "cell_type": "code",
   "execution_count": 49,
   "id": "59594f08-092a-4c88-8df3-3883b53ec3d8",
   "metadata": {},
   "outputs": [
    {
     "data": {
      "text/html": [
       "<div>\n",
       "<style scoped>\n",
       "    .dataframe tbody tr th:only-of-type {\n",
       "        vertical-align: middle;\n",
       "    }\n",
       "\n",
       "    .dataframe tbody tr th {\n",
       "        vertical-align: top;\n",
       "    }\n",
       "\n",
       "    .dataframe thead th {\n",
       "        text-align: right;\n",
       "    }\n",
       "</style>\n",
       "<table border=\"1\" class=\"dataframe\">\n",
       "  <thead>\n",
       "    <tr style=\"text-align: right;\">\n",
       "      <th></th>\n",
       "      <th>TOYOTA_Close</th>\n",
       "      <th>HONDA_Close</th>\n",
       "      <th>SUBARU_Close</th>\n",
       "      <th>SUZUKI_Close</th>\n",
       "    </tr>\n",
       "  </thead>\n",
       "  <tbody>\n",
       "    <tr>\n",
       "      <th>TOYOTA_Close</th>\n",
       "      <td>1.000000</td>\n",
       "      <td>0.940549</td>\n",
       "      <td>0.846429</td>\n",
       "      <td>0.707496</td>\n",
       "    </tr>\n",
       "    <tr>\n",
       "      <th>HONDA_Close</th>\n",
       "      <td>0.940549</td>\n",
       "      <td>1.000000</td>\n",
       "      <td>0.903111</td>\n",
       "      <td>0.810252</td>\n",
       "    </tr>\n",
       "    <tr>\n",
       "      <th>SUBARU_Close</th>\n",
       "      <td>0.846429</td>\n",
       "      <td>0.903111</td>\n",
       "      <td>1.000000</td>\n",
       "      <td>0.848627</td>\n",
       "    </tr>\n",
       "    <tr>\n",
       "      <th>SUZUKI_Close</th>\n",
       "      <td>0.707496</td>\n",
       "      <td>0.810252</td>\n",
       "      <td>0.848627</td>\n",
       "      <td>1.000000</td>\n",
       "    </tr>\n",
       "  </tbody>\n",
       "</table>\n",
       "</div>"
      ],
      "text/plain": [
       "              TOYOTA_Close  HONDA_Close  SUBARU_Close  SUZUKI_Close\n",
       "TOYOTA_Close      1.000000     0.940549      0.846429      0.707496\n",
       "HONDA_Close       0.940549     1.000000      0.903111      0.810252\n",
       "SUBARU_Close      0.846429     0.903111      1.000000      0.848627\n",
       "SUZUKI_Close      0.707496     0.810252      0.848627      1.000000"
      ]
     },
     "execution_count": 49,
     "metadata": {},
     "output_type": "execute_result"
    }
   ],
   "source": [
    "#correlation calculation\n",
    "corr_values = corr_df.corr()\n",
    "corr_values"
   ]
  },
  {
   "cell_type": "code",
   "execution_count": 50,
   "id": "19115753-424e-4653-bba2-06547caf8c3e",
   "metadata": {},
   "outputs": [
    {
     "data": {
      "text/plain": [
       "(array([0.5, 1.5, 2.5, 3.5]),\n",
       " [Text(0, 0.5, 'TOYOTA_Close'),\n",
       "  Text(0, 1.5, 'HONDA_Close'),\n",
       "  Text(0, 2.5, 'SUBARU_Close'),\n",
       "  Text(0, 3.5, 'SUZUKI_Close')])"
      ]
     },
     "execution_count": 50,
     "metadata": {},
     "output_type": "execute_result"
    },
    {
     "data": {
      "image/png": "[encoded data removed]",
      "text/plain": [
       "<Figure size 640x480 with 2 Axes>"
      ]
     },
     "metadata": {},
     "output_type": "display_data"
    }
   ],
   "source": [
    "#plotting a correlation heatmap\n",
    "color = sns.color_palette(\"crest\", as_cmap=True)\n",
    "ax = sns.heatmap(data=corr_values,annot=True,cmap=color,linewidths=.7)\n",
    "ax.set(xlabel = \"\",ylabel=\"\")\n",
    "ax.xaxis.tick_top()\n",
    "ax.set_title('CORRELATION HEATMAP', fontdict={'fontsize':16,\"color\":\"Green\"}, pad=20)\n",
    "plt.xticks(fontsize=9,rotation=0)\n",
    "plt.yticks(fontsize=9,rotation=0)\n"
   ]
  },
  {
   "cell_type": "markdown",
   "id": "aa4c7b7e-d5fa-4d39-a59c-1ddd77a63c30",
   "metadata": {},
   "source": [
    "#### From the above Correlation Heatmap, we see there is direct correlation between (TOYOTA & HONDA) as well as (SUBARU & HONDA)\n",
    "#### Which means when stock price of TOYOTA increases, HONDA stock prices will increase.\n",
    "#### Similarly when HONDA stock price increase, SUBARU as well increases"
   ]
  }
 ],
 "metadata": {
  "kernelspec": {
   "display_name": "Python 3 (ipykernel)",
   "language": "python",
   "name": "python3"
  },
  "language_info": {
   "codemirror_mode": {
    "name": "ipython",
    "version": 3
   },
   "file_extension": ".py",
   "mimetype": "text/x-python",
   "name": "python",
   "nbconvert_exporter": "python",
   "pygments_lexer": "ipython3",
   "version": "3.11.7"
  }
 },
 "nbformat": 4,
 "nbformat_minor": 5
}
